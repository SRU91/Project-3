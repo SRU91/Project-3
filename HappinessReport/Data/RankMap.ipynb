{
 "cells": [
  {
   "cell_type": "code",
   "execution_count": 1,
   "id": "fc88e88e",
   "metadata": {},
   "outputs": [],
   "source": [
    "import pandas as pd"
   ]
  },
  {
   "cell_type": "code",
   "execution_count": 6,
   "id": "82956a18",
   "metadata": {},
   "outputs": [],
   "source": [
    "csv_file = 'cleanCSVs/Happiness_Score_2015.csv'\n",
    "\n",
    "data = pd.read_csv(csv_file)"
   ]
  },
  {
   "cell_type": "code",
   "execution_count": 58,
   "id": "c1926a0a",
   "metadata": {},
   "outputs": [],
   "source": [
    "import plotly.graph_objects as go\n",
    "\n",
    "color_scale = 'fall'\n",
    "\n",
    "fig = go.Figure(data=go.Scattergeo(\n",
    "    lon = data['Longitude'],\n",
    "    lat = data['Latitude'],\n",
    "    text = data['Country']+'<br>'+'Ranking:' + data['2015 Happiness Rank'].astype(str),\n",
    "    mode = 'markers',\n",
    "    marker=dict(\n",
    "        size=10,\n",
    "        opacity=0.8,\n",
    "        color=data['2015 Happiness Rank'],  \n",
    "        colorscale=color_scale,  \n",
    "        cmin=data['2015 Happiness Rank'].min(),  \n",
    "        cmax=data['2015 Happiness Rank'].max(), \n",
    "        colorbar_title='2015 Happiness Rank',\n",
    "        line=dict(width=1, color='black')\n",
    "    )\n",
    "))\n",
    "\n",
    "\n"
   ]
  },
  {
   "cell_type": "code",
   "execution_count": 59,
   "id": "80c1f219",
   "metadata": {},
   "outputs": [
    {
     "data": {
      "application/vnd.plotly.v1+json": {
       "config": {
        "plotlyServerURL": "https://plot.ly"
       },
       "data": [
        {
         "lat": [
          46.7985624,
          64.9841821,
          55.670249,
          61.1529386,
          61.0666922,
          63.2467777,
          52.2434979,
          59.6749712,
          -41.5000831,
          -24.7761086,
          30.8124247,
          10.2735633,
          47.59397,
          23.6585116,
          39.7837304,
          -10.3333333,
          49.8158683,
          52.865196,
          50.6402809,
          24.0002488,
          54.7023545,
          21.0000287,
          8.0018709,
          1.357107,
          8.559559,
          51.1638175,
          -31.7613365,
          25.3336984,
          46.603354,
          -34.9964963,
          49.7439047,
          -32.8755548,
          4.099917,
          14.8971921,
          25.6242618,
          39.3260685,
          35.8885993,
          23.9739374,
          29.2733964,
          4.1413025,
          10.7466905,
          13.8000382,
          15.5855545,
          41.32373,
          48.7411522,
          36.5748441,
          36.638392,
          -1.3397668,
          26.1551249,
          42.6384261,
          -17.0568696,
          47.2879608,
          -23.3165935,
          48.1012954,
          46.1199444,
          55.3500003,
          12.6090157,
          -6.8699697,
          53.4250605,
          52.215933,
          4.5693754,
          45.3658443,
          26.8234472,
          64.6863136,
          18.1850507,
          35.2245313,
          34.9823018,
          28.0000272,
          42.5869578,
          39.3763807,
          -20.2759451,
          22.2793278,
          58.7523778,
          -2.4833826,
          15.9266657,
          38.9597594,
          41.5089324,
          9.6000359,
          27.549511,
          40.3936294,
          30.3308401,
          31.1667049,
          42.9868853,
          35.000074,
          -14.5189121,
          45.9852129,
          44.1534121,
          39.6621648,
          56.8406494,
          12.7503486,
          10.3743673,
          31.1728205,
          41.6171214,
          -19.302233,
          41.000028,
          44.3053476,
          -29.6039267,
          19.0974031,
          20.0171109,
          46.8250388,
          -26.5624806,
          38.9953683,
          33.8750629,
          47.1817585,
          15.2572432,
          38.6281733,
          33.8439408,
          31.46242095,
          24.4769288,
          32.6475314,
          49.4871968,
          33.0955793,
          -28.8166236,
          8.0300284,
          -18.4554963,
          5.7499721,
          22.3511148,
          14.5844444,
          19.1399952,
          -2.9814344,
          28.1083929,
          10.2116702,
          8.6400349,
          20.2540382,
          1.4419683,
          11.8145966,
          40.7696272,
          -23.1681782,
          17.1750495,
          32.3293809,
          -13.2687204,
          7.877395849999999,
          4.6125522,
          42.6073975,
          26.2540493,
          16.3471243,
          -11.8775768,
          16.3700359,
          -0.7264327,
          -12.2045176,
          1.5333554,
          14.4750607,
          -0.8999695,
          17.7356214,
          12.5433216,
          -6.5247123,
          -18.9249604,
          7.0323598,
          15.6134137,
          10.7226226,
          7.9897371,
          12.0753083,
          33.7680065,
          -1.9646631,
          9.5293472,
          34.6401861,
          -3.426449,
          8.7800265
         ],
         "lon": [
          8.2319736,
          -18.1059013,
          10.3333283,
          8.7876653,
          -107.991707,
          25.9209164,
          5.6343227,
          14.5208584,
          172.8344077,
          134.755,
          34.8594762,
          -84.0739102,
          14.12456,
          -102.0077097,
          -100.445882,
          -53.2,
          6.1296751,
          -7.9794599,
          4.6667145,
          53.9994829,
          -3.2765753,
          57.0036901,
          -66.1109318,
          103.8194992,
          -81.1308434,
          10.4478313,
          -71.3187697,
          51.2295295,
          1.8883335,
          -64.9672817,
          15.3381061,
          -56.0201525,
          -72.9088133,
          100.83273,
          42.3528328,
          -4.8379791,
          14.4476911,
          120.9820179,
          47.4979476,
          -56.0771187,
          -61.0840075,
          -88.9140683,
          -90.345759,
          63.9528098,
          19.4528646,
          139.2394179,
          127.6961188,
          -79.3666965,
          50.5344606,
          12.674297,
          -64.9912286,
          28.5670941,
          -58.1693445,
          66.7780818,
          14.8153333,
          23.7499997,
          -85.2936911,
          -75.0458515,
          27.6971358,
          19.134422,
          102.2656823,
          15.6575209,
          18.1236723,
          97.7453061,
          -77.3947693,
          33.6252379,
          33.1451285,
          2.9999825,
          20.9021231,
          59.3924609,
          57.5703566,
          114.1628131,
          25.3319078,
          117.8902853,
          107.9650855,
          34.9249653,
          74.724091,
          7.9999721,
          90.5119273,
          47.7872508,
          71.247499,
          36.941628,
          19.5180992,
          104.999927,
          27.5589884,
          24.6859225,
          20.55144,
          -8.1353519,
          24.7537645,
          122.7312101,
          45.1098578,
          -7.3362482,
          21.7168387,
          34.9144977,
          19.9999619,
          17.5961467,
          28.3350193,
          -70.3028026,
          103.378253,
          103.8499736,
          31.3991317,
          21.9877132,
          35.843409,
          19.5060937,
          -86.0755145,
          70.8156541,
          9.400138,
          34.262716572130714,
          90.2934413,
          54.5643516,
          31.2718321,
          44.1749775,
          24.991639,
          -1.0800271,
          29.7468414,
          -9.3658524,
          78.6677428,
          29.4917691,
          -72.3570972,
          23.8222636,
          84.0917139,
          38.6521203,
          -11.8400269,
          -9.2399263,
          38.4313975,
          42.8453061,
          44.6736646,
          24.5928742,
          95.9999652,
          -83.1137366,
          33.9301963,
          80.66247852355892,
          13.1535811,
          25.4856617,
          29.2675469,
          47.8915271,
          17.5691241,
          -2.2900239,
          15.6419155,
          44.2832964,
          32.2166578,
          -14.4529612,
          11.6899699,
          9.3238432,
          104.8144914,
          35.7878438,
          46.4416422,
          19.9981227,
          19.0156172,
          -10.7083587,
          -5.5679458,
          -1.6880314,
          66.2385139,
          30.0644358,
          2.2584408,
          39.0494106,
          29.9324519,
          1.0199765
         ],
         "marker": {
          "cmax": 158,
          "cmin": 1,
          "color": [
           1,
           2,
           3,
           4,
           5,
           6,
           7,
           8,
           9,
           10,
           11,
           12,
           13,
           14,
           15,
           16,
           17,
           18,
           19,
           20,
           21,
           22,
           23,
           24,
           25,
           26,
           27,
           28,
           29,
           30,
           31,
           32,
           33,
           34,
           35,
           36,
           37,
           38,
           39,
           40,
           41,
           42,
           43,
           44,
           45,
           46,
           47,
           48,
           49,
           50,
           51,
           52,
           53,
           54,
           55,
           56,
           57,
           58,
           59,
           60,
           61,
           62,
           63,
           64,
           65,
           66,
           67,
           68,
           69,
           70,
           71,
           72,
           73,
           74,
           75,
           76,
           77,
           78,
           79,
           80,
           81,
           82,
           82,
           84,
           85,
           86,
           87,
           88,
           89,
           90,
           91,
           92,
           93,
           94,
           95,
           96,
           97,
           98,
           99,
           100,
           101,
           102,
           103,
           104,
           105,
           106,
           107,
           108,
           109,
           110,
           111,
           112,
           113,
           114,
           115,
           116,
           117,
           118,
           119,
           120,
           121,
           122,
           123,
           124,
           125,
           126,
           127,
           128,
           129,
           130,
           131,
           132,
           133,
           134,
           135,
           136,
           137,
           138,
           139,
           140,
           141,
           142,
           143,
           144,
           145,
           146,
           147,
           148,
           149,
           150,
           151,
           152,
           153,
           154,
           155,
           156,
           157,
           158
          ],
          "colorbar": {
           "title": {
            "text": "2015 Happiness Rank"
           }
          },
          "colorscale": [
           [
            0,
            "rgb(61, 89, 65)"
           ],
           [
            0.16666666666666666,
            "rgb(119, 136, 104)"
           ],
           [
            0.3333333333333333,
            "rgb(181, 185, 145)"
           ],
           [
            0.5,
            "rgb(246, 237, 189)"
           ],
           [
            0.6666666666666666,
            "rgb(237, 187, 138)"
           ],
           [
            0.8333333333333334,
            "rgb(222, 138, 90)"
           ],
           [
            1,
            "rgb(202, 86, 44)"
           ]
          ],
          "line": {
           "color": "black",
           "width": 1
          },
          "opacity": 0.8,
          "size": 10
         },
         "mode": "markers",
         "text": [
          "Switzerland<br>Ranking:1",
          "Iceland<br>Ranking:2",
          "Denmark<br>Ranking:3",
          "Norway<br>Ranking:4",
          "Canada<br>Ranking:5",
          "Finland<br>Ranking:6",
          "Netherlands<br>Ranking:7",
          "Sweden<br>Ranking:8",
          "New Zealand<br>Ranking:9",
          "Australia<br>Ranking:10",
          "Israel<br>Ranking:11",
          "Costa Rica<br>Ranking:12",
          "Austria<br>Ranking:13",
          "Mexico<br>Ranking:14",
          "United States<br>Ranking:15",
          "Brazil<br>Ranking:16",
          "Luxembourg<br>Ranking:17",
          "Ireland<br>Ranking:18",
          "Belgium<br>Ranking:19",
          "United Arab Emirates<br>Ranking:20",
          "United Kingdom<br>Ranking:21",
          "Oman<br>Ranking:22",
          "Venezuela<br>Ranking:23",
          "Singapore<br>Ranking:24",
          "Panama<br>Ranking:25",
          "Germany<br>Ranking:26",
          "Chile<br>Ranking:27",
          "Qatar<br>Ranking:28",
          "France<br>Ranking:29",
          "Argentina<br>Ranking:30",
          "Czech Republic<br>Ranking:31",
          "Uruguay<br>Ranking:32",
          "Colombia<br>Ranking:33",
          "Thailand<br>Ranking:34",
          "Saudi Arabia<br>Ranking:35",
          "Spain<br>Ranking:36",
          "Malta<br>Ranking:37",
          "Taiwan<br>Ranking:38",
          "Kuwait<br>Ranking:39",
          "Suriname<br>Ranking:40",
          "Trinidad and Tobago<br>Ranking:41",
          "El Salvador<br>Ranking:42",
          "Guatemala<br>Ranking:43",
          "Uzbekistan<br>Ranking:44",
          "Slovakia<br>Ranking:45",
          "Japan<br>Ranking:46",
          "South Korea<br>Ranking:47",
          "Ecuador<br>Ranking:48",
          "Bahrain<br>Ranking:49",
          "Italy<br>Ranking:50",
          "Bolivia<br>Ranking:51",
          "Moldova<br>Ranking:52",
          "Paraguay<br>Ranking:53",
          "Kazakhstan<br>Ranking:54",
          "Slovenia<br>Ranking:55",
          "Lithuania<br>Ranking:56",
          "Nicaragua<br>Ranking:57",
          "Peru<br>Ranking:58",
          "Belarus<br>Ranking:59",
          "Poland<br>Ranking:60",
          "Malaysia<br>Ranking:61",
          "Croatia<br>Ranking:62",
          "Libya<br>Ranking:63",
          "Russia<br>Ranking:64",
          "Jamaica<br>Ranking:65",
          "North Cyprus<br>Ranking:66",
          "Cyprus<br>Ranking:67",
          "Algeria<br>Ranking:68",
          "Kosovo<br>Ranking:69",
          "Turkmenistan<br>Ranking:70",
          "Mauritius<br>Ranking:71",
          "Hong Kong<br>Ranking:72",
          "Estonia<br>Ranking:73",
          "Indonesia<br>Ranking:74",
          "Vietnam<br>Ranking:75",
          "Turkey<br>Ranking:76",
          "Kyrgyzstan<br>Ranking:77",
          "Nigeria<br>Ranking:78",
          "Bhutan<br>Ranking:79",
          "Azerbaijan<br>Ranking:80",
          "Pakistan<br>Ranking:81",
          "Jordan<br>Ranking:82",
          "Montenegro<br>Ranking:82",
          "China<br>Ranking:84",
          "Zambia<br>Ranking:85",
          "Romania<br>Ranking:86",
          "Serbia<br>Ranking:87",
          "Portugal<br>Ranking:88",
          "Latvia<br>Ranking:89",
          "Philippines<br>Ranking:90",
          "Somaliland region<br>Ranking:91",
          "Morocco<br>Ranking:92",
          "Macedonia<br>Ranking:93",
          "Mozambique<br>Ranking:94",
          "Albania<br>Ranking:95",
          "Bosnia and Herzegovina<br>Ranking:96",
          "Lesotho<br>Ranking:97",
          "Dominican Republic<br>Ranking:98",
          "Laos<br>Ranking:99",
          "Mongolia<br>Ranking:100",
          "Swaziland<br>Ranking:101",
          "Greece<br>Ranking:102",
          "Lebanon<br>Ranking:103",
          "Hungary<br>Ranking:104",
          "Honduras<br>Ranking:105",
          "Tajikistan<br>Ranking:106",
          "Tunisia<br>Ranking:107",
          "Palestinian Territories<br>Ranking:108",
          "Bangladesh<br>Ranking:109",
          "Iran<br>Ranking:110",
          "Ukraine<br>Ranking:111",
          "Iraq<br>Ranking:112",
          "South Africa<br>Ranking:113",
          "Ghana<br>Ranking:114",
          "Zimbabwe<br>Ranking:115",
          "Liberia<br>Ranking:116",
          "India<br>Ranking:117",
          "Sudan<br>Ranking:118",
          "Haiti<br>Ranking:119",
          "Congo (Kinshasa)<br>Ranking:120",
          "Nepal<br>Ranking:121",
          "Ethiopia<br>Ranking:122",
          "Sierra Leone<br>Ranking:123",
          "Mauritania<br>Ranking:124",
          "Kenya<br>Ranking:125",
          "Djibouti<br>Ranking:126",
          "Armenia<br>Ranking:127",
          "Botswana<br>Ranking:128",
          "Myanmar<br>Ranking:129",
          "Georgia<br>Ranking:130",
          "Malawi<br>Ranking:131",
          "Sri Lanka<br>Ranking:132",
          "Cameroon<br>Ranking:133",
          "Bulgaria<br>Ranking:134",
          "Egypt<br>Ranking:135",
          "Yemen<br>Ranking:136",
          "Angola<br>Ranking:137",
          "Mali<br>Ranking:138",
          "Congo (Brazzaville)<br>Ranking:139",
          "Comoros<br>Ranking:140",
          "Uganda<br>Ranking:141",
          "Senegal<br>Ranking:142",
          "Gabon<br>Ranking:143",
          "Niger<br>Ranking:144",
          "Cambodia<br>Ranking:145",
          "Tanzania<br>Ranking:146",
          "Madagascar<br>Ranking:147",
          "Central African Republic<br>Ranking:148",
          "Chad<br>Ranking:149",
          "Guinea<br>Ranking:150",
          "Ivory Coast<br>Ranking:151",
          "Burkina Faso<br>Ranking:152",
          "Afghanistan<br>Ranking:153",
          "Rwanda<br>Ranking:154",
          "Benin<br>Ranking:155",
          "Syria<br>Ranking:156",
          "Burundi<br>Ranking:157",
          "Togo<br>Ranking:158"
         ],
         "type": "scattergeo"
        }
       ],
       "layout": {
        "geo": {
         "scope": "world",
         "showland": true
        },
        "template": {
         "data": {
          "bar": [
           {
            "error_x": {
             "color": "#2a3f5f"
            },
            "error_y": {
             "color": "#2a3f5f"
            },
            "marker": {
             "line": {
              "color": "#E5ECF6",
              "width": 0.5
             },
             "pattern": {
              "fillmode": "overlay",
              "size": 10,
              "solidity": 0.2
             }
            },
            "type": "bar"
           }
          ],
          "barpolar": [
           {
            "marker": {
             "line": {
              "color": "#E5ECF6",
              "width": 0.5
             },
             "pattern": {
              "fillmode": "overlay",
              "size": 10,
              "solidity": 0.2
             }
            },
            "type": "barpolar"
           }
          ],
          "carpet": [
           {
            "aaxis": {
             "endlinecolor": "#2a3f5f",
             "gridcolor": "white",
             "linecolor": "white",
             "minorgridcolor": "white",
             "startlinecolor": "#2a3f5f"
            },
            "baxis": {
             "endlinecolor": "#2a3f5f",
             "gridcolor": "white",
             "linecolor": "white",
             "minorgridcolor": "white",
             "startlinecolor": "#2a3f5f"
            },
            "type": "carpet"
           }
          ],
          "choropleth": [
           {
            "colorbar": {
             "outlinewidth": 0,
             "ticks": ""
            },
            "type": "choropleth"
           }
          ],
          "contour": [
           {
            "colorbar": {
             "outlinewidth": 0,
             "ticks": ""
            },
            "colorscale": [
             [
              0,
              "#0d0887"
             ],
             [
              0.1111111111111111,
              "#46039f"
             ],
             [
              0.2222222222222222,
              "#7201a8"
             ],
             [
              0.3333333333333333,
              "#9c179e"
             ],
             [
              0.4444444444444444,
              "#bd3786"
             ],
             [
              0.5555555555555556,
              "#d8576b"
             ],
             [
              0.6666666666666666,
              "#ed7953"
             ],
             [
              0.7777777777777778,
              "#fb9f3a"
             ],
             [
              0.8888888888888888,
              "#fdca26"
             ],
             [
              1,
              "#f0f921"
             ]
            ],
            "type": "contour"
           }
          ],
          "contourcarpet": [
           {
            "colorbar": {
             "outlinewidth": 0,
             "ticks": ""
            },
            "type": "contourcarpet"
           }
          ],
          "heatmap": [
           {
            "colorbar": {
             "outlinewidth": 0,
             "ticks": ""
            },
            "colorscale": [
             [
              0,
              "#0d0887"
             ],
             [
              0.1111111111111111,
              "#46039f"
             ],
             [
              0.2222222222222222,
              "#7201a8"
             ],
             [
              0.3333333333333333,
              "#9c179e"
             ],
             [
              0.4444444444444444,
              "#bd3786"
             ],
             [
              0.5555555555555556,
              "#d8576b"
             ],
             [
              0.6666666666666666,
              "#ed7953"
             ],
             [
              0.7777777777777778,
              "#fb9f3a"
             ],
             [
              0.8888888888888888,
              "#fdca26"
             ],
             [
              1,
              "#f0f921"
             ]
            ],
            "type": "heatmap"
           }
          ],
          "heatmapgl": [
           {
            "colorbar": {
             "outlinewidth": 0,
             "ticks": ""
            },
            "colorscale": [
             [
              0,
              "#0d0887"
             ],
             [
              0.1111111111111111,
              "#46039f"
             ],
             [
              0.2222222222222222,
              "#7201a8"
             ],
             [
              0.3333333333333333,
              "#9c179e"
             ],
             [
              0.4444444444444444,
              "#bd3786"
             ],
             [
              0.5555555555555556,
              "#d8576b"
             ],
             [
              0.6666666666666666,
              "#ed7953"
             ],
             [
              0.7777777777777778,
              "#fb9f3a"
             ],
             [
              0.8888888888888888,
              "#fdca26"
             ],
             [
              1,
              "#f0f921"
             ]
            ],
            "type": "heatmapgl"
           }
          ],
          "histogram": [
           {
            "marker": {
             "pattern": {
              "fillmode": "overlay",
              "size": 10,
              "solidity": 0.2
             }
            },
            "type": "histogram"
           }
          ],
          "histogram2d": [
           {
            "colorbar": {
             "outlinewidth": 0,
             "ticks": ""
            },
            "colorscale": [
             [
              0,
              "#0d0887"
             ],
             [
              0.1111111111111111,
              "#46039f"
             ],
             [
              0.2222222222222222,
              "#7201a8"
             ],
             [
              0.3333333333333333,
              "#9c179e"
             ],
             [
              0.4444444444444444,
              "#bd3786"
             ],
             [
              0.5555555555555556,
              "#d8576b"
             ],
             [
              0.6666666666666666,
              "#ed7953"
             ],
             [
              0.7777777777777778,
              "#fb9f3a"
             ],
             [
              0.8888888888888888,
              "#fdca26"
             ],
             [
              1,
              "#f0f921"
             ]
            ],
            "type": "histogram2d"
           }
          ],
          "histogram2dcontour": [
           {
            "colorbar": {
             "outlinewidth": 0,
             "ticks": ""
            },
            "colorscale": [
             [
              0,
              "#0d0887"
             ],
             [
              0.1111111111111111,
              "#46039f"
             ],
             [
              0.2222222222222222,
              "#7201a8"
             ],
             [
              0.3333333333333333,
              "#9c179e"
             ],
             [
              0.4444444444444444,
              "#bd3786"
             ],
             [
              0.5555555555555556,
              "#d8576b"
             ],
             [
              0.6666666666666666,
              "#ed7953"
             ],
             [
              0.7777777777777778,
              "#fb9f3a"
             ],
             [
              0.8888888888888888,
              "#fdca26"
             ],
             [
              1,
              "#f0f921"
             ]
            ],
            "type": "histogram2dcontour"
           }
          ],
          "mesh3d": [
           {
            "colorbar": {
             "outlinewidth": 0,
             "ticks": ""
            },
            "type": "mesh3d"
           }
          ],
          "parcoords": [
           {
            "line": {
             "colorbar": {
              "outlinewidth": 0,
              "ticks": ""
             }
            },
            "type": "parcoords"
           }
          ],
          "pie": [
           {
            "automargin": true,
            "type": "pie"
           }
          ],
          "scatter": [
           {
            "fillpattern": {
             "fillmode": "overlay",
             "size": 10,
             "solidity": 0.2
            },
            "type": "scatter"
           }
          ],
          "scatter3d": [
           {
            "line": {
             "colorbar": {
              "outlinewidth": 0,
              "ticks": ""
             }
            },
            "marker": {
             "colorbar": {
              "outlinewidth": 0,
              "ticks": ""
             }
            },
            "type": "scatter3d"
           }
          ],
          "scattercarpet": [
           {
            "marker": {
             "colorbar": {
              "outlinewidth": 0,
              "ticks": ""
             }
            },
            "type": "scattercarpet"
           }
          ],
          "scattergeo": [
           {
            "marker": {
             "colorbar": {
              "outlinewidth": 0,
              "ticks": ""
             }
            },
            "type": "scattergeo"
           }
          ],
          "scattergl": [
           {
            "marker": {
             "colorbar": {
              "outlinewidth": 0,
              "ticks": ""
             }
            },
            "type": "scattergl"
           }
          ],
          "scattermapbox": [
           {
            "marker": {
             "colorbar": {
              "outlinewidth": 0,
              "ticks": ""
             }
            },
            "type": "scattermapbox"
           }
          ],
          "scatterpolar": [
           {
            "marker": {
             "colorbar": {
              "outlinewidth": 0,
              "ticks": ""
             }
            },
            "type": "scatterpolar"
           }
          ],
          "scatterpolargl": [
           {
            "marker": {
             "colorbar": {
              "outlinewidth": 0,
              "ticks": ""
             }
            },
            "type": "scatterpolargl"
           }
          ],
          "scatterternary": [
           {
            "marker": {
             "colorbar": {
              "outlinewidth": 0,
              "ticks": ""
             }
            },
            "type": "scatterternary"
           }
          ],
          "surface": [
           {
            "colorbar": {
             "outlinewidth": 0,
             "ticks": ""
            },
            "colorscale": [
             [
              0,
              "#0d0887"
             ],
             [
              0.1111111111111111,
              "#46039f"
             ],
             [
              0.2222222222222222,
              "#7201a8"
             ],
             [
              0.3333333333333333,
              "#9c179e"
             ],
             [
              0.4444444444444444,
              "#bd3786"
             ],
             [
              0.5555555555555556,
              "#d8576b"
             ],
             [
              0.6666666666666666,
              "#ed7953"
             ],
             [
              0.7777777777777778,
              "#fb9f3a"
             ],
             [
              0.8888888888888888,
              "#fdca26"
             ],
             [
              1,
              "#f0f921"
             ]
            ],
            "type": "surface"
           }
          ],
          "table": [
           {
            "cells": {
             "fill": {
              "color": "#EBF0F8"
             },
             "line": {
              "color": "white"
             }
            },
            "header": {
             "fill": {
              "color": "#C8D4E3"
             },
             "line": {
              "color": "white"
             }
            },
            "type": "table"
           }
          ]
         },
         "layout": {
          "annotationdefaults": {
           "arrowcolor": "#2a3f5f",
           "arrowhead": 0,
           "arrowwidth": 1
          },
          "autotypenumbers": "strict",
          "coloraxis": {
           "colorbar": {
            "outlinewidth": 0,
            "ticks": ""
           }
          },
          "colorscale": {
           "diverging": [
            [
             0,
             "#8e0152"
            ],
            [
             0.1,
             "#c51b7d"
            ],
            [
             0.2,
             "#de77ae"
            ],
            [
             0.3,
             "#f1b6da"
            ],
            [
             0.4,
             "#fde0ef"
            ],
            [
             0.5,
             "#f7f7f7"
            ],
            [
             0.6,
             "#e6f5d0"
            ],
            [
             0.7,
             "#b8e186"
            ],
            [
             0.8,
             "#7fbc41"
            ],
            [
             0.9,
             "#4d9221"
            ],
            [
             1,
             "#276419"
            ]
           ],
           "sequential": [
            [
             0,
             "#0d0887"
            ],
            [
             0.1111111111111111,
             "#46039f"
            ],
            [
             0.2222222222222222,
             "#7201a8"
            ],
            [
             0.3333333333333333,
             "#9c179e"
            ],
            [
             0.4444444444444444,
             "#bd3786"
            ],
            [
             0.5555555555555556,
             "#d8576b"
            ],
            [
             0.6666666666666666,
             "#ed7953"
            ],
            [
             0.7777777777777778,
             "#fb9f3a"
            ],
            [
             0.8888888888888888,
             "#fdca26"
            ],
            [
             1,
             "#f0f921"
            ]
           ],
           "sequentialminus": [
            [
             0,
             "#0d0887"
            ],
            [
             0.1111111111111111,
             "#46039f"
            ],
            [
             0.2222222222222222,
             "#7201a8"
            ],
            [
             0.3333333333333333,
             "#9c179e"
            ],
            [
             0.4444444444444444,
             "#bd3786"
            ],
            [
             0.5555555555555556,
             "#d8576b"
            ],
            [
             0.6666666666666666,
             "#ed7953"
            ],
            [
             0.7777777777777778,
             "#fb9f3a"
            ],
            [
             0.8888888888888888,
             "#fdca26"
            ],
            [
             1,
             "#f0f921"
            ]
           ]
          },
          "colorway": [
           "#636efa",
           "#EF553B",
           "#00cc96",
           "#ab63fa",
           "#FFA15A",
           "#19d3f3",
           "#FF6692",
           "#B6E880",
           "#FF97FF",
           "#FECB52"
          ],
          "font": {
           "color": "#2a3f5f"
          },
          "geo": {
           "bgcolor": "white",
           "lakecolor": "white",
           "landcolor": "#E5ECF6",
           "showlakes": true,
           "showland": true,
           "subunitcolor": "white"
          },
          "hoverlabel": {
           "align": "left"
          },
          "hovermode": "closest",
          "mapbox": {
           "style": "light"
          },
          "paper_bgcolor": "white",
          "plot_bgcolor": "#E5ECF6",
          "polar": {
           "angularaxis": {
            "gridcolor": "white",
            "linecolor": "white",
            "ticks": ""
           },
           "bgcolor": "#E5ECF6",
           "radialaxis": {
            "gridcolor": "white",
            "linecolor": "white",
            "ticks": ""
           }
          },
          "scene": {
           "xaxis": {
            "backgroundcolor": "#E5ECF6",
            "gridcolor": "white",
            "gridwidth": 2,
            "linecolor": "white",
            "showbackground": true,
            "ticks": "",
            "zerolinecolor": "white"
           },
           "yaxis": {
            "backgroundcolor": "#E5ECF6",
            "gridcolor": "white",
            "gridwidth": 2,
            "linecolor": "white",
            "showbackground": true,
            "ticks": "",
            "zerolinecolor": "white"
           },
           "zaxis": {
            "backgroundcolor": "#E5ECF6",
            "gridcolor": "white",
            "gridwidth": 2,
            "linecolor": "white",
            "showbackground": true,
            "ticks": "",
            "zerolinecolor": "white"
           }
          },
          "shapedefaults": {
           "line": {
            "color": "#2a3f5f"
           }
          },
          "ternary": {
           "aaxis": {
            "gridcolor": "white",
            "linecolor": "white",
            "ticks": ""
           },
           "baxis": {
            "gridcolor": "white",
            "linecolor": "white",
            "ticks": ""
           },
           "bgcolor": "#E5ECF6",
           "caxis": {
            "gridcolor": "white",
            "linecolor": "white",
            "ticks": ""
           }
          },
          "title": {
           "x": 0.05
          },
          "xaxis": {
           "automargin": true,
           "gridcolor": "white",
           "linecolor": "white",
           "ticks": "",
           "title": {
            "standoff": 15
           },
           "zerolinecolor": "white",
           "zerolinewidth": 2
          },
          "yaxis": {
           "automargin": true,
           "gridcolor": "white",
           "linecolor": "white",
           "ticks": "",
           "title": {
            "standoff": 15
           },
           "zerolinecolor": "white",
           "zerolinewidth": 2
          }
         }
        },
        "title": {
         "text": "Map with Plotly"
        }
       }
      },
      "text/html": [
       "<div>                            <div id=\"10eb3df0-ff85-4fe0-a4b4-02b90bd14162\" class=\"plotly-graph-div\" style=\"height:525px; width:100%;\"></div>            <script type=\"text/javascript\">                require([\"plotly\"], function(Plotly) {                    window.PLOTLYENV=window.PLOTLYENV || {};                                    if (document.getElementById(\"10eb3df0-ff85-4fe0-a4b4-02b90bd14162\")) {                    Plotly.newPlot(                        \"10eb3df0-ff85-4fe0-a4b4-02b90bd14162\",                        [{\"lat\":[46.7985624,64.9841821,55.670249,61.1529386,61.0666922,63.2467777,52.2434979,59.6749712,-41.5000831,-24.7761086,30.8124247,10.2735633,47.59397,23.6585116,39.7837304,-10.3333333,49.8158683,52.865196,50.6402809,24.0002488,54.7023545,21.0000287,8.0018709,1.357107,8.559559,51.1638175,-31.7613365,25.3336984,46.603354,-34.9964963,49.7439047,-32.8755548,4.099917,14.8971921,25.6242618,39.3260685,35.8885993,23.9739374,29.2733964,4.1413025,10.7466905,13.8000382,15.5855545,41.32373,48.7411522,36.5748441,36.638392,-1.3397668,26.1551249,42.6384261,-17.0568696,47.2879608,-23.3165935,48.1012954,46.1199444,55.3500003,12.6090157,-6.8699697,53.4250605,52.215933,4.5693754,45.3658443,26.8234472,64.6863136,18.1850507,35.2245313,34.9823018,28.0000272,42.5869578,39.3763807,-20.2759451,22.2793278,58.7523778,-2.4833826,15.9266657,38.9597594,41.5089324,9.6000359,27.549511,40.3936294,30.3308401,31.1667049,42.9868853,35.000074,-14.5189121,45.9852129,44.1534121,39.6621648,56.8406494,12.7503486,10.3743673,31.1728205,41.6171214,-19.302233,41.000028,44.3053476,-29.6039267,19.0974031,20.0171109,46.8250388,-26.5624806,38.9953683,33.8750629,47.1817585,15.2572432,38.6281733,33.8439408,31.46242095,24.4769288,32.6475314,49.4871968,33.0955793,-28.8166236,8.0300284,-18.4554963,5.7499721,22.3511148,14.5844444,19.1399952,-2.9814344,28.1083929,10.2116702,8.6400349,20.2540382,1.4419683,11.8145966,40.7696272,-23.1681782,17.1750495,32.3293809,-13.2687204,7.877395849999999,4.6125522,42.6073975,26.2540493,16.3471243,-11.8775768,16.3700359,-0.7264327,-12.2045176,1.5333554,14.4750607,-0.8999695,17.7356214,12.5433216,-6.5247123,-18.9249604,7.0323598,15.6134137,10.7226226,7.9897371,12.0753083,33.7680065,-1.9646631,9.5293472,34.6401861,-3.426449,8.7800265],\"lon\":[8.2319736,-18.1059013,10.3333283,8.7876653,-107.991707,25.9209164,5.6343227,14.5208584,172.8344077,134.755,34.8594762,-84.0739102,14.12456,-102.0077097,-100.445882,-53.2,6.1296751,-7.9794599,4.6667145,53.9994829,-3.2765753,57.0036901,-66.1109318,103.8194992,-81.1308434,10.4478313,-71.3187697,51.2295295,1.8883335,-64.9672817,15.3381061,-56.0201525,-72.9088133,100.83273,42.3528328,-4.8379791,14.4476911,120.9820179,47.4979476,-56.0771187,-61.0840075,-88.9140683,-90.345759,63.9528098,19.4528646,139.2394179,127.6961188,-79.3666965,50.5344606,12.674297,-64.9912286,28.5670941,-58.1693445,66.7780818,14.8153333,23.7499997,-85.2936911,-75.0458515,27.6971358,19.134422,102.2656823,15.6575209,18.1236723,97.7453061,-77.3947693,33.6252379,33.1451285,2.9999825,20.9021231,59.3924609,57.5703566,114.1628131,25.3319078,117.8902853,107.9650855,34.9249653,74.724091,7.9999721,90.5119273,47.7872508,71.247499,36.941628,19.5180992,104.999927,27.5589884,24.6859225,20.55144,-8.1353519,24.7537645,122.7312101,45.1098578,-7.3362482,21.7168387,34.9144977,19.9999619,17.5961467,28.3350193,-70.3028026,103.378253,103.8499736,31.3991317,21.9877132,35.843409,19.5060937,-86.0755145,70.8156541,9.400138,34.262716572130714,90.2934413,54.5643516,31.2718321,44.1749775,24.991639,-1.0800271,29.7468414,-9.3658524,78.6677428,29.4917691,-72.3570972,23.8222636,84.0917139,38.6521203,-11.8400269,-9.2399263,38.4313975,42.8453061,44.6736646,24.5928742,95.9999652,-83.1137366,33.9301963,80.66247852355892,13.1535811,25.4856617,29.2675469,47.8915271,17.5691241,-2.2900239,15.6419155,44.2832964,32.2166578,-14.4529612,11.6899699,9.3238432,104.8144914,35.7878438,46.4416422,19.9981227,19.0156172,-10.7083587,-5.5679458,-1.6880314,66.2385139,30.0644358,2.2584408,39.0494106,29.9324519,1.0199765],\"marker\":{\"cmax\":158,\"cmin\":1,\"color\":[1,2,3,4,5,6,7,8,9,10,11,12,13,14,15,16,17,18,19,20,21,22,23,24,25,26,27,28,29,30,31,32,33,34,35,36,37,38,39,40,41,42,43,44,45,46,47,48,49,50,51,52,53,54,55,56,57,58,59,60,61,62,63,64,65,66,67,68,69,70,71,72,73,74,75,76,77,78,79,80,81,82,82,84,85,86,87,88,89,90,91,92,93,94,95,96,97,98,99,100,101,102,103,104,105,106,107,108,109,110,111,112,113,114,115,116,117,118,119,120,121,122,123,124,125,126,127,128,129,130,131,132,133,134,135,136,137,138,139,140,141,142,143,144,145,146,147,148,149,150,151,152,153,154,155,156,157,158],\"colorbar\":{\"title\":{\"text\":\"2015 Happiness Rank\"}},\"colorscale\":[[0.0,\"rgb(61, 89, 65)\"],[0.16666666666666666,\"rgb(119, 136, 104)\"],[0.3333333333333333,\"rgb(181, 185, 145)\"],[0.5,\"rgb(246, 237, 189)\"],[0.6666666666666666,\"rgb(237, 187, 138)\"],[0.8333333333333334,\"rgb(222, 138, 90)\"],[1.0,\"rgb(202, 86, 44)\"]],\"line\":{\"color\":\"black\",\"width\":1},\"opacity\":0.8,\"size\":10},\"mode\":\"markers\",\"text\":[\"Switzerland\\u003cbr\\u003eRanking:1\",\"Iceland\\u003cbr\\u003eRanking:2\",\"Denmark\\u003cbr\\u003eRanking:3\",\"Norway\\u003cbr\\u003eRanking:4\",\"Canada\\u003cbr\\u003eRanking:5\",\"Finland\\u003cbr\\u003eRanking:6\",\"Netherlands\\u003cbr\\u003eRanking:7\",\"Sweden\\u003cbr\\u003eRanking:8\",\"New Zealand\\u003cbr\\u003eRanking:9\",\"Australia\\u003cbr\\u003eRanking:10\",\"Israel\\u003cbr\\u003eRanking:11\",\"Costa Rica\\u003cbr\\u003eRanking:12\",\"Austria\\u003cbr\\u003eRanking:13\",\"Mexico\\u003cbr\\u003eRanking:14\",\"United States\\u003cbr\\u003eRanking:15\",\"Brazil\\u003cbr\\u003eRanking:16\",\"Luxembourg\\u003cbr\\u003eRanking:17\",\"Ireland\\u003cbr\\u003eRanking:18\",\"Belgium\\u003cbr\\u003eRanking:19\",\"United Arab Emirates\\u003cbr\\u003eRanking:20\",\"United Kingdom\\u003cbr\\u003eRanking:21\",\"Oman\\u003cbr\\u003eRanking:22\",\"Venezuela\\u003cbr\\u003eRanking:23\",\"Singapore\\u003cbr\\u003eRanking:24\",\"Panama\\u003cbr\\u003eRanking:25\",\"Germany\\u003cbr\\u003eRanking:26\",\"Chile\\u003cbr\\u003eRanking:27\",\"Qatar\\u003cbr\\u003eRanking:28\",\"France\\u003cbr\\u003eRanking:29\",\"Argentina\\u003cbr\\u003eRanking:30\",\"Czech Republic\\u003cbr\\u003eRanking:31\",\"Uruguay\\u003cbr\\u003eRanking:32\",\"Colombia\\u003cbr\\u003eRanking:33\",\"Thailand\\u003cbr\\u003eRanking:34\",\"Saudi Arabia\\u003cbr\\u003eRanking:35\",\"Spain\\u003cbr\\u003eRanking:36\",\"Malta\\u003cbr\\u003eRanking:37\",\"Taiwan\\u003cbr\\u003eRanking:38\",\"Kuwait\\u003cbr\\u003eRanking:39\",\"Suriname\\u003cbr\\u003eRanking:40\",\"Trinidad and Tobago\\u003cbr\\u003eRanking:41\",\"El Salvador\\u003cbr\\u003eRanking:42\",\"Guatemala\\u003cbr\\u003eRanking:43\",\"Uzbekistan\\u003cbr\\u003eRanking:44\",\"Slovakia\\u003cbr\\u003eRanking:45\",\"Japan\\u003cbr\\u003eRanking:46\",\"South Korea\\u003cbr\\u003eRanking:47\",\"Ecuador\\u003cbr\\u003eRanking:48\",\"Bahrain\\u003cbr\\u003eRanking:49\",\"Italy\\u003cbr\\u003eRanking:50\",\"Bolivia\\u003cbr\\u003eRanking:51\",\"Moldova\\u003cbr\\u003eRanking:52\",\"Paraguay\\u003cbr\\u003eRanking:53\",\"Kazakhstan\\u003cbr\\u003eRanking:54\",\"Slovenia\\u003cbr\\u003eRanking:55\",\"Lithuania\\u003cbr\\u003eRanking:56\",\"Nicaragua\\u003cbr\\u003eRanking:57\",\"Peru\\u003cbr\\u003eRanking:58\",\"Belarus\\u003cbr\\u003eRanking:59\",\"Poland\\u003cbr\\u003eRanking:60\",\"Malaysia\\u003cbr\\u003eRanking:61\",\"Croatia\\u003cbr\\u003eRanking:62\",\"Libya\\u003cbr\\u003eRanking:63\",\"Russia\\u003cbr\\u003eRanking:64\",\"Jamaica\\u003cbr\\u003eRanking:65\",\"North Cyprus\\u003cbr\\u003eRanking:66\",\"Cyprus\\u003cbr\\u003eRanking:67\",\"Algeria\\u003cbr\\u003eRanking:68\",\"Kosovo\\u003cbr\\u003eRanking:69\",\"Turkmenistan\\u003cbr\\u003eRanking:70\",\"Mauritius\\u003cbr\\u003eRanking:71\",\"Hong Kong\\u003cbr\\u003eRanking:72\",\"Estonia\\u003cbr\\u003eRanking:73\",\"Indonesia\\u003cbr\\u003eRanking:74\",\"Vietnam\\u003cbr\\u003eRanking:75\",\"Turkey\\u003cbr\\u003eRanking:76\",\"Kyrgyzstan\\u003cbr\\u003eRanking:77\",\"Nigeria\\u003cbr\\u003eRanking:78\",\"Bhutan\\u003cbr\\u003eRanking:79\",\"Azerbaijan\\u003cbr\\u003eRanking:80\",\"Pakistan\\u003cbr\\u003eRanking:81\",\"Jordan\\u003cbr\\u003eRanking:82\",\"Montenegro\\u003cbr\\u003eRanking:82\",\"China\\u003cbr\\u003eRanking:84\",\"Zambia\\u003cbr\\u003eRanking:85\",\"Romania\\u003cbr\\u003eRanking:86\",\"Serbia\\u003cbr\\u003eRanking:87\",\"Portugal\\u003cbr\\u003eRanking:88\",\"Latvia\\u003cbr\\u003eRanking:89\",\"Philippines\\u003cbr\\u003eRanking:90\",\"Somaliland region\\u003cbr\\u003eRanking:91\",\"Morocco\\u003cbr\\u003eRanking:92\",\"Macedonia\\u003cbr\\u003eRanking:93\",\"Mozambique\\u003cbr\\u003eRanking:94\",\"Albania\\u003cbr\\u003eRanking:95\",\"Bosnia and Herzegovina\\u003cbr\\u003eRanking:96\",\"Lesotho\\u003cbr\\u003eRanking:97\",\"Dominican Republic\\u003cbr\\u003eRanking:98\",\"Laos\\u003cbr\\u003eRanking:99\",\"Mongolia\\u003cbr\\u003eRanking:100\",\"Swaziland\\u003cbr\\u003eRanking:101\",\"Greece\\u003cbr\\u003eRanking:102\",\"Lebanon\\u003cbr\\u003eRanking:103\",\"Hungary\\u003cbr\\u003eRanking:104\",\"Honduras\\u003cbr\\u003eRanking:105\",\"Tajikistan\\u003cbr\\u003eRanking:106\",\"Tunisia\\u003cbr\\u003eRanking:107\",\"Palestinian Territories\\u003cbr\\u003eRanking:108\",\"Bangladesh\\u003cbr\\u003eRanking:109\",\"Iran\\u003cbr\\u003eRanking:110\",\"Ukraine\\u003cbr\\u003eRanking:111\",\"Iraq\\u003cbr\\u003eRanking:112\",\"South Africa\\u003cbr\\u003eRanking:113\",\"Ghana\\u003cbr\\u003eRanking:114\",\"Zimbabwe\\u003cbr\\u003eRanking:115\",\"Liberia\\u003cbr\\u003eRanking:116\",\"India\\u003cbr\\u003eRanking:117\",\"Sudan\\u003cbr\\u003eRanking:118\",\"Haiti\\u003cbr\\u003eRanking:119\",\"Congo (Kinshasa)\\u003cbr\\u003eRanking:120\",\"Nepal\\u003cbr\\u003eRanking:121\",\"Ethiopia\\u003cbr\\u003eRanking:122\",\"Sierra Leone\\u003cbr\\u003eRanking:123\",\"Mauritania\\u003cbr\\u003eRanking:124\",\"Kenya\\u003cbr\\u003eRanking:125\",\"Djibouti\\u003cbr\\u003eRanking:126\",\"Armenia\\u003cbr\\u003eRanking:127\",\"Botswana\\u003cbr\\u003eRanking:128\",\"Myanmar\\u003cbr\\u003eRanking:129\",\"Georgia\\u003cbr\\u003eRanking:130\",\"Malawi\\u003cbr\\u003eRanking:131\",\"Sri Lanka\\u003cbr\\u003eRanking:132\",\"Cameroon\\u003cbr\\u003eRanking:133\",\"Bulgaria\\u003cbr\\u003eRanking:134\",\"Egypt\\u003cbr\\u003eRanking:135\",\"Yemen\\u003cbr\\u003eRanking:136\",\"Angola\\u003cbr\\u003eRanking:137\",\"Mali\\u003cbr\\u003eRanking:138\",\"Congo (Brazzaville)\\u003cbr\\u003eRanking:139\",\"Comoros\\u003cbr\\u003eRanking:140\",\"Uganda\\u003cbr\\u003eRanking:141\",\"Senegal\\u003cbr\\u003eRanking:142\",\"Gabon\\u003cbr\\u003eRanking:143\",\"Niger\\u003cbr\\u003eRanking:144\",\"Cambodia\\u003cbr\\u003eRanking:145\",\"Tanzania\\u003cbr\\u003eRanking:146\",\"Madagascar\\u003cbr\\u003eRanking:147\",\"Central African Republic\\u003cbr\\u003eRanking:148\",\"Chad\\u003cbr\\u003eRanking:149\",\"Guinea\\u003cbr\\u003eRanking:150\",\"Ivory Coast\\u003cbr\\u003eRanking:151\",\"Burkina Faso\\u003cbr\\u003eRanking:152\",\"Afghanistan\\u003cbr\\u003eRanking:153\",\"Rwanda\\u003cbr\\u003eRanking:154\",\"Benin\\u003cbr\\u003eRanking:155\",\"Syria\\u003cbr\\u003eRanking:156\",\"Burundi\\u003cbr\\u003eRanking:157\",\"Togo\\u003cbr\\u003eRanking:158\"],\"type\":\"scattergeo\"}],                        {\"template\":{\"data\":{\"histogram2dcontour\":[{\"type\":\"histogram2dcontour\",\"colorbar\":{\"outlinewidth\":0,\"ticks\":\"\"},\"colorscale\":[[0.0,\"#0d0887\"],[0.1111111111111111,\"#46039f\"],[0.2222222222222222,\"#7201a8\"],[0.3333333333333333,\"#9c179e\"],[0.4444444444444444,\"#bd3786\"],[0.5555555555555556,\"#d8576b\"],[0.6666666666666666,\"#ed7953\"],[0.7777777777777778,\"#fb9f3a\"],[0.8888888888888888,\"#fdca26\"],[1.0,\"#f0f921\"]]}],\"choropleth\":[{\"type\":\"choropleth\",\"colorbar\":{\"outlinewidth\":0,\"ticks\":\"\"}}],\"histogram2d\":[{\"type\":\"histogram2d\",\"colorbar\":{\"outlinewidth\":0,\"ticks\":\"\"},\"colorscale\":[[0.0,\"#0d0887\"],[0.1111111111111111,\"#46039f\"],[0.2222222222222222,\"#7201a8\"],[0.3333333333333333,\"#9c179e\"],[0.4444444444444444,\"#bd3786\"],[0.5555555555555556,\"#d8576b\"],[0.6666666666666666,\"#ed7953\"],[0.7777777777777778,\"#fb9f3a\"],[0.8888888888888888,\"#fdca26\"],[1.0,\"#f0f921\"]]}],\"heatmap\":[{\"type\":\"heatmap\",\"colorbar\":{\"outlinewidth\":0,\"ticks\":\"\"},\"colorscale\":[[0.0,\"#0d0887\"],[0.1111111111111111,\"#46039f\"],[0.2222222222222222,\"#7201a8\"],[0.3333333333333333,\"#9c179e\"],[0.4444444444444444,\"#bd3786\"],[0.5555555555555556,\"#d8576b\"],[0.6666666666666666,\"#ed7953\"],[0.7777777777777778,\"#fb9f3a\"],[0.8888888888888888,\"#fdca26\"],[1.0,\"#f0f921\"]]}],\"heatmapgl\":[{\"type\":\"heatmapgl\",\"colorbar\":{\"outlinewidth\":0,\"ticks\":\"\"},\"colorscale\":[[0.0,\"#0d0887\"],[0.1111111111111111,\"#46039f\"],[0.2222222222222222,\"#7201a8\"],[0.3333333333333333,\"#9c179e\"],[0.4444444444444444,\"#bd3786\"],[0.5555555555555556,\"#d8576b\"],[0.6666666666666666,\"#ed7953\"],[0.7777777777777778,\"#fb9f3a\"],[0.8888888888888888,\"#fdca26\"],[1.0,\"#f0f921\"]]}],\"contourcarpet\":[{\"type\":\"contourcarpet\",\"colorbar\":{\"outlinewidth\":0,\"ticks\":\"\"}}],\"contour\":[{\"type\":\"contour\",\"colorbar\":{\"outlinewidth\":0,\"ticks\":\"\"},\"colorscale\":[[0.0,\"#0d0887\"],[0.1111111111111111,\"#46039f\"],[0.2222222222222222,\"#7201a8\"],[0.3333333333333333,\"#9c179e\"],[0.4444444444444444,\"#bd3786\"],[0.5555555555555556,\"#d8576b\"],[0.6666666666666666,\"#ed7953\"],[0.7777777777777778,\"#fb9f3a\"],[0.8888888888888888,\"#fdca26\"],[1.0,\"#f0f921\"]]}],\"surface\":[{\"type\":\"surface\",\"colorbar\":{\"outlinewidth\":0,\"ticks\":\"\"},\"colorscale\":[[0.0,\"#0d0887\"],[0.1111111111111111,\"#46039f\"],[0.2222222222222222,\"#7201a8\"],[0.3333333333333333,\"#9c179e\"],[0.4444444444444444,\"#bd3786\"],[0.5555555555555556,\"#d8576b\"],[0.6666666666666666,\"#ed7953\"],[0.7777777777777778,\"#fb9f3a\"],[0.8888888888888888,\"#fdca26\"],[1.0,\"#f0f921\"]]}],\"mesh3d\":[{\"type\":\"mesh3d\",\"colorbar\":{\"outlinewidth\":0,\"ticks\":\"\"}}],\"scatter\":[{\"fillpattern\":{\"fillmode\":\"overlay\",\"size\":10,\"solidity\":0.2},\"type\":\"scatter\"}],\"parcoords\":[{\"type\":\"parcoords\",\"line\":{\"colorbar\":{\"outlinewidth\":0,\"ticks\":\"\"}}}],\"scatterpolargl\":[{\"type\":\"scatterpolargl\",\"marker\":{\"colorbar\":{\"outlinewidth\":0,\"ticks\":\"\"}}}],\"bar\":[{\"error_x\":{\"color\":\"#2a3f5f\"},\"error_y\":{\"color\":\"#2a3f5f\"},\"marker\":{\"line\":{\"color\":\"#E5ECF6\",\"width\":0.5},\"pattern\":{\"fillmode\":\"overlay\",\"size\":10,\"solidity\":0.2}},\"type\":\"bar\"}],\"scattergeo\":[{\"type\":\"scattergeo\",\"marker\":{\"colorbar\":{\"outlinewidth\":0,\"ticks\":\"\"}}}],\"scatterpolar\":[{\"type\":\"scatterpolar\",\"marker\":{\"colorbar\":{\"outlinewidth\":0,\"ticks\":\"\"}}}],\"histogram\":[{\"marker\":{\"pattern\":{\"fillmode\":\"overlay\",\"size\":10,\"solidity\":0.2}},\"type\":\"histogram\"}],\"scattergl\":[{\"type\":\"scattergl\",\"marker\":{\"colorbar\":{\"outlinewidth\":0,\"ticks\":\"\"}}}],\"scatter3d\":[{\"type\":\"scatter3d\",\"line\":{\"colorbar\":{\"outlinewidth\":0,\"ticks\":\"\"}},\"marker\":{\"colorbar\":{\"outlinewidth\":0,\"ticks\":\"\"}}}],\"scattermapbox\":[{\"type\":\"scattermapbox\",\"marker\":{\"colorbar\":{\"outlinewidth\":0,\"ticks\":\"\"}}}],\"scatterternary\":[{\"type\":\"scatterternary\",\"marker\":{\"colorbar\":{\"outlinewidth\":0,\"ticks\":\"\"}}}],\"scattercarpet\":[{\"type\":\"scattercarpet\",\"marker\":{\"colorbar\":{\"outlinewidth\":0,\"ticks\":\"\"}}}],\"carpet\":[{\"aaxis\":{\"endlinecolor\":\"#2a3f5f\",\"gridcolor\":\"white\",\"linecolor\":\"white\",\"minorgridcolor\":\"white\",\"startlinecolor\":\"#2a3f5f\"},\"baxis\":{\"endlinecolor\":\"#2a3f5f\",\"gridcolor\":\"white\",\"linecolor\":\"white\",\"minorgridcolor\":\"white\",\"startlinecolor\":\"#2a3f5f\"},\"type\":\"carpet\"}],\"table\":[{\"cells\":{\"fill\":{\"color\":\"#EBF0F8\"},\"line\":{\"color\":\"white\"}},\"header\":{\"fill\":{\"color\":\"#C8D4E3\"},\"line\":{\"color\":\"white\"}},\"type\":\"table\"}],\"barpolar\":[{\"marker\":{\"line\":{\"color\":\"#E5ECF6\",\"width\":0.5},\"pattern\":{\"fillmode\":\"overlay\",\"size\":10,\"solidity\":0.2}},\"type\":\"barpolar\"}],\"pie\":[{\"automargin\":true,\"type\":\"pie\"}]},\"layout\":{\"autotypenumbers\":\"strict\",\"colorway\":[\"#636efa\",\"#EF553B\",\"#00cc96\",\"#ab63fa\",\"#FFA15A\",\"#19d3f3\",\"#FF6692\",\"#B6E880\",\"#FF97FF\",\"#FECB52\"],\"font\":{\"color\":\"#2a3f5f\"},\"hovermode\":\"closest\",\"hoverlabel\":{\"align\":\"left\"},\"paper_bgcolor\":\"white\",\"plot_bgcolor\":\"#E5ECF6\",\"polar\":{\"bgcolor\":\"#E5ECF6\",\"angularaxis\":{\"gridcolor\":\"white\",\"linecolor\":\"white\",\"ticks\":\"\"},\"radialaxis\":{\"gridcolor\":\"white\",\"linecolor\":\"white\",\"ticks\":\"\"}},\"ternary\":{\"bgcolor\":\"#E5ECF6\",\"aaxis\":{\"gridcolor\":\"white\",\"linecolor\":\"white\",\"ticks\":\"\"},\"baxis\":{\"gridcolor\":\"white\",\"linecolor\":\"white\",\"ticks\":\"\"},\"caxis\":{\"gridcolor\":\"white\",\"linecolor\":\"white\",\"ticks\":\"\"}},\"coloraxis\":{\"colorbar\":{\"outlinewidth\":0,\"ticks\":\"\"}},\"colorscale\":{\"sequential\":[[0.0,\"#0d0887\"],[0.1111111111111111,\"#46039f\"],[0.2222222222222222,\"#7201a8\"],[0.3333333333333333,\"#9c179e\"],[0.4444444444444444,\"#bd3786\"],[0.5555555555555556,\"#d8576b\"],[0.6666666666666666,\"#ed7953\"],[0.7777777777777778,\"#fb9f3a\"],[0.8888888888888888,\"#fdca26\"],[1.0,\"#f0f921\"]],\"sequentialminus\":[[0.0,\"#0d0887\"],[0.1111111111111111,\"#46039f\"],[0.2222222222222222,\"#7201a8\"],[0.3333333333333333,\"#9c179e\"],[0.4444444444444444,\"#bd3786\"],[0.5555555555555556,\"#d8576b\"],[0.6666666666666666,\"#ed7953\"],[0.7777777777777778,\"#fb9f3a\"],[0.8888888888888888,\"#fdca26\"],[1.0,\"#f0f921\"]],\"diverging\":[[0,\"#8e0152\"],[0.1,\"#c51b7d\"],[0.2,\"#de77ae\"],[0.3,\"#f1b6da\"],[0.4,\"#fde0ef\"],[0.5,\"#f7f7f7\"],[0.6,\"#e6f5d0\"],[0.7,\"#b8e186\"],[0.8,\"#7fbc41\"],[0.9,\"#4d9221\"],[1,\"#276419\"]]},\"xaxis\":{\"gridcolor\":\"white\",\"linecolor\":\"white\",\"ticks\":\"\",\"title\":{\"standoff\":15},\"zerolinecolor\":\"white\",\"automargin\":true,\"zerolinewidth\":2},\"yaxis\":{\"gridcolor\":\"white\",\"linecolor\":\"white\",\"ticks\":\"\",\"title\":{\"standoff\":15},\"zerolinecolor\":\"white\",\"automargin\":true,\"zerolinewidth\":2},\"scene\":{\"xaxis\":{\"backgroundcolor\":\"#E5ECF6\",\"gridcolor\":\"white\",\"linecolor\":\"white\",\"showbackground\":true,\"ticks\":\"\",\"zerolinecolor\":\"white\",\"gridwidth\":2},\"yaxis\":{\"backgroundcolor\":\"#E5ECF6\",\"gridcolor\":\"white\",\"linecolor\":\"white\",\"showbackground\":true,\"ticks\":\"\",\"zerolinecolor\":\"white\",\"gridwidth\":2},\"zaxis\":{\"backgroundcolor\":\"#E5ECF6\",\"gridcolor\":\"white\",\"linecolor\":\"white\",\"showbackground\":true,\"ticks\":\"\",\"zerolinecolor\":\"white\",\"gridwidth\":2}},\"shapedefaults\":{\"line\":{\"color\":\"#2a3f5f\"}},\"annotationdefaults\":{\"arrowcolor\":\"#2a3f5f\",\"arrowhead\":0,\"arrowwidth\":1},\"geo\":{\"bgcolor\":\"white\",\"landcolor\":\"#E5ECF6\",\"subunitcolor\":\"white\",\"showland\":true,\"showlakes\":true,\"lakecolor\":\"white\"},\"title\":{\"x\":0.05},\"mapbox\":{\"style\":\"light\"}}},\"geo\":{\"scope\":\"world\",\"showland\":true},\"title\":{\"text\":\"Map with Plotly\"}},                        {\"responsive\": true}                    ).then(function(){\n",
       "                            \n",
       "var gd = document.getElementById('10eb3df0-ff85-4fe0-a4b4-02b90bd14162');\n",
       "var x = new MutationObserver(function (mutations, observer) {{\n",
       "        var display = window.getComputedStyle(gd).display;\n",
       "        if (!display || display === 'none') {{\n",
       "            console.log([gd, 'removed!']);\n",
       "            Plotly.purge(gd);\n",
       "            observer.disconnect();\n",
       "        }}\n",
       "}});\n",
       "\n",
       "// Listen for the removal of the full notebook cells\n",
       "var notebookContainer = gd.closest('#notebook-container');\n",
       "if (notebookContainer) {{\n",
       "    x.observe(notebookContainer, {childList: true});\n",
       "}}\n",
       "\n",
       "// Listen for the clearing of the current output cell\n",
       "var outputEl = gd.closest('.output');\n",
       "if (outputEl) {{\n",
       "    x.observe(outputEl, {childList: true});\n",
       "}}\n",
       "\n",
       "                        })                };                });            </script>        </div>"
      ]
     },
     "metadata": {},
     "output_type": "display_data"
    }
   ],
   "source": [
    "fig.update_layout(\n",
    "    title='Map with Plotly',\n",
    "    geo=dict(\n",
    "        scope='world', \n",
    "        showland=True,\n",
    "    ),\n",
    ")\n",
    "\n",
    "fig.show()"
   ]
  },
  {
   "cell_type": "code",
   "execution_count": null,
   "id": "493649b0",
   "metadata": {},
   "outputs": [],
   "source": []
  }
 ],
 "metadata": {
  "kernelspec": {
   "display_name": "Python 3 (ipykernel)",
   "language": "python",
   "name": "python3"
  },
  "language_info": {
   "codemirror_mode": {
    "name": "ipython",
    "version": 3
   },
   "file_extension": ".py",
   "mimetype": "text/x-python",
   "name": "python",
   "nbconvert_exporter": "python",
   "pygments_lexer": "ipython3",
   "version": "3.9.16"
  }
 },
 "nbformat": 4,
 "nbformat_minor": 5
}
