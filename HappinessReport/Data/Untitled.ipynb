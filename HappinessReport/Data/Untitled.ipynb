{
 "cells": [
  {
   "cell_type": "code",
   "execution_count": 1,
   "id": "4ff72325",
   "metadata": {},
   "outputs": [],
   "source": [
    "import pandas as pd"
   ]
  },
  {
   "cell_type": "code",
   "execution_count": 2,
   "id": "5f66fa8b",
   "metadata": {},
   "outputs": [],
   "source": [
    "#read csvs & assign to variables\n",
    "data_2015 = pd.read_csv('cleanCSVs/Happiness_Score_2015.csv')\n",
    "data_2016 = pd.read_csv('cleanCSVs/Happiness_Score_2016.csv')\n",
    "data_2017 = pd.read_csv('cleanCSVs/Happiness_Score_2017.csv')\n",
    "data_2018 = pd.read_csv('cleanCSVs/Happiness_Score_2018.csv')\n",
    "data_2019 = pd.read_csv('cleanCSVs/Happiness_Score_2019.csv')"
   ]
  },
  {
   "cell_type": "code",
   "execution_count": 21,
   "id": "533b4172",
   "metadata": {},
   "outputs": [
    {
     "name": "stdout",
     "output_type": "stream",
     "text": [
      "{'Switzerland': 1, 'Iceland': 2, 'Denmark': 3, 'Norway': 4, 'Canada': 5}\n"
     ]
    }
   ],
   "source": [
    "top5_2015 = {}\n",
    "\n",
    "for index, row in data_2015[0:5].iterrows():\n",
    "    country_name = row['Country']\n",
    "    country_rank = row['2015 Happiness Rank']\n",
    "    top5_2015[country_name] = country_rank\n",
    "    \n",
    "print(top5_2015)"
   ]
  },
  {
   "cell_type": "code",
   "execution_count": 25,
   "id": "5b383152",
   "metadata": {},
   "outputs": [
    {
     "name": "stdout",
     "output_type": "stream",
     "text": [
      "{'Finland': 1, 'Denmark': 2, 'Norway': 3, 'Iceland': 4, 'Netherlands': 5}\n"
     ]
    }
   ],
   "source": [
    "top5_2019 = {}\n",
    "\n",
    "for index, row in data_2019[0:5].iterrows():\n",
    "    country_name = row['Country']\n",
    "    country_rank = row['2019 Happiness Rank']\n",
    "    top5_2019[country_name] = country_rank\n",
    "\n",
    "print(top5_2019)"
   ]
  },
  {
   "cell_type": "code",
   "execution_count": 29,
   "id": "2c354bde",
   "metadata": {},
   "outputs": [
    {
     "name": "stdout",
     "output_type": "stream",
     "text": [
      "Switzerland: Rank Change -> -5\n",
      "Iceland: Rank Change -> -2\n",
      "Denmark: Rank Change -> 1\n",
      "Norway: Rank Change -> 1\n",
      "Canada: Rank Change -> -4\n"
     ]
    }
   ],
   "source": [
    "rank_changes = {}\n",
    "\n",
    "for country in top5_2015:\n",
    "    if country in data_2019['Country'].tolist():\n",
    "        rank_2015 = data_2015[data_2015['Country'] == country]['2015 Happiness Rank'].iloc[0]\n",
    "        rank_2019 = data_2019[data_2019['Country'] == country]['2019 Happiness Rank'].iloc[0]\n",
    "        rank_change = rank_2015 - rank_2019\n",
    "        rank_changes[country] = rank_change\n",
    "    else:\n",
    "        rank_changes[country] = 'Data Missing in 2019'\n",
    "\n",
    "for country, rank_change in rank_changes.items():\n",
    "    print(f'{country}: Rank Change -> {rank_change}')\n"
   ]
  },
  {
   "cell_type": "code",
   "execution_count": 30,
   "id": "caa6ed61",
   "metadata": {},
   "outputs": [
    {
     "name": "stdout",
     "output_type": "stream",
     "text": [
      "Finland: Rank Change -> 5\n",
      "Denmark: Rank Change -> 1\n",
      "Norway: Rank Change -> 1\n",
      "Iceland: Rank Change -> -2\n",
      "Netherlands: Rank Change -> 2\n"
     ]
    }
   ],
   "source": [
    "rank_changes = {}\n",
    "\n",
    "for country in top5_2019:\n",
    "    if country in data_2015['Country'].tolist():\n",
    "        rank_2019 = data_2019[data_2019['Country'] == country]['2019 Happiness Rank'].iloc[0]\n",
    "        rank_2015 = data_2015[data_2015['Country'] == country]['2015 Happiness Rank'].iloc[0]\n",
    "        rank_change = rank_2015 - rank_2019\n",
    "        rank_changes[country] = rank_change\n",
    "    else:\n",
    "        rank_changes[country] = 'Data Missing in 2015'\n",
    "\n",
    "for country, rank_change in rank_changes.items():\n",
    "    print(f\"{country}: Rank Change -> {rank_change}\")"
   ]
  },
  {
   "cell_type": "code",
   "execution_count": null,
   "id": "068a18f3",
   "metadata": {},
   "outputs": [],
   "source": []
  }
 ],
 "metadata": {
  "kernelspec": {
   "display_name": "Python 3 (ipykernel)",
   "language": "python",
   "name": "python3"
  },
  "language_info": {
   "codemirror_mode": {
    "name": "ipython",
    "version": 3
   },
   "file_extension": ".py",
   "mimetype": "text/x-python",
   "name": "python",
   "nbconvert_exporter": "python",
   "pygments_lexer": "ipython3",
   "version": "3.10.10"
  }
 },
 "nbformat": 4,
 "nbformat_minor": 5
}
