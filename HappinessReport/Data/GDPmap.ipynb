{
 "cells": [
  {
   "cell_type": "code",
   "execution_count": 1,
   "id": "85bdbc5b",
   "metadata": {},
   "outputs": [],
   "source": [
    "import pandas as pd "
   ]
  },
  {
   "cell_type": "code",
   "execution_count": 2,
   "id": "b4deaf57",
   "metadata": {},
   "outputs": [],
   "source": [
    "csv_file = 'cleanCSVs/Happiness_Score_2015.csv'\n",
    "\n",
    "data = pd.read_csv(csv_file)"
   ]
  },
  {
   "cell_type": "code",
   "execution_count": 23,
   "id": "5fbf3441",
   "metadata": {},
   "outputs": [],
   "source": [
    "import plotly.graph_objects as go\n",
    "\n",
    "color_scale = 'sunsetdark'\n",
    "colors = 'blues'\n",
    "\n",
    "layer1 = go.Scattergeo(\n",
    "    lon = data['Longitude'],\n",
    "    lat = data['Latitude'],\n",
    "    text = data['Country']+'<br>'+'Economy:' + data['2015 Economy (GDP per Capita)'].astype(str),\n",
    "    mode = 'markers',\n",
    "    marker=dict(\n",
    "        size=10,\n",
    "        opacity=0.8,\n",
    "        color=data['2015 Economy (GDP per Capita)'],  \n",
    "        colorscale=color_scale,  \n",
    "        cmin=data['2015 Economy (GDP per Capita)'].min(),  \n",
    "        cmax=data['2015 Economy (GDP per Capita)'].max(), \n",
    "        colorbar_title='2015 Economy (GDP per Capita)',\n",
    "        line=dict(width=1, color='black')\n",
    "    )\n",
    ")\n",
    "\n",
    "Layer2 = go.Scattergeo(\n",
    "    lon = data['Longitude'],\n",
    "    lat = data['Latitude'],\n",
    "    text = data['Country']+'<br>'+'Economy:' + data['2015 Trust (Government Corruption)'].astype(str),\n",
    "    mode = 'markers',\n",
    "    marker=dict(\n",
    "        size=10,\n",
    "        opacity=0.8,\n",
    "        color=data['2015 Trust (Government Corruption)'],  \n",
    "        colorscale=colors,  \n",
    "        cmin=data['2015 Trust (Government Corruption)'].min(),  \n",
    "        cmax=data['2015 Trust (Government Corruption)'].max(), \n",
    "        colorbar_title='2015 Trust (Government Corruption)',\n",
    "        line=dict(width=1, color='black')\n",
    "    )\n",
    ")"
   ]
  },
  {
   "cell_type": "code",
   "execution_count": 24,
   "id": "14b1426c",
   "metadata": {},
   "outputs": [
    {
     "data": {
      "application/vnd.plotly.v1+json": {
       "config": {
        "plotlyServerURL": "https://plot.ly"
       },
       "data": [
        {
         "lat": [
          46.7985624,
          64.9841821,
          55.670249,
          61.1529386,
          61.0666922,
          63.2467777,
          52.2434979,
          59.6749712,
          -41.5000831,
          -24.7761086,
          30.8124247,
          10.2735633,
          47.59397,
          23.6585116,
          39.7837304,
          -10.3333333,
          49.8158683,
          52.865196,
          50.6402809,
          24.0002488,
          54.7023545,
          21.0000287,
          8.0018709,
          1.357107,
          8.559559,
          51.1638175,
          -31.7613365,
          25.3336984,
          46.603354,
          -34.9964963,
          49.7439047,
          -32.8755548,
          4.099917,
          14.8971921,
          25.6242618,
          39.3260685,
          35.8885993,
          23.9739374,
          29.2733964,
          4.1413025,
          10.7466905,
          13.8000382,
          15.5855545,
          41.32373,
          48.7411522,
          36.5748441,
          36.638392,
          -1.3397668,
          26.1551249,
          42.6384261,
          -17.0568696,
          47.2879608,
          -23.3165935,
          48.1012954,
          46.1199444,
          55.3500003,
          12.6090157,
          -6.8699697,
          53.4250605,
          52.215933,
          4.5693754,
          45.3658443,
          26.8234472,
          64.6863136,
          18.1850507,
          35.2245313,
          34.9823018,
          28.0000272,
          42.5869578,
          39.3763807,
          -20.2759451,
          22.2793278,
          58.7523778,
          -2.4833826,
          15.9266657,
          38.9597594,
          41.5089324,
          9.6000359,
          27.549511,
          40.3936294,
          30.3308401,
          31.1667049,
          42.9868853,
          35.000074,
          -14.5189121,
          45.9852129,
          44.1534121,
          39.6621648,
          56.8406494,
          12.7503486,
          10.3743673,
          31.1728205,
          41.6171214,
          -19.302233,
          41.000028,
          44.3053476,
          -29.6039267,
          19.0974031,
          20.0171109,
          46.8250388,
          -26.5624806,
          38.9953683,
          33.8750629,
          47.1817585,
          15.2572432,
          38.6281733,
          33.8439408,
          31.46242095,
          24.4769288,
          32.6475314,
          49.4871968,
          33.0955793,
          -28.8166236,
          8.0300284,
          -18.4554963,
          5.7499721,
          22.3511148,
          14.5844444,
          19.1399952,
          -2.9814344,
          28.1083929,
          10.2116702,
          8.6400349,
          20.2540382,
          1.4419683,
          11.8145966,
          40.7696272,
          -23.1681782,
          17.1750495,
          32.3293809,
          -13.2687204,
          7.877395849999999,
          4.6125522,
          42.6073975,
          26.2540493,
          16.3471243,
          -11.8775768,
          16.3700359,
          -0.7264327,
          -12.2045176,
          1.5333554,
          14.4750607,
          -0.8999695,
          17.7356214,
          12.5433216,
          -6.5247123,
          -18.9249604,
          7.0323598,
          15.6134137,
          10.7226226,
          7.9897371,
          12.0753083,
          33.7680065,
          -1.9646631,
          9.5293472,
          34.6401861,
          -3.426449,
          8.7800265
         ],
         "lon": [
          8.2319736,
          -18.1059013,
          10.3333283,
          8.7876653,
          -107.991707,
          25.9209164,
          5.6343227,
          14.5208584,
          172.8344077,
          134.755,
          34.8594762,
          -84.0739102,
          14.12456,
          -102.0077097,
          -100.445882,
          -53.2,
          6.1296751,
          -7.9794599,
          4.6667145,
          53.9994829,
          -3.2765753,
          57.0036901,
          -66.1109318,
          103.8194992,
          -81.1308434,
          10.4478313,
          -71.3187697,
          51.2295295,
          1.8883335,
          -64.9672817,
          15.3381061,
          -56.0201525,
          -72.9088133,
          100.83273,
          42.3528328,
          -4.8379791,
          14.4476911,
          120.9820179,
          47.4979476,
          -56.0771187,
          -61.0840075,
          -88.9140683,
          -90.345759,
          63.9528098,
          19.4528646,
          139.2394179,
          127.6961188,
          -79.3666965,
          50.5344606,
          12.674297,
          -64.9912286,
          28.5670941,
          -58.1693445,
          66.7780818,
          14.8153333,
          23.7499997,
          -85.2936911,
          -75.0458515,
          27.6971358,
          19.134422,
          102.2656823,
          15.6575209,
          18.1236723,
          97.7453061,
          -77.3947693,
          33.6252379,
          33.1451285,
          2.9999825,
          20.9021231,
          59.3924609,
          57.5703566,
          114.1628131,
          25.3319078,
          117.8902853,
          107.9650855,
          34.9249653,
          74.724091,
          7.9999721,
          90.5119273,
          47.7872508,
          71.247499,
          36.941628,
          19.5180992,
          104.999927,
          27.5589884,
          24.6859225,
          20.55144,
          -8.1353519,
          24.7537645,
          122.7312101,
          45.1098578,
          -7.3362482,
          21.7168387,
          34.9144977,
          19.9999619,
          17.5961467,
          28.3350193,
          -70.3028026,
          103.378253,
          103.8499736,
          31.3991317,
          21.9877132,
          35.843409,
          19.5060937,
          -86.0755145,
          70.8156541,
          9.400138,
          34.262716572130714,
          90.2934413,
          54.5643516,
          31.2718321,
          44.1749775,
          24.991639,
          -1.0800271,
          29.7468414,
          -9.3658524,
          78.6677428,
          29.4917691,
          -72.3570972,
          23.8222636,
          84.0917139,
          38.6521203,
          -11.8400269,
          -9.2399263,
          38.4313975,
          42.8453061,
          44.6736646,
          24.5928742,
          95.9999652,
          -83.1137366,
          33.9301963,
          80.66247852355892,
          13.1535811,
          25.4856617,
          29.2675469,
          47.8915271,
          17.5691241,
          -2.2900239,
          15.6419155,
          44.2832964,
          32.2166578,
          -14.4529612,
          11.6899699,
          9.3238432,
          104.8144914,
          35.7878438,
          46.4416422,
          19.9981227,
          19.0156172,
          -10.7083587,
          -5.5679458,
          -1.6880314,
          66.2385139,
          30.0644358,
          2.2584408,
          39.0494106,
          29.9324519,
          1.0199765
         ],
         "marker": {
          "cmax": 0.55191,
          "cmin": 0,
          "color": [
           0.41978,
           0.14145,
           0.48357,
           0.36503,
           0.32957,
           0.41372,
           0.31814,
           0.43844,
           0.42922,
           0.35637,
           0.07785,
           0.10583,
           0.18676,
           0.21312,
           0.1589,
           0.17521,
           0.37798,
           0.28703,
           0.2254,
           0.38583,
           0.32067,
           0.32524,
           0.11069,
           0.4921,
           0.0927,
           0.21843,
           0.12869,
           0.52208,
           0.20646,
           0.08484,
           0.02652,
           0.24558,
           0.0512,
           0.03187,
           0.32524,
           0.06398,
           0.13586,
           0.08129,
           0.25609,
           0.13633,
           0.0114,
           0.11776,
           0.09472,
           0.30826,
           0.03431,
           0.1806,
           0.07857,
           0.1809,
           0.306,
           0.02901,
           0.088,
           0.01615,
           0.08242,
           0.08454,
           0.03787,
           0.01031,
           0.19317,
           0.05989,
           0.1909,
           0.04212,
           0.10501,
           0.0243,
           0.11023,
           0.03005,
           0.02299,
           0.1428,
           0.06146,
           0.17383,
           0.04741,
           0.30844,
           0.07521,
           0.37124,
           0.15184,
           0,
           0.10441,
           0.15746,
           0.04232,
           0.0403,
           0.15445,
           0.16065,
           0.10464,
           0.14293,
           0.14296,
           0.02781,
           0.12468,
           0.00649,
           0.02617,
           0.01078,
           0.06332,
           0.12279,
           0.39928,
           0.08546,
           0.05327,
           0.15603,
           0.06413,
           0.00227,
           0.12504,
           0.14234,
           0.24249,
           0.02666,
           0.0306,
           0.01397,
           0.04582,
           0.02758,
           0.06825,
           0.15072,
           0.06358,
           0.12905,
           0.12569,
           0.05863,
           0.02961,
           0.13788,
           0.08884,
           0.04355,
           0.08079,
           0.06232,
           0.08492,
           0.1466,
           0.17175,
           0.07625,
           0.05907,
           0.15048,
           0.08786,
           0.17461,
           0.05839,
           0.28105,
           0.039,
           0.12474,
           0.19034,
           0.38331,
           0.06977,
           0.09179,
           0.05786,
           0.00872,
           0.06324,
           0.07854,
           0.07122,
           0.12352,
           0.11686,
           0.199,
           0.07267,
           0.10713,
           0.11091,
           0.15639,
           0.07247,
           0.05747,
           0.08124,
           0.08289,
           0.05269,
           0.12139,
           0.17922,
           0.12832,
           0.09719,
           0.55191,
           0.0801,
           0.18906,
           0.10062,
           0.10731
          ],
          "colorbar": {
           "title": {
            "text": "2015 Trust (Government Corruption)"
           }
          },
          "colorscale": [
           [
            0,
            "rgb(247,251,255)"
           ],
           [
            0.125,
            "rgb(222,235,247)"
           ],
           [
            0.25,
            "rgb(198,219,239)"
           ],
           [
            0.375,
            "rgb(158,202,225)"
           ],
           [
            0.5,
            "rgb(107,174,214)"
           ],
           [
            0.625,
            "rgb(66,146,198)"
           ],
           [
            0.75,
            "rgb(33,113,181)"
           ],
           [
            0.875,
            "rgb(8,81,156)"
           ],
           [
            1,
            "rgb(8,48,107)"
           ]
          ],
          "line": {
           "color": "black",
           "width": 1
          },
          "opacity": 0.8,
          "size": 10
         },
         "mode": "markers",
         "text": [
          "Switzerland<br>Economy:0.41978",
          "Iceland<br>Economy:0.14145",
          "Denmark<br>Economy:0.48357",
          "Norway<br>Economy:0.36503",
          "Canada<br>Economy:0.32957",
          "Finland<br>Economy:0.41372",
          "Netherlands<br>Economy:0.31814",
          "Sweden<br>Economy:0.43844",
          "New Zealand<br>Economy:0.42922",
          "Australia<br>Economy:0.35637",
          "Israel<br>Economy:0.07785",
          "Costa Rica<br>Economy:0.10583",
          "Austria<br>Economy:0.18676",
          "Mexico<br>Economy:0.21312",
          "United States<br>Economy:0.1589",
          "Brazil<br>Economy:0.17521",
          "Luxembourg<br>Economy:0.37798",
          "Ireland<br>Economy:0.28703",
          "Belgium<br>Economy:0.2254",
          "United Arab Emirates<br>Economy:0.38583",
          "United Kingdom<br>Economy:0.32067",
          "Oman<br>Economy:0.32524",
          "Venezuela<br>Economy:0.11069",
          "Singapore<br>Economy:0.4921",
          "Panama<br>Economy:0.0927",
          "Germany<br>Economy:0.21843",
          "Chile<br>Economy:0.12869",
          "Qatar<br>Economy:0.52208",
          "France<br>Economy:0.20646",
          "Argentina<br>Economy:0.08484",
          "Czech Republic<br>Economy:0.02652",
          "Uruguay<br>Economy:0.24558",
          "Colombia<br>Economy:0.0512",
          "Thailand<br>Economy:0.03187",
          "Saudi Arabia<br>Economy:0.32524",
          "Spain<br>Economy:0.06398",
          "Malta<br>Economy:0.13586",
          "Taiwan<br>Economy:0.08129",
          "Kuwait<br>Economy:0.25609",
          "Suriname<br>Economy:0.13633",
          "Trinidad and Tobago<br>Economy:0.0114",
          "El Salvador<br>Economy:0.11776",
          "Guatemala<br>Economy:0.09472",
          "Uzbekistan<br>Economy:0.30826",
          "Slovakia<br>Economy:0.03431",
          "Japan<br>Economy:0.1806",
          "South Korea<br>Economy:0.07857",
          "Ecuador<br>Economy:0.1809",
          "Bahrain<br>Economy:0.306",
          "Italy<br>Economy:0.02901",
          "Bolivia<br>Economy:0.088",
          "Moldova<br>Economy:0.01615",
          "Paraguay<br>Economy:0.08242",
          "Kazakhstan<br>Economy:0.08454",
          "Slovenia<br>Economy:0.03787",
          "Lithuania<br>Economy:0.01031",
          "Nicaragua<br>Economy:0.19317",
          "Peru<br>Economy:0.05989",
          "Belarus<br>Economy:0.1909",
          "Poland<br>Economy:0.04212",
          "Malaysia<br>Economy:0.10501",
          "Croatia<br>Economy:0.0243",
          "Libya<br>Economy:0.11023",
          "Russia<br>Economy:0.03005",
          "Jamaica<br>Economy:0.02299",
          "North Cyprus<br>Economy:0.1428",
          "Cyprus<br>Economy:0.06146",
          "Algeria<br>Economy:0.17383",
          "Kosovo<br>Economy:0.04741",
          "Turkmenistan<br>Economy:0.30844",
          "Mauritius<br>Economy:0.07521",
          "Hong Kong<br>Economy:0.37124",
          "Estonia<br>Economy:0.15184",
          "Indonesia<br>Economy:0.0",
          "Vietnam<br>Economy:0.10441",
          "Turkey<br>Economy:0.15746",
          "Kyrgyzstan<br>Economy:0.04232",
          "Nigeria<br>Economy:0.0403",
          "Bhutan<br>Economy:0.15445",
          "Azerbaijan<br>Economy:0.16065",
          "Pakistan<br>Economy:0.10464",
          "Jordan<br>Economy:0.14293",
          "Montenegro<br>Economy:0.14296",
          "China<br>Economy:0.02781",
          "Zambia<br>Economy:0.12468",
          "Romania<br>Economy:0.00649",
          "Serbia<br>Economy:0.02617",
          "Portugal<br>Economy:0.01078",
          "Latvia<br>Economy:0.06332",
          "Philippines<br>Economy:0.12279",
          "Somaliland region<br>Economy:0.39928",
          "Morocco<br>Economy:0.08546",
          "Macedonia<br>Economy:0.05327",
          "Mozambique<br>Economy:0.15603",
          "Albania<br>Economy:0.06413",
          "Bosnia and Herzegovina<br>Economy:0.00227",
          "Lesotho<br>Economy:0.12504",
          "Dominican Republic<br>Economy:0.14234",
          "Laos<br>Economy:0.24249",
          "Mongolia<br>Economy:0.02666",
          "Swaziland<br>Economy:0.0306",
          "Greece<br>Economy:0.01397",
          "Lebanon<br>Economy:0.04582",
          "Hungary<br>Economy:0.02758",
          "Honduras<br>Economy:0.06825",
          "Tajikistan<br>Economy:0.15072",
          "Tunisia<br>Economy:0.06358",
          "Palestinian Territories<br>Economy:0.12905",
          "Bangladesh<br>Economy:0.12569",
          "Iran<br>Economy:0.05863",
          "Ukraine<br>Economy:0.02961",
          "Iraq<br>Economy:0.13788",
          "South Africa<br>Economy:0.08884",
          "Ghana<br>Economy:0.04355",
          "Zimbabwe<br>Economy:0.08079",
          "Liberia<br>Economy:0.06232",
          "India<br>Economy:0.08492",
          "Sudan<br>Economy:0.1466",
          "Haiti<br>Economy:0.17175",
          "Congo (Kinshasa)<br>Economy:0.07625",
          "Nepal<br>Economy:0.05907",
          "Ethiopia<br>Economy:0.15048",
          "Sierra Leone<br>Economy:0.08786",
          "Mauritania<br>Economy:0.17461",
          "Kenya<br>Economy:0.05839",
          "Djibouti<br>Economy:0.28105",
          "Armenia<br>Economy:0.039",
          "Botswana<br>Economy:0.12474",
          "Myanmar<br>Economy:0.19034",
          "Georgia<br>Economy:0.38331",
          "Malawi<br>Economy:0.06977",
          "Sri Lanka<br>Economy:0.09179",
          "Cameroon<br>Economy:0.05786",
          "Bulgaria<br>Economy:0.00872",
          "Egypt<br>Economy:0.06324",
          "Yemen<br>Economy:0.07854",
          "Angola<br>Economy:0.07122",
          "Mali<br>Economy:0.12352",
          "Congo (Brazzaville)<br>Economy:0.11686",
          "Comoros<br>Economy:0.199",
          "Uganda<br>Economy:0.07267",
          "Senegal<br>Economy:0.10713",
          "Gabon<br>Economy:0.11091",
          "Niger<br>Economy:0.15639",
          "Cambodia<br>Economy:0.07247",
          "Tanzania<br>Economy:0.05747",
          "Madagascar<br>Economy:0.08124",
          "Central African Republic<br>Economy:0.08289",
          "Chad<br>Economy:0.05269",
          "Guinea<br>Economy:0.12139",
          "Ivory Coast<br>Economy:0.17922",
          "Burkina Faso<br>Economy:0.12832",
          "Afghanistan<br>Economy:0.09719",
          "Rwanda<br>Economy:0.55191",
          "Benin<br>Economy:0.0801",
          "Syria<br>Economy:0.18906",
          "Burundi<br>Economy:0.10062",
          "Togo<br>Economy:0.10731"
         ],
         "type": "scattergeo"
        }
       ],
       "layout": {
        "geo": {
         "scope": "world",
         "showland": true
        },
        "template": {
         "data": {
          "bar": [
           {
            "error_x": {
             "color": "#2a3f5f"
            },
            "error_y": {
             "color": "#2a3f5f"
            },
            "marker": {
             "line": {
              "color": "#E5ECF6",
              "width": 0.5
             },
             "pattern": {
              "fillmode": "overlay",
              "size": 10,
              "solidity": 0.2
             }
            },
            "type": "bar"
           }
          ],
          "barpolar": [
           {
            "marker": {
             "line": {
              "color": "#E5ECF6",
              "width": 0.5
             },
             "pattern": {
              "fillmode": "overlay",
              "size": 10,
              "solidity": 0.2
             }
            },
            "type": "barpolar"
           }
          ],
          "carpet": [
           {
            "aaxis": {
             "endlinecolor": "#2a3f5f",
             "gridcolor": "white",
             "linecolor": "white",
             "minorgridcolor": "white",
             "startlinecolor": "#2a3f5f"
            },
            "baxis": {
             "endlinecolor": "#2a3f5f",
             "gridcolor": "white",
             "linecolor": "white",
             "minorgridcolor": "white",
             "startlinecolor": "#2a3f5f"
            },
            "type": "carpet"
           }
          ],
          "choropleth": [
           {
            "colorbar": {
             "outlinewidth": 0,
             "ticks": ""
            },
            "type": "choropleth"
           }
          ],
          "contour": [
           {
            "colorbar": {
             "outlinewidth": 0,
             "ticks": ""
            },
            "colorscale": [
             [
              0,
              "#0d0887"
             ],
             [
              0.1111111111111111,
              "#46039f"
             ],
             [
              0.2222222222222222,
              "#7201a8"
             ],
             [
              0.3333333333333333,
              "#9c179e"
             ],
             [
              0.4444444444444444,
              "#bd3786"
             ],
             [
              0.5555555555555556,
              "#d8576b"
             ],
             [
              0.6666666666666666,
              "#ed7953"
             ],
             [
              0.7777777777777778,
              "#fb9f3a"
             ],
             [
              0.8888888888888888,
              "#fdca26"
             ],
             [
              1,
              "#f0f921"
             ]
            ],
            "type": "contour"
           }
          ],
          "contourcarpet": [
           {
            "colorbar": {
             "outlinewidth": 0,
             "ticks": ""
            },
            "type": "contourcarpet"
           }
          ],
          "heatmap": [
           {
            "colorbar": {
             "outlinewidth": 0,
             "ticks": ""
            },
            "colorscale": [
             [
              0,
              "#0d0887"
             ],
             [
              0.1111111111111111,
              "#46039f"
             ],
             [
              0.2222222222222222,
              "#7201a8"
             ],
             [
              0.3333333333333333,
              "#9c179e"
             ],
             [
              0.4444444444444444,
              "#bd3786"
             ],
             [
              0.5555555555555556,
              "#d8576b"
             ],
             [
              0.6666666666666666,
              "#ed7953"
             ],
             [
              0.7777777777777778,
              "#fb9f3a"
             ],
             [
              0.8888888888888888,
              "#fdca26"
             ],
             [
              1,
              "#f0f921"
             ]
            ],
            "type": "heatmap"
           }
          ],
          "heatmapgl": [
           {
            "colorbar": {
             "outlinewidth": 0,
             "ticks": ""
            },
            "colorscale": [
             [
              0,
              "#0d0887"
             ],
             [
              0.1111111111111111,
              "#46039f"
             ],
             [
              0.2222222222222222,
              "#7201a8"
             ],
             [
              0.3333333333333333,
              "#9c179e"
             ],
             [
              0.4444444444444444,
              "#bd3786"
             ],
             [
              0.5555555555555556,
              "#d8576b"
             ],
             [
              0.6666666666666666,
              "#ed7953"
             ],
             [
              0.7777777777777778,
              "#fb9f3a"
             ],
             [
              0.8888888888888888,
              "#fdca26"
             ],
             [
              1,
              "#f0f921"
             ]
            ],
            "type": "heatmapgl"
           }
          ],
          "histogram": [
           {
            "marker": {
             "pattern": {
              "fillmode": "overlay",
              "size": 10,
              "solidity": 0.2
             }
            },
            "type": "histogram"
           }
          ],
          "histogram2d": [
           {
            "colorbar": {
             "outlinewidth": 0,
             "ticks": ""
            },
            "colorscale": [
             [
              0,
              "#0d0887"
             ],
             [
              0.1111111111111111,
              "#46039f"
             ],
             [
              0.2222222222222222,
              "#7201a8"
             ],
             [
              0.3333333333333333,
              "#9c179e"
             ],
             [
              0.4444444444444444,
              "#bd3786"
             ],
             [
              0.5555555555555556,
              "#d8576b"
             ],
             [
              0.6666666666666666,
              "#ed7953"
             ],
             [
              0.7777777777777778,
              "#fb9f3a"
             ],
             [
              0.8888888888888888,
              "#fdca26"
             ],
             [
              1,
              "#f0f921"
             ]
            ],
            "type": "histogram2d"
           }
          ],
          "histogram2dcontour": [
           {
            "colorbar": {
             "outlinewidth": 0,
             "ticks": ""
            },
            "colorscale": [
             [
              0,
              "#0d0887"
             ],
             [
              0.1111111111111111,
              "#46039f"
             ],
             [
              0.2222222222222222,
              "#7201a8"
             ],
             [
              0.3333333333333333,
              "#9c179e"
             ],
             [
              0.4444444444444444,
              "#bd3786"
             ],
             [
              0.5555555555555556,
              "#d8576b"
             ],
             [
              0.6666666666666666,
              "#ed7953"
             ],
             [
              0.7777777777777778,
              "#fb9f3a"
             ],
             [
              0.8888888888888888,
              "#fdca26"
             ],
             [
              1,
              "#f0f921"
             ]
            ],
            "type": "histogram2dcontour"
           }
          ],
          "mesh3d": [
           {
            "colorbar": {
             "outlinewidth": 0,
             "ticks": ""
            },
            "type": "mesh3d"
           }
          ],
          "parcoords": [
           {
            "line": {
             "colorbar": {
              "outlinewidth": 0,
              "ticks": ""
             }
            },
            "type": "parcoords"
           }
          ],
          "pie": [
           {
            "automargin": true,
            "type": "pie"
           }
          ],
          "scatter": [
           {
            "fillpattern": {
             "fillmode": "overlay",
             "size": 10,
             "solidity": 0.2
            },
            "type": "scatter"
           }
          ],
          "scatter3d": [
           {
            "line": {
             "colorbar": {
              "outlinewidth": 0,
              "ticks": ""
             }
            },
            "marker": {
             "colorbar": {
              "outlinewidth": 0,
              "ticks": ""
             }
            },
            "type": "scatter3d"
           }
          ],
          "scattercarpet": [
           {
            "marker": {
             "colorbar": {
              "outlinewidth": 0,
              "ticks": ""
             }
            },
            "type": "scattercarpet"
           }
          ],
          "scattergeo": [
           {
            "marker": {
             "colorbar": {
              "outlinewidth": 0,
              "ticks": ""
             }
            },
            "type": "scattergeo"
           }
          ],
          "scattergl": [
           {
            "marker": {
             "colorbar": {
              "outlinewidth": 0,
              "ticks": ""
             }
            },
            "type": "scattergl"
           }
          ],
          "scattermapbox": [
           {
            "marker": {
             "colorbar": {
              "outlinewidth": 0,
              "ticks": ""
             }
            },
            "type": "scattermapbox"
           }
          ],
          "scatterpolar": [
           {
            "marker": {
             "colorbar": {
              "outlinewidth": 0,
              "ticks": ""
             }
            },
            "type": "scatterpolar"
           }
          ],
          "scatterpolargl": [
           {
            "marker": {
             "colorbar": {
              "outlinewidth": 0,
              "ticks": ""
             }
            },
            "type": "scatterpolargl"
           }
          ],
          "scatterternary": [
           {
            "marker": {
             "colorbar": {
              "outlinewidth": 0,
              "ticks": ""
             }
            },
            "type": "scatterternary"
           }
          ],
          "surface": [
           {
            "colorbar": {
             "outlinewidth": 0,
             "ticks": ""
            },
            "colorscale": [
             [
              0,
              "#0d0887"
             ],
             [
              0.1111111111111111,
              "#46039f"
             ],
             [
              0.2222222222222222,
              "#7201a8"
             ],
             [
              0.3333333333333333,
              "#9c179e"
             ],
             [
              0.4444444444444444,
              "#bd3786"
             ],
             [
              0.5555555555555556,
              "#d8576b"
             ],
             [
              0.6666666666666666,
              "#ed7953"
             ],
             [
              0.7777777777777778,
              "#fb9f3a"
             ],
             [
              0.8888888888888888,
              "#fdca26"
             ],
             [
              1,
              "#f0f921"
             ]
            ],
            "type": "surface"
           }
          ],
          "table": [
           {
            "cells": {
             "fill": {
              "color": "#EBF0F8"
             },
             "line": {
              "color": "white"
             }
            },
            "header": {
             "fill": {
              "color": "#C8D4E3"
             },
             "line": {
              "color": "white"
             }
            },
            "type": "table"
           }
          ]
         },
         "layout": {
          "annotationdefaults": {
           "arrowcolor": "#2a3f5f",
           "arrowhead": 0,
           "arrowwidth": 1
          },
          "autotypenumbers": "strict",
          "coloraxis": {
           "colorbar": {
            "outlinewidth": 0,
            "ticks": ""
           }
          },
          "colorscale": {
           "diverging": [
            [
             0,
             "#8e0152"
            ],
            [
             0.1,
             "#c51b7d"
            ],
            [
             0.2,
             "#de77ae"
            ],
            [
             0.3,
             "#f1b6da"
            ],
            [
             0.4,
             "#fde0ef"
            ],
            [
             0.5,
             "#f7f7f7"
            ],
            [
             0.6,
             "#e6f5d0"
            ],
            [
             0.7,
             "#b8e186"
            ],
            [
             0.8,
             "#7fbc41"
            ],
            [
             0.9,
             "#4d9221"
            ],
            [
             1,
             "#276419"
            ]
           ],
           "sequential": [
            [
             0,
             "#0d0887"
            ],
            [
             0.1111111111111111,
             "#46039f"
            ],
            [
             0.2222222222222222,
             "#7201a8"
            ],
            [
             0.3333333333333333,
             "#9c179e"
            ],
            [
             0.4444444444444444,
             "#bd3786"
            ],
            [
             0.5555555555555556,
             "#d8576b"
            ],
            [
             0.6666666666666666,
             "#ed7953"
            ],
            [
             0.7777777777777778,
             "#fb9f3a"
            ],
            [
             0.8888888888888888,
             "#fdca26"
            ],
            [
             1,
             "#f0f921"
            ]
           ],
           "sequentialminus": [
            [
             0,
             "#0d0887"
            ],
            [
             0.1111111111111111,
             "#46039f"
            ],
            [
             0.2222222222222222,
             "#7201a8"
            ],
            [
             0.3333333333333333,
             "#9c179e"
            ],
            [
             0.4444444444444444,
             "#bd3786"
            ],
            [
             0.5555555555555556,
             "#d8576b"
            ],
            [
             0.6666666666666666,
             "#ed7953"
            ],
            [
             0.7777777777777778,
             "#fb9f3a"
            ],
            [
             0.8888888888888888,
             "#fdca26"
            ],
            [
             1,
             "#f0f921"
            ]
           ]
          },
          "colorway": [
           "#636efa",
           "#EF553B",
           "#00cc96",
           "#ab63fa",
           "#FFA15A",
           "#19d3f3",
           "#FF6692",
           "#B6E880",
           "#FF97FF",
           "#FECB52"
          ],
          "font": {
           "color": "#2a3f5f"
          },
          "geo": {
           "bgcolor": "white",
           "lakecolor": "white",
           "landcolor": "#E5ECF6",
           "showlakes": true,
           "showland": true,
           "subunitcolor": "white"
          },
          "hoverlabel": {
           "align": "left"
          },
          "hovermode": "closest",
          "mapbox": {
           "style": "light"
          },
          "paper_bgcolor": "white",
          "plot_bgcolor": "#E5ECF6",
          "polar": {
           "angularaxis": {
            "gridcolor": "white",
            "linecolor": "white",
            "ticks": ""
           },
           "bgcolor": "#E5ECF6",
           "radialaxis": {
            "gridcolor": "white",
            "linecolor": "white",
            "ticks": ""
           }
          },
          "scene": {
           "xaxis": {
            "backgroundcolor": "#E5ECF6",
            "gridcolor": "white",
            "gridwidth": 2,
            "linecolor": "white",
            "showbackground": true,
            "ticks": "",
            "zerolinecolor": "white"
           },
           "yaxis": {
            "backgroundcolor": "#E5ECF6",
            "gridcolor": "white",
            "gridwidth": 2,
            "linecolor": "white",
            "showbackground": true,
            "ticks": "",
            "zerolinecolor": "white"
           },
           "zaxis": {
            "backgroundcolor": "#E5ECF6",
            "gridcolor": "white",
            "gridwidth": 2,
            "linecolor": "white",
            "showbackground": true,
            "ticks": "",
            "zerolinecolor": "white"
           }
          },
          "shapedefaults": {
           "line": {
            "color": "#2a3f5f"
           }
          },
          "ternary": {
           "aaxis": {
            "gridcolor": "white",
            "linecolor": "white",
            "ticks": ""
           },
           "baxis": {
            "gridcolor": "white",
            "linecolor": "white",
            "ticks": ""
           },
           "bgcolor": "#E5ECF6",
           "caxis": {
            "gridcolor": "white",
            "linecolor": "white",
            "ticks": ""
           }
          },
          "title": {
           "x": 0.05
          },
          "xaxis": {
           "automargin": true,
           "gridcolor": "white",
           "linecolor": "white",
           "ticks": "",
           "title": {
            "standoff": 15
           },
           "zerolinecolor": "white",
           "zerolinewidth": 2
          },
          "yaxis": {
           "automargin": true,
           "gridcolor": "white",
           "linecolor": "white",
           "ticks": "",
           "title": {
            "standoff": 15
           },
           "zerolinecolor": "white",
           "zerolinewidth": 2
          }
         }
        },
        "title": {
         "text": "Map with Plotly"
        }
       }
      },
      "text/html": [
       "<div>                            <div id=\"e5be6454-5a0b-488c-a9d6-02d8ba373f61\" class=\"plotly-graph-div\" style=\"height:525px; width:100%;\"></div>            <script type=\"text/javascript\">                require([\"plotly\"], function(Plotly) {                    window.PLOTLYENV=window.PLOTLYENV || {};                                    if (document.getElementById(\"e5be6454-5a0b-488c-a9d6-02d8ba373f61\")) {                    Plotly.newPlot(                        \"e5be6454-5a0b-488c-a9d6-02d8ba373f61\",                        [{\"lat\":[46.7985624,64.9841821,55.670249,61.1529386,61.0666922,63.2467777,52.2434979,59.6749712,-41.5000831,-24.7761086,30.8124247,10.2735633,47.59397,23.6585116,39.7837304,-10.3333333,49.8158683,52.865196,50.6402809,24.0002488,54.7023545,21.0000287,8.0018709,1.357107,8.559559,51.1638175,-31.7613365,25.3336984,46.603354,-34.9964963,49.7439047,-32.8755548,4.099917,14.8971921,25.6242618,39.3260685,35.8885993,23.9739374,29.2733964,4.1413025,10.7466905,13.8000382,15.5855545,41.32373,48.7411522,36.5748441,36.638392,-1.3397668,26.1551249,42.6384261,-17.0568696,47.2879608,-23.3165935,48.1012954,46.1199444,55.3500003,12.6090157,-6.8699697,53.4250605,52.215933,4.5693754,45.3658443,26.8234472,64.6863136,18.1850507,35.2245313,34.9823018,28.0000272,42.5869578,39.3763807,-20.2759451,22.2793278,58.7523778,-2.4833826,15.9266657,38.9597594,41.5089324,9.6000359,27.549511,40.3936294,30.3308401,31.1667049,42.9868853,35.000074,-14.5189121,45.9852129,44.1534121,39.6621648,56.8406494,12.7503486,10.3743673,31.1728205,41.6171214,-19.302233,41.000028,44.3053476,-29.6039267,19.0974031,20.0171109,46.8250388,-26.5624806,38.9953683,33.8750629,47.1817585,15.2572432,38.6281733,33.8439408,31.46242095,24.4769288,32.6475314,49.4871968,33.0955793,-28.8166236,8.0300284,-18.4554963,5.7499721,22.3511148,14.5844444,19.1399952,-2.9814344,28.1083929,10.2116702,8.6400349,20.2540382,1.4419683,11.8145966,40.7696272,-23.1681782,17.1750495,32.3293809,-13.2687204,7.877395849999999,4.6125522,42.6073975,26.2540493,16.3471243,-11.8775768,16.3700359,-0.7264327,-12.2045176,1.5333554,14.4750607,-0.8999695,17.7356214,12.5433216,-6.5247123,-18.9249604,7.0323598,15.6134137,10.7226226,7.9897371,12.0753083,33.7680065,-1.9646631,9.5293472,34.6401861,-3.426449,8.7800265],\"lon\":[8.2319736,-18.1059013,10.3333283,8.7876653,-107.991707,25.9209164,5.6343227,14.5208584,172.8344077,134.755,34.8594762,-84.0739102,14.12456,-102.0077097,-100.445882,-53.2,6.1296751,-7.9794599,4.6667145,53.9994829,-3.2765753,57.0036901,-66.1109318,103.8194992,-81.1308434,10.4478313,-71.3187697,51.2295295,1.8883335,-64.9672817,15.3381061,-56.0201525,-72.9088133,100.83273,42.3528328,-4.8379791,14.4476911,120.9820179,47.4979476,-56.0771187,-61.0840075,-88.9140683,-90.345759,63.9528098,19.4528646,139.2394179,127.6961188,-79.3666965,50.5344606,12.674297,-64.9912286,28.5670941,-58.1693445,66.7780818,14.8153333,23.7499997,-85.2936911,-75.0458515,27.6971358,19.134422,102.2656823,15.6575209,18.1236723,97.7453061,-77.3947693,33.6252379,33.1451285,2.9999825,20.9021231,59.3924609,57.5703566,114.1628131,25.3319078,117.8902853,107.9650855,34.9249653,74.724091,7.9999721,90.5119273,47.7872508,71.247499,36.941628,19.5180992,104.999927,27.5589884,24.6859225,20.55144,-8.1353519,24.7537645,122.7312101,45.1098578,-7.3362482,21.7168387,34.9144977,19.9999619,17.5961467,28.3350193,-70.3028026,103.378253,103.8499736,31.3991317,21.9877132,35.843409,19.5060937,-86.0755145,70.8156541,9.400138,34.262716572130714,90.2934413,54.5643516,31.2718321,44.1749775,24.991639,-1.0800271,29.7468414,-9.3658524,78.6677428,29.4917691,-72.3570972,23.8222636,84.0917139,38.6521203,-11.8400269,-9.2399263,38.4313975,42.8453061,44.6736646,24.5928742,95.9999652,-83.1137366,33.9301963,80.66247852355892,13.1535811,25.4856617,29.2675469,47.8915271,17.5691241,-2.2900239,15.6419155,44.2832964,32.2166578,-14.4529612,11.6899699,9.3238432,104.8144914,35.7878438,46.4416422,19.9981227,19.0156172,-10.7083587,-5.5679458,-1.6880314,66.2385139,30.0644358,2.2584408,39.0494106,29.9324519,1.0199765],\"marker\":{\"cmax\":0.55191,\"cmin\":0.0,\"color\":[0.41978,0.14145,0.48357,0.36503,0.32957,0.41372,0.31814,0.43844,0.42922,0.35637,0.07785,0.10583,0.18676,0.21312,0.1589,0.17521,0.37798,0.28703,0.2254,0.38583,0.32067,0.32524,0.11069,0.4921,0.0927,0.21843,0.12869,0.52208,0.20646,0.08484,0.02652,0.24558,0.0512,0.03187,0.32524,0.06398,0.13586,0.08129,0.25609,0.13633,0.0114,0.11776,0.09472,0.30826,0.03431,0.1806,0.07857,0.1809,0.306,0.02901,0.088,0.01615,0.08242,0.08454,0.03787,0.01031,0.19317,0.05989,0.1909,0.04212,0.10501,0.0243,0.11023,0.03005,0.02299,0.1428,0.06146,0.17383,0.04741,0.30844,0.07521,0.37124,0.15184,0.0,0.10441,0.15746,0.04232,0.0403,0.15445,0.16065,0.10464,0.14293,0.14296,0.02781,0.12468,0.00649,0.02617,0.01078,0.06332,0.12279,0.39928,0.08546,0.05327,0.15603,0.06413,0.00227,0.12504,0.14234,0.24249,0.02666,0.0306,0.01397,0.04582,0.02758,0.06825,0.15072,0.06358,0.12905,0.12569,0.05863,0.02961,0.13788,0.08884,0.04355,0.08079,0.06232,0.08492,0.1466,0.17175,0.07625,0.05907,0.15048,0.08786,0.17461,0.05839,0.28105,0.039,0.12474,0.19034,0.38331,0.06977,0.09179,0.05786,0.00872,0.06324,0.07854,0.07122,0.12352,0.11686,0.199,0.07267,0.10713,0.11091,0.15639,0.07247,0.05747,0.08124,0.08289,0.05269,0.12139,0.17922,0.12832,0.09719,0.55191,0.0801,0.18906,0.10062,0.10731],\"colorbar\":{\"title\":{\"text\":\"2015 Trust (Government Corruption)\"}},\"colorscale\":[[0.0,\"rgb(247,251,255)\"],[0.125,\"rgb(222,235,247)\"],[0.25,\"rgb(198,219,239)\"],[0.375,\"rgb(158,202,225)\"],[0.5,\"rgb(107,174,214)\"],[0.625,\"rgb(66,146,198)\"],[0.75,\"rgb(33,113,181)\"],[0.875,\"rgb(8,81,156)\"],[1.0,\"rgb(8,48,107)\"]],\"line\":{\"color\":\"black\",\"width\":1},\"opacity\":0.8,\"size\":10},\"mode\":\"markers\",\"text\":[\"Switzerland\\u003cbr\\u003eEconomy:0.41978\",\"Iceland\\u003cbr\\u003eEconomy:0.14145\",\"Denmark\\u003cbr\\u003eEconomy:0.48357\",\"Norway\\u003cbr\\u003eEconomy:0.36503\",\"Canada\\u003cbr\\u003eEconomy:0.32957\",\"Finland\\u003cbr\\u003eEconomy:0.41372\",\"Netherlands\\u003cbr\\u003eEconomy:0.31814\",\"Sweden\\u003cbr\\u003eEconomy:0.43844\",\"New Zealand\\u003cbr\\u003eEconomy:0.42922\",\"Australia\\u003cbr\\u003eEconomy:0.35637\",\"Israel\\u003cbr\\u003eEconomy:0.07785\",\"Costa Rica\\u003cbr\\u003eEconomy:0.10583\",\"Austria\\u003cbr\\u003eEconomy:0.18676\",\"Mexico\\u003cbr\\u003eEconomy:0.21312\",\"United States\\u003cbr\\u003eEconomy:0.1589\",\"Brazil\\u003cbr\\u003eEconomy:0.17521\",\"Luxembourg\\u003cbr\\u003eEconomy:0.37798\",\"Ireland\\u003cbr\\u003eEconomy:0.28703\",\"Belgium\\u003cbr\\u003eEconomy:0.2254\",\"United Arab Emirates\\u003cbr\\u003eEconomy:0.38583\",\"United Kingdom\\u003cbr\\u003eEconomy:0.32067\",\"Oman\\u003cbr\\u003eEconomy:0.32524\",\"Venezuela\\u003cbr\\u003eEconomy:0.11069\",\"Singapore\\u003cbr\\u003eEconomy:0.4921\",\"Panama\\u003cbr\\u003eEconomy:0.0927\",\"Germany\\u003cbr\\u003eEconomy:0.21843\",\"Chile\\u003cbr\\u003eEconomy:0.12869\",\"Qatar\\u003cbr\\u003eEconomy:0.52208\",\"France\\u003cbr\\u003eEconomy:0.20646\",\"Argentina\\u003cbr\\u003eEconomy:0.08484\",\"Czech Republic\\u003cbr\\u003eEconomy:0.02652\",\"Uruguay\\u003cbr\\u003eEconomy:0.24558\",\"Colombia\\u003cbr\\u003eEconomy:0.0512\",\"Thailand\\u003cbr\\u003eEconomy:0.03187\",\"Saudi Arabia\\u003cbr\\u003eEconomy:0.32524\",\"Spain\\u003cbr\\u003eEconomy:0.06398\",\"Malta\\u003cbr\\u003eEconomy:0.13586\",\"Taiwan\\u003cbr\\u003eEconomy:0.08129\",\"Kuwait\\u003cbr\\u003eEconomy:0.25609\",\"Suriname\\u003cbr\\u003eEconomy:0.13633\",\"Trinidad and Tobago\\u003cbr\\u003eEconomy:0.0114\",\"El Salvador\\u003cbr\\u003eEconomy:0.11776\",\"Guatemala\\u003cbr\\u003eEconomy:0.09472\",\"Uzbekistan\\u003cbr\\u003eEconomy:0.30826\",\"Slovakia\\u003cbr\\u003eEconomy:0.03431\",\"Japan\\u003cbr\\u003eEconomy:0.1806\",\"South Korea\\u003cbr\\u003eEconomy:0.07857\",\"Ecuador\\u003cbr\\u003eEconomy:0.1809\",\"Bahrain\\u003cbr\\u003eEconomy:0.306\",\"Italy\\u003cbr\\u003eEconomy:0.02901\",\"Bolivia\\u003cbr\\u003eEconomy:0.088\",\"Moldova\\u003cbr\\u003eEconomy:0.01615\",\"Paraguay\\u003cbr\\u003eEconomy:0.08242\",\"Kazakhstan\\u003cbr\\u003eEconomy:0.08454\",\"Slovenia\\u003cbr\\u003eEconomy:0.03787\",\"Lithuania\\u003cbr\\u003eEconomy:0.01031\",\"Nicaragua\\u003cbr\\u003eEconomy:0.19317\",\"Peru\\u003cbr\\u003eEconomy:0.05989\",\"Belarus\\u003cbr\\u003eEconomy:0.1909\",\"Poland\\u003cbr\\u003eEconomy:0.04212\",\"Malaysia\\u003cbr\\u003eEconomy:0.10501\",\"Croatia\\u003cbr\\u003eEconomy:0.0243\",\"Libya\\u003cbr\\u003eEconomy:0.11023\",\"Russia\\u003cbr\\u003eEconomy:0.03005\",\"Jamaica\\u003cbr\\u003eEconomy:0.02299\",\"North Cyprus\\u003cbr\\u003eEconomy:0.1428\",\"Cyprus\\u003cbr\\u003eEconomy:0.06146\",\"Algeria\\u003cbr\\u003eEconomy:0.17383\",\"Kosovo\\u003cbr\\u003eEconomy:0.04741\",\"Turkmenistan\\u003cbr\\u003eEconomy:0.30844\",\"Mauritius\\u003cbr\\u003eEconomy:0.07521\",\"Hong Kong\\u003cbr\\u003eEconomy:0.37124\",\"Estonia\\u003cbr\\u003eEconomy:0.15184\",\"Indonesia\\u003cbr\\u003eEconomy:0.0\",\"Vietnam\\u003cbr\\u003eEconomy:0.10441\",\"Turkey\\u003cbr\\u003eEconomy:0.15746\",\"Kyrgyzstan\\u003cbr\\u003eEconomy:0.04232\",\"Nigeria\\u003cbr\\u003eEconomy:0.0403\",\"Bhutan\\u003cbr\\u003eEconomy:0.15445\",\"Azerbaijan\\u003cbr\\u003eEconomy:0.16065\",\"Pakistan\\u003cbr\\u003eEconomy:0.10464\",\"Jordan\\u003cbr\\u003eEconomy:0.14293\",\"Montenegro\\u003cbr\\u003eEconomy:0.14296\",\"China\\u003cbr\\u003eEconomy:0.02781\",\"Zambia\\u003cbr\\u003eEconomy:0.12468\",\"Romania\\u003cbr\\u003eEconomy:0.00649\",\"Serbia\\u003cbr\\u003eEconomy:0.02617\",\"Portugal\\u003cbr\\u003eEconomy:0.01078\",\"Latvia\\u003cbr\\u003eEconomy:0.06332\",\"Philippines\\u003cbr\\u003eEconomy:0.12279\",\"Somaliland region\\u003cbr\\u003eEconomy:0.39928\",\"Morocco\\u003cbr\\u003eEconomy:0.08546\",\"Macedonia\\u003cbr\\u003eEconomy:0.05327\",\"Mozambique\\u003cbr\\u003eEconomy:0.15603\",\"Albania\\u003cbr\\u003eEconomy:0.06413\",\"Bosnia and Herzegovina\\u003cbr\\u003eEconomy:0.00227\",\"Lesotho\\u003cbr\\u003eEconomy:0.12504\",\"Dominican Republic\\u003cbr\\u003eEconomy:0.14234\",\"Laos\\u003cbr\\u003eEconomy:0.24249\",\"Mongolia\\u003cbr\\u003eEconomy:0.02666\",\"Swaziland\\u003cbr\\u003eEconomy:0.0306\",\"Greece\\u003cbr\\u003eEconomy:0.01397\",\"Lebanon\\u003cbr\\u003eEconomy:0.04582\",\"Hungary\\u003cbr\\u003eEconomy:0.02758\",\"Honduras\\u003cbr\\u003eEconomy:0.06825\",\"Tajikistan\\u003cbr\\u003eEconomy:0.15072\",\"Tunisia\\u003cbr\\u003eEconomy:0.06358\",\"Palestinian Territories\\u003cbr\\u003eEconomy:0.12905\",\"Bangladesh\\u003cbr\\u003eEconomy:0.12569\",\"Iran\\u003cbr\\u003eEconomy:0.05863\",\"Ukraine\\u003cbr\\u003eEconomy:0.02961\",\"Iraq\\u003cbr\\u003eEconomy:0.13788\",\"South Africa\\u003cbr\\u003eEconomy:0.08884\",\"Ghana\\u003cbr\\u003eEconomy:0.04355\",\"Zimbabwe\\u003cbr\\u003eEconomy:0.08079\",\"Liberia\\u003cbr\\u003eEconomy:0.06232\",\"India\\u003cbr\\u003eEconomy:0.08492\",\"Sudan\\u003cbr\\u003eEconomy:0.1466\",\"Haiti\\u003cbr\\u003eEconomy:0.17175\",\"Congo (Kinshasa)\\u003cbr\\u003eEconomy:0.07625\",\"Nepal\\u003cbr\\u003eEconomy:0.05907\",\"Ethiopia\\u003cbr\\u003eEconomy:0.15048\",\"Sierra Leone\\u003cbr\\u003eEconomy:0.08786\",\"Mauritania\\u003cbr\\u003eEconomy:0.17461\",\"Kenya\\u003cbr\\u003eEconomy:0.05839\",\"Djibouti\\u003cbr\\u003eEconomy:0.28105\",\"Armenia\\u003cbr\\u003eEconomy:0.039\",\"Botswana\\u003cbr\\u003eEconomy:0.12474\",\"Myanmar\\u003cbr\\u003eEconomy:0.19034\",\"Georgia\\u003cbr\\u003eEconomy:0.38331\",\"Malawi\\u003cbr\\u003eEconomy:0.06977\",\"Sri Lanka\\u003cbr\\u003eEconomy:0.09179\",\"Cameroon\\u003cbr\\u003eEconomy:0.05786\",\"Bulgaria\\u003cbr\\u003eEconomy:0.00872\",\"Egypt\\u003cbr\\u003eEconomy:0.06324\",\"Yemen\\u003cbr\\u003eEconomy:0.07854\",\"Angola\\u003cbr\\u003eEconomy:0.07122\",\"Mali\\u003cbr\\u003eEconomy:0.12352\",\"Congo (Brazzaville)\\u003cbr\\u003eEconomy:0.11686\",\"Comoros\\u003cbr\\u003eEconomy:0.199\",\"Uganda\\u003cbr\\u003eEconomy:0.07267\",\"Senegal\\u003cbr\\u003eEconomy:0.10713\",\"Gabon\\u003cbr\\u003eEconomy:0.11091\",\"Niger\\u003cbr\\u003eEconomy:0.15639\",\"Cambodia\\u003cbr\\u003eEconomy:0.07247\",\"Tanzania\\u003cbr\\u003eEconomy:0.05747\",\"Madagascar\\u003cbr\\u003eEconomy:0.08124\",\"Central African Republic\\u003cbr\\u003eEconomy:0.08289\",\"Chad\\u003cbr\\u003eEconomy:0.05269\",\"Guinea\\u003cbr\\u003eEconomy:0.12139\",\"Ivory Coast\\u003cbr\\u003eEconomy:0.17922\",\"Burkina Faso\\u003cbr\\u003eEconomy:0.12832\",\"Afghanistan\\u003cbr\\u003eEconomy:0.09719\",\"Rwanda\\u003cbr\\u003eEconomy:0.55191\",\"Benin\\u003cbr\\u003eEconomy:0.0801\",\"Syria\\u003cbr\\u003eEconomy:0.18906\",\"Burundi\\u003cbr\\u003eEconomy:0.10062\",\"Togo\\u003cbr\\u003eEconomy:0.10731\"],\"type\":\"scattergeo\"}],                        {\"template\":{\"data\":{\"histogram2dcontour\":[{\"type\":\"histogram2dcontour\",\"colorbar\":{\"outlinewidth\":0,\"ticks\":\"\"},\"colorscale\":[[0.0,\"#0d0887\"],[0.1111111111111111,\"#46039f\"],[0.2222222222222222,\"#7201a8\"],[0.3333333333333333,\"#9c179e\"],[0.4444444444444444,\"#bd3786\"],[0.5555555555555556,\"#d8576b\"],[0.6666666666666666,\"#ed7953\"],[0.7777777777777778,\"#fb9f3a\"],[0.8888888888888888,\"#fdca26\"],[1.0,\"#f0f921\"]]}],\"choropleth\":[{\"type\":\"choropleth\",\"colorbar\":{\"outlinewidth\":0,\"ticks\":\"\"}}],\"histogram2d\":[{\"type\":\"histogram2d\",\"colorbar\":{\"outlinewidth\":0,\"ticks\":\"\"},\"colorscale\":[[0.0,\"#0d0887\"],[0.1111111111111111,\"#46039f\"],[0.2222222222222222,\"#7201a8\"],[0.3333333333333333,\"#9c179e\"],[0.4444444444444444,\"#bd3786\"],[0.5555555555555556,\"#d8576b\"],[0.6666666666666666,\"#ed7953\"],[0.7777777777777778,\"#fb9f3a\"],[0.8888888888888888,\"#fdca26\"],[1.0,\"#f0f921\"]]}],\"heatmap\":[{\"type\":\"heatmap\",\"colorbar\":{\"outlinewidth\":0,\"ticks\":\"\"},\"colorscale\":[[0.0,\"#0d0887\"],[0.1111111111111111,\"#46039f\"],[0.2222222222222222,\"#7201a8\"],[0.3333333333333333,\"#9c179e\"],[0.4444444444444444,\"#bd3786\"],[0.5555555555555556,\"#d8576b\"],[0.6666666666666666,\"#ed7953\"],[0.7777777777777778,\"#fb9f3a\"],[0.8888888888888888,\"#fdca26\"],[1.0,\"#f0f921\"]]}],\"heatmapgl\":[{\"type\":\"heatmapgl\",\"colorbar\":{\"outlinewidth\":0,\"ticks\":\"\"},\"colorscale\":[[0.0,\"#0d0887\"],[0.1111111111111111,\"#46039f\"],[0.2222222222222222,\"#7201a8\"],[0.3333333333333333,\"#9c179e\"],[0.4444444444444444,\"#bd3786\"],[0.5555555555555556,\"#d8576b\"],[0.6666666666666666,\"#ed7953\"],[0.7777777777777778,\"#fb9f3a\"],[0.8888888888888888,\"#fdca26\"],[1.0,\"#f0f921\"]]}],\"contourcarpet\":[{\"type\":\"contourcarpet\",\"colorbar\":{\"outlinewidth\":0,\"ticks\":\"\"}}],\"contour\":[{\"type\":\"contour\",\"colorbar\":{\"outlinewidth\":0,\"ticks\":\"\"},\"colorscale\":[[0.0,\"#0d0887\"],[0.1111111111111111,\"#46039f\"],[0.2222222222222222,\"#7201a8\"],[0.3333333333333333,\"#9c179e\"],[0.4444444444444444,\"#bd3786\"],[0.5555555555555556,\"#d8576b\"],[0.6666666666666666,\"#ed7953\"],[0.7777777777777778,\"#fb9f3a\"],[0.8888888888888888,\"#fdca26\"],[1.0,\"#f0f921\"]]}],\"surface\":[{\"type\":\"surface\",\"colorbar\":{\"outlinewidth\":0,\"ticks\":\"\"},\"colorscale\":[[0.0,\"#0d0887\"],[0.1111111111111111,\"#46039f\"],[0.2222222222222222,\"#7201a8\"],[0.3333333333333333,\"#9c179e\"],[0.4444444444444444,\"#bd3786\"],[0.5555555555555556,\"#d8576b\"],[0.6666666666666666,\"#ed7953\"],[0.7777777777777778,\"#fb9f3a\"],[0.8888888888888888,\"#fdca26\"],[1.0,\"#f0f921\"]]}],\"mesh3d\":[{\"type\":\"mesh3d\",\"colorbar\":{\"outlinewidth\":0,\"ticks\":\"\"}}],\"scatter\":[{\"fillpattern\":{\"fillmode\":\"overlay\",\"size\":10,\"solidity\":0.2},\"type\":\"scatter\"}],\"parcoords\":[{\"type\":\"parcoords\",\"line\":{\"colorbar\":{\"outlinewidth\":0,\"ticks\":\"\"}}}],\"scatterpolargl\":[{\"type\":\"scatterpolargl\",\"marker\":{\"colorbar\":{\"outlinewidth\":0,\"ticks\":\"\"}}}],\"bar\":[{\"error_x\":{\"color\":\"#2a3f5f\"},\"error_y\":{\"color\":\"#2a3f5f\"},\"marker\":{\"line\":{\"color\":\"#E5ECF6\",\"width\":0.5},\"pattern\":{\"fillmode\":\"overlay\",\"size\":10,\"solidity\":0.2}},\"type\":\"bar\"}],\"scattergeo\":[{\"type\":\"scattergeo\",\"marker\":{\"colorbar\":{\"outlinewidth\":0,\"ticks\":\"\"}}}],\"scatterpolar\":[{\"type\":\"scatterpolar\",\"marker\":{\"colorbar\":{\"outlinewidth\":0,\"ticks\":\"\"}}}],\"histogram\":[{\"marker\":{\"pattern\":{\"fillmode\":\"overlay\",\"size\":10,\"solidity\":0.2}},\"type\":\"histogram\"}],\"scattergl\":[{\"type\":\"scattergl\",\"marker\":{\"colorbar\":{\"outlinewidth\":0,\"ticks\":\"\"}}}],\"scatter3d\":[{\"type\":\"scatter3d\",\"line\":{\"colorbar\":{\"outlinewidth\":0,\"ticks\":\"\"}},\"marker\":{\"colorbar\":{\"outlinewidth\":0,\"ticks\":\"\"}}}],\"scattermapbox\":[{\"type\":\"scattermapbox\",\"marker\":{\"colorbar\":{\"outlinewidth\":0,\"ticks\":\"\"}}}],\"scatterternary\":[{\"type\":\"scatterternary\",\"marker\":{\"colorbar\":{\"outlinewidth\":0,\"ticks\":\"\"}}}],\"scattercarpet\":[{\"type\":\"scattercarpet\",\"marker\":{\"colorbar\":{\"outlinewidth\":0,\"ticks\":\"\"}}}],\"carpet\":[{\"aaxis\":{\"endlinecolor\":\"#2a3f5f\",\"gridcolor\":\"white\",\"linecolor\":\"white\",\"minorgridcolor\":\"white\",\"startlinecolor\":\"#2a3f5f\"},\"baxis\":{\"endlinecolor\":\"#2a3f5f\",\"gridcolor\":\"white\",\"linecolor\":\"white\",\"minorgridcolor\":\"white\",\"startlinecolor\":\"#2a3f5f\"},\"type\":\"carpet\"}],\"table\":[{\"cells\":{\"fill\":{\"color\":\"#EBF0F8\"},\"line\":{\"color\":\"white\"}},\"header\":{\"fill\":{\"color\":\"#C8D4E3\"},\"line\":{\"color\":\"white\"}},\"type\":\"table\"}],\"barpolar\":[{\"marker\":{\"line\":{\"color\":\"#E5ECF6\",\"width\":0.5},\"pattern\":{\"fillmode\":\"overlay\",\"size\":10,\"solidity\":0.2}},\"type\":\"barpolar\"}],\"pie\":[{\"automargin\":true,\"type\":\"pie\"}]},\"layout\":{\"autotypenumbers\":\"strict\",\"colorway\":[\"#636efa\",\"#EF553B\",\"#00cc96\",\"#ab63fa\",\"#FFA15A\",\"#19d3f3\",\"#FF6692\",\"#B6E880\",\"#FF97FF\",\"#FECB52\"],\"font\":{\"color\":\"#2a3f5f\"},\"hovermode\":\"closest\",\"hoverlabel\":{\"align\":\"left\"},\"paper_bgcolor\":\"white\",\"plot_bgcolor\":\"#E5ECF6\",\"polar\":{\"bgcolor\":\"#E5ECF6\",\"angularaxis\":{\"gridcolor\":\"white\",\"linecolor\":\"white\",\"ticks\":\"\"},\"radialaxis\":{\"gridcolor\":\"white\",\"linecolor\":\"white\",\"ticks\":\"\"}},\"ternary\":{\"bgcolor\":\"#E5ECF6\",\"aaxis\":{\"gridcolor\":\"white\",\"linecolor\":\"white\",\"ticks\":\"\"},\"baxis\":{\"gridcolor\":\"white\",\"linecolor\":\"white\",\"ticks\":\"\"},\"caxis\":{\"gridcolor\":\"white\",\"linecolor\":\"white\",\"ticks\":\"\"}},\"coloraxis\":{\"colorbar\":{\"outlinewidth\":0,\"ticks\":\"\"}},\"colorscale\":{\"sequential\":[[0.0,\"#0d0887\"],[0.1111111111111111,\"#46039f\"],[0.2222222222222222,\"#7201a8\"],[0.3333333333333333,\"#9c179e\"],[0.4444444444444444,\"#bd3786\"],[0.5555555555555556,\"#d8576b\"],[0.6666666666666666,\"#ed7953\"],[0.7777777777777778,\"#fb9f3a\"],[0.8888888888888888,\"#fdca26\"],[1.0,\"#f0f921\"]],\"sequentialminus\":[[0.0,\"#0d0887\"],[0.1111111111111111,\"#46039f\"],[0.2222222222222222,\"#7201a8\"],[0.3333333333333333,\"#9c179e\"],[0.4444444444444444,\"#bd3786\"],[0.5555555555555556,\"#d8576b\"],[0.6666666666666666,\"#ed7953\"],[0.7777777777777778,\"#fb9f3a\"],[0.8888888888888888,\"#fdca26\"],[1.0,\"#f0f921\"]],\"diverging\":[[0,\"#8e0152\"],[0.1,\"#c51b7d\"],[0.2,\"#de77ae\"],[0.3,\"#f1b6da\"],[0.4,\"#fde0ef\"],[0.5,\"#f7f7f7\"],[0.6,\"#e6f5d0\"],[0.7,\"#b8e186\"],[0.8,\"#7fbc41\"],[0.9,\"#4d9221\"],[1,\"#276419\"]]},\"xaxis\":{\"gridcolor\":\"white\",\"linecolor\":\"white\",\"ticks\":\"\",\"title\":{\"standoff\":15},\"zerolinecolor\":\"white\",\"automargin\":true,\"zerolinewidth\":2},\"yaxis\":{\"gridcolor\":\"white\",\"linecolor\":\"white\",\"ticks\":\"\",\"title\":{\"standoff\":15},\"zerolinecolor\":\"white\",\"automargin\":true,\"zerolinewidth\":2},\"scene\":{\"xaxis\":{\"backgroundcolor\":\"#E5ECF6\",\"gridcolor\":\"white\",\"linecolor\":\"white\",\"showbackground\":true,\"ticks\":\"\",\"zerolinecolor\":\"white\",\"gridwidth\":2},\"yaxis\":{\"backgroundcolor\":\"#E5ECF6\",\"gridcolor\":\"white\",\"linecolor\":\"white\",\"showbackground\":true,\"ticks\":\"\",\"zerolinecolor\":\"white\",\"gridwidth\":2},\"zaxis\":{\"backgroundcolor\":\"#E5ECF6\",\"gridcolor\":\"white\",\"linecolor\":\"white\",\"showbackground\":true,\"ticks\":\"\",\"zerolinecolor\":\"white\",\"gridwidth\":2}},\"shapedefaults\":{\"line\":{\"color\":\"#2a3f5f\"}},\"annotationdefaults\":{\"arrowcolor\":\"#2a3f5f\",\"arrowhead\":0,\"arrowwidth\":1},\"geo\":{\"bgcolor\":\"white\",\"landcolor\":\"#E5ECF6\",\"subunitcolor\":\"white\",\"showland\":true,\"showlakes\":true,\"lakecolor\":\"white\"},\"title\":{\"x\":0.05},\"mapbox\":{\"style\":\"light\"}}},\"geo\":{\"scope\":\"world\",\"showland\":true},\"title\":{\"text\":\"Map with Plotly\"}},                        {\"responsive\": true}                    ).then(function(){\n",
       "                            \n",
       "var gd = document.getElementById('e5be6454-5a0b-488c-a9d6-02d8ba373f61');\n",
       "var x = new MutationObserver(function (mutations, observer) {{\n",
       "        var display = window.getComputedStyle(gd).display;\n",
       "        if (!display || display === 'none') {{\n",
       "            console.log([gd, 'removed!']);\n",
       "            Plotly.purge(gd);\n",
       "            observer.disconnect();\n",
       "        }}\n",
       "}});\n",
       "\n",
       "// Listen for the removal of the full notebook cells\n",
       "var notebookContainer = gd.closest('#notebook-container');\n",
       "if (notebookContainer) {{\n",
       "    x.observe(notebookContainer, {childList: true});\n",
       "}}\n",
       "\n",
       "// Listen for the clearing of the current output cell\n",
       "var outputEl = gd.closest('.output');\n",
       "if (outputEl) {{\n",
       "    x.observe(outputEl, {childList: true});\n",
       "}}\n",
       "\n",
       "                        })                };                });            </script>        </div>"
      ]
     },
     "metadata": {},
     "output_type": "display_data"
    }
   ],
   "source": [
    "fig.update_layout(\n",
    "    title='Map with Plotly',\n",
    "    geo=dict(\n",
    "        scope='world', \n",
    "        showland=True,\n",
    "    ),\n",
    ")\n",
    "\n",
    "fig.show()"
   ]
  },
  {
   "cell_type": "code",
   "execution_count": null,
   "id": "3f8329b0",
   "metadata": {},
   "outputs": [],
   "source": []
  }
 ],
 "metadata": {
  "kernelspec": {
   "display_name": "Python 3 (ipykernel)",
   "language": "python",
   "name": "python3"
  },
  "language_info": {
   "codemirror_mode": {
    "name": "ipython",
    "version": 3
   },
   "file_extension": ".py",
   "mimetype": "text/x-python",
   "name": "python",
   "nbconvert_exporter": "python",
   "pygments_lexer": "ipython3",
   "version": "3.9.16"
  }
 },
 "nbformat": 4,
 "nbformat_minor": 5
}
