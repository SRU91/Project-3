{
 "cells": [
  {
   "cell_type": "code",
   "execution_count": 1,
   "id": "7ccb57cb",
   "metadata": {},
   "outputs": [],
   "source": [
    "import pandas as pd"
   ]
  },
  {
   "cell_type": "code",
   "execution_count": 2,
   "id": "50d29e5a",
   "metadata": {},
   "outputs": [],
   "source": [
    "data_2015 = pd.read_csv('uncleanCSVs/2015.csv')\n",
    "data_2016 = pd.read_csv('uncleanCSVs/2016.csv')\n",
    "data_2017 = pd.read_csv('uncleanCSVs/2017.csv')\n",
    "data_2018 = pd.read_csv('uncleanCSVs/2018.csv')\n",
    "data_2019 = pd.read_csv('uncleanCSVs/2019.csv')"
   ]
  },
  {
   "cell_type": "code",
   "execution_count": 3,
   "id": "32e44e37",
   "metadata": {},
   "outputs": [
    {
     "data": {
      "text/plain": [
       "['Country',\n",
       " 'Region',\n",
       " 'Happiness Rank',\n",
       " 'Happiness Score',\n",
       " 'Standard Error',\n",
       " 'Economy (GDP per Capita)',\n",
       " 'Family',\n",
       " 'Health (Life Expectancy)',\n",
       " 'Freedom',\n",
       " 'Trust (Government Corruption)',\n",
       " 'Generosity',\n",
       " 'Dystopia Residual']"
      ]
     },
     "execution_count": 3,
     "metadata": {},
     "output_type": "execute_result"
    }
   ],
   "source": [
    "data_2015.columns.tolist()"
   ]
  },
  {
   "cell_type": "code",
   "execution_count": 4,
   "id": "459bc9f3",
   "metadata": {},
   "outputs": [],
   "source": [
    "data_2015 = data_2015.drop(['Region','Standard Error','Dystopia Residual'], axis=1)"
   ]
  },
  {
   "cell_type": "code",
   "execution_count": 5,
   "id": "febe7b73",
   "metadata": {},
   "outputs": [],
   "source": [
    "data_2015.rename(columns={'Happiness Rank':'2015 Happiness Rank',\n",
    "                         'Happiness Score':'2015 Happiness Score',\n",
    "                         'Economy (GDP per Capita)':'2015 Economy (GDP per Capita)',\n",
    "                         'Family':'2015 Family',\n",
    "                         'Health (Life Expectancy)':'2015 Health (Life Expectancy)',\n",
    "                         'Freedom':'2015 Freedom',\n",
    "                         'Trust (Government Corruption)':'2015 Trust (Government Corruption)',\n",
    "                         'Generosity':'2015 Generosity',\n",
    "                         'Dystopia Residual':'2015 Dystopia Residual'}, inplace=True)"
   ]
  },
  {
   "cell_type": "code",
   "execution_count": 6,
   "id": "271df1e8",
   "metadata": {},
   "outputs": [
    {
     "data": {
      "text/plain": [
       "['Country',\n",
       " '2015 Happiness Rank',\n",
       " '2015 Happiness Score',\n",
       " '2015 Economy (GDP per Capita)',\n",
       " '2015 Family',\n",
       " '2015 Health (Life Expectancy)',\n",
       " '2015 Freedom',\n",
       " '2015 Trust (Government Corruption)',\n",
       " '2015 Generosity']"
      ]
     },
     "execution_count": 6,
     "metadata": {},
     "output_type": "execute_result"
    }
   ],
   "source": [
    "data_2015.columns.tolist()"
   ]
  },
  {
   "cell_type": "code",
   "execution_count": 7,
   "id": "492b3ff9",
   "metadata": {},
   "outputs": [
    {
     "name": "stdout",
     "output_type": "stream",
     "text": [
      "Country                                object\n",
      "2015 Happiness Rank                     int64\n",
      "2015 Happiness Score                  float64\n",
      "2015 Economy (GDP per Capita)         float64\n",
      "2015 Family                           float64\n",
      "2015 Health (Life Expectancy)         float64\n",
      "2015 Freedom                          float64\n",
      "2015 Trust (Government Corruption)    float64\n",
      "2015 Generosity                       float64\n",
      "dtype: object\n"
     ]
    }
   ],
   "source": [
    "print(data_2015.dtypes)"
   ]
  },
  {
   "cell_type": "code",
   "execution_count": 8,
   "id": "9c68e1b8",
   "metadata": {},
   "outputs": [
    {
     "data": {
      "text/plain": [
       "['Country',\n",
       " 'Region',\n",
       " 'Happiness Rank',\n",
       " 'Happiness Score',\n",
       " 'Lower Confidence Interval',\n",
       " 'Upper Confidence Interval',\n",
       " 'Economy (GDP per Capita)',\n",
       " 'Family',\n",
       " 'Health (Life Expectancy)',\n",
       " 'Freedom',\n",
       " 'Trust (Government Corruption)',\n",
       " 'Generosity',\n",
       " 'Dystopia Residual']"
      ]
     },
     "execution_count": 8,
     "metadata": {},
     "output_type": "execute_result"
    }
   ],
   "source": [
    "data_2016.columns.tolist()"
   ]
  },
  {
   "cell_type": "code",
   "execution_count": 9,
   "id": "60435e3d",
   "metadata": {},
   "outputs": [],
   "source": [
    "data_2016 = data_2016.drop(['Region','Lower Confidence Interval','Upper Confidence Interval','Dystopia Residual'], axis=1)"
   ]
  },
  {
   "cell_type": "code",
   "execution_count": 10,
   "id": "d50f28f7",
   "metadata": {},
   "outputs": [],
   "source": [
    "data_2016.rename(columns={'Happiness Rank':'2016 Happiness Rank',\n",
    "                         'Happiness Score':'2016 Happiness Score',\n",
    "                         'Economy (GDP per Capita)':'2016 Economy (GDP per Capita)',\n",
    "                         'Family':'2016 Family',\n",
    "                         'Health (Life Expectancy)':'2016 Health (Life Expectancy)',\n",
    "                         'Freedom':'2016 Freedom',\n",
    "                         'Trust (Government Corruption)':'2016 Trust (Government Corruption)',\n",
    "                         'Generosity':'2016 Generosity'}, inplace=True)"
   ]
  },
  {
   "cell_type": "code",
   "execution_count": 11,
   "id": "eef48bde",
   "metadata": {},
   "outputs": [
    {
     "data": {
      "text/plain": [
       "['Country',\n",
       " '2016 Happiness Rank',\n",
       " '2016 Happiness Score',\n",
       " '2016 Economy (GDP per Capita)',\n",
       " '2016 Family',\n",
       " '2016 Health (Life Expectancy)',\n",
       " '2016 Freedom',\n",
       " '2016 Trust (Government Corruption)',\n",
       " '2016 Generosity']"
      ]
     },
     "execution_count": 11,
     "metadata": {},
     "output_type": "execute_result"
    }
   ],
   "source": [
    "data_2016.columns.tolist()"
   ]
  },
  {
   "cell_type": "code",
   "execution_count": 12,
   "id": "7757667e",
   "metadata": {},
   "outputs": [
    {
     "name": "stdout",
     "output_type": "stream",
     "text": [
      "Country                                object\n",
      "2016 Happiness Rank                     int64\n",
      "2016 Happiness Score                  float64\n",
      "2016 Economy (GDP per Capita)         float64\n",
      "2016 Family                           float64\n",
      "2016 Health (Life Expectancy)         float64\n",
      "2016 Freedom                          float64\n",
      "2016 Trust (Government Corruption)    float64\n",
      "2016 Generosity                       float64\n",
      "dtype: object\n"
     ]
    }
   ],
   "source": [
    "print(data_2016.dtypes)"
   ]
  },
  {
   "cell_type": "code",
   "execution_count": 13,
   "id": "9c50ce45",
   "metadata": {},
   "outputs": [
    {
     "data": {
      "text/plain": [
       "['Country',\n",
       " 'Happiness.Rank',\n",
       " 'Happiness.Score',\n",
       " 'Whisker.high',\n",
       " 'Whisker.low',\n",
       " 'Economy..GDP.per.Capita.',\n",
       " 'Family',\n",
       " 'Health..Life.Expectancy.',\n",
       " 'Freedom',\n",
       " 'Generosity',\n",
       " 'Trust..Government.Corruption.',\n",
       " 'Dystopia.Residual']"
      ]
     },
     "execution_count": 13,
     "metadata": {},
     "output_type": "execute_result"
    }
   ],
   "source": [
    "data_2017.columns.tolist()"
   ]
  },
  {
   "cell_type": "code",
   "execution_count": 14,
   "id": "e5f06a87",
   "metadata": {},
   "outputs": [],
   "source": [
    "data_2017 = data_2017.drop(['Whisker.high','Whisker.low','Dystopia.Residual'], axis=1)"
   ]
  },
  {
   "cell_type": "code",
   "execution_count": 15,
   "id": "68be56cd",
   "metadata": {},
   "outputs": [],
   "source": [
    "data_2017.rename(columns={'Happiness.Rank':'2017 Happiness Rank',\n",
    "                         'Happiness.Score':'2017 Happiness Score',\n",
    "                         'Economy..GDP.per.Capita.':'2017 Economy (GDP per Capita)',\n",
    "                         'Family':'2017 Family',\n",
    "                         'Health..Life.Expectancy.':'2017 Health (Life Expectancy)',\n",
    "                         'Freedom':'2017 Freedom',\n",
    "                         'Trust..Government.Corruption.':'2017 Trust (Government Corruption)',\n",
    "                         'Generosity':'2017 Generosity',\n",
    "                         'Dystopia.Residual':'2017 Dystopia Residual'}, inplace=True)\n",
    "\n",
    "data_2017 = data_2017[['Country','2017 Happiness Rank','2017 Happiness Score','2017 Economy (GDP per Capita)',\n",
    "                       '2017 Family','2017 Health (Life Expectancy)','2017 Freedom','2017 Trust (Government Corruption)',\n",
    "                       '2017 Generosity']]"
   ]
  },
  {
   "cell_type": "code",
   "execution_count": 16,
   "id": "b3365af4",
   "metadata": {},
   "outputs": [
    {
     "data": {
      "text/plain": [
       "['Country',\n",
       " '2017 Happiness Rank',\n",
       " '2017 Happiness Score',\n",
       " '2017 Economy (GDP per Capita)',\n",
       " '2017 Family',\n",
       " '2017 Health (Life Expectancy)',\n",
       " '2017 Freedom',\n",
       " '2017 Trust (Government Corruption)',\n",
       " '2017 Generosity']"
      ]
     },
     "execution_count": 16,
     "metadata": {},
     "output_type": "execute_result"
    }
   ],
   "source": [
    "data_2017.columns.tolist()"
   ]
  },
  {
   "cell_type": "code",
   "execution_count": 17,
   "id": "36bce3e9",
   "metadata": {},
   "outputs": [
    {
     "name": "stdout",
     "output_type": "stream",
     "text": [
      "Country                                object\n",
      "2017 Happiness Rank                     int64\n",
      "2017 Happiness Score                  float64\n",
      "2017 Economy (GDP per Capita)         float64\n",
      "2017 Family                           float64\n",
      "2017 Health (Life Expectancy)         float64\n",
      "2017 Freedom                          float64\n",
      "2017 Trust (Government Corruption)    float64\n",
      "2017 Generosity                       float64\n",
      "dtype: object\n"
     ]
    }
   ],
   "source": [
    "print(data_2017.dtypes)"
   ]
  },
  {
   "cell_type": "code",
   "execution_count": 18,
   "id": "659f023d",
   "metadata": {},
   "outputs": [
    {
     "data": {
      "text/plain": [
       "['Overall rank',\n",
       " 'Country or region',\n",
       " 'Score',\n",
       " 'GDP per capita',\n",
       " 'Social support',\n",
       " 'Healthy life expectancy',\n",
       " 'Freedom to make life choices',\n",
       " 'Generosity',\n",
       " 'Perceptions of corruption']"
      ]
     },
     "execution_count": 18,
     "metadata": {},
     "output_type": "execute_result"
    }
   ],
   "source": [
    "data_2018.columns.tolist()"
   ]
  },
  {
   "cell_type": "code",
   "execution_count": 19,
   "id": "af976e57",
   "metadata": {},
   "outputs": [],
   "source": [
    "data_2018.rename(columns={'Overall rank':'2018 Happiness Rank',\n",
    "                         'Score':'2018 Happiness Score',\n",
    "                         'GDP per capita':'2018 Economy (GDP per Capita)',\n",
    "                         'Social support':'2018 Family',\n",
    "                         'Healthy life expectancy':'2018 Health (Life Expectancy)',\n",
    "                         'Freedom to make life choices':'2018 Freedom',\n",
    "                         'Perceptions of corruption':'2018 Trust (Government Corruption)',\n",
    "                         'Generosity':'2018 Generosity',\n",
    "                         'Country or region':'Country'\n",
    "                         }, inplace=True)\n",
    "\n",
    "data_2018 = data_2018[['Country','2018 Happiness Rank','2018 Happiness Score','2018 Economy (GDP per Capita)',\n",
    "                       '2018 Family','2018 Health (Life Expectancy)','2018 Freedom','2018 Trust (Government Corruption)',\n",
    "                       '2018 Generosity']]"
   ]
  },
  {
   "cell_type": "code",
   "execution_count": 20,
   "id": "cbeeda0d",
   "metadata": {},
   "outputs": [
    {
     "data": {
      "text/plain": [
       "['Country',\n",
       " '2018 Happiness Rank',\n",
       " '2018 Happiness Score',\n",
       " '2018 Economy (GDP per Capita)',\n",
       " '2018 Family',\n",
       " '2018 Health (Life Expectancy)',\n",
       " '2018 Freedom',\n",
       " '2018 Trust (Government Corruption)',\n",
       " '2018 Generosity']"
      ]
     },
     "execution_count": 20,
     "metadata": {},
     "output_type": "execute_result"
    }
   ],
   "source": [
    "data_2018.columns.tolist()"
   ]
  },
  {
   "cell_type": "code",
   "execution_count": 21,
   "id": "cd366048",
   "metadata": {},
   "outputs": [
    {
     "name": "stdout",
     "output_type": "stream",
     "text": [
      "Country                                object\n",
      "2018 Happiness Rank                     int64\n",
      "2018 Happiness Score                  float64\n",
      "2018 Economy (GDP per Capita)         float64\n",
      "2018 Family                           float64\n",
      "2018 Health (Life Expectancy)         float64\n",
      "2018 Freedom                          float64\n",
      "2018 Trust (Government Corruption)    float64\n",
      "2018 Generosity                       float64\n",
      "dtype: object\n"
     ]
    }
   ],
   "source": [
    "print(data_2018.dtypes)"
   ]
  },
  {
   "cell_type": "code",
   "execution_count": 22,
   "id": "4529866e",
   "metadata": {},
   "outputs": [
    {
     "data": {
      "text/html": [
       "<div>\n",
       "<style scoped>\n",
       "    .dataframe tbody tr th:only-of-type {\n",
       "        vertical-align: middle;\n",
       "    }\n",
       "\n",
       "    .dataframe tbody tr th {\n",
       "        vertical-align: top;\n",
       "    }\n",
       "\n",
       "    .dataframe thead th {\n",
       "        text-align: right;\n",
       "    }\n",
       "</style>\n",
       "<table border=\"1\" class=\"dataframe\">\n",
       "  <thead>\n",
       "    <tr style=\"text-align: right;\">\n",
       "      <th></th>\n",
       "      <th>2018 Happiness Rank</th>\n",
       "      <th>2018 Happiness Score</th>\n",
       "      <th>2018 Economy (GDP per Capita)</th>\n",
       "      <th>2018 Family</th>\n",
       "      <th>2018 Health (Life Expectancy)</th>\n",
       "      <th>2018 Freedom</th>\n",
       "      <th>2018 Trust (Government Corruption)</th>\n",
       "      <th>2018 Generosity</th>\n",
       "    </tr>\n",
       "    <tr>\n",
       "      <th>Country</th>\n",
       "      <th></th>\n",
       "      <th></th>\n",
       "      <th></th>\n",
       "      <th></th>\n",
       "      <th></th>\n",
       "      <th></th>\n",
       "      <th></th>\n",
       "      <th></th>\n",
       "    </tr>\n",
       "  </thead>\n",
       "  <tbody>\n",
       "    <tr>\n",
       "      <th>Afghanistan</th>\n",
       "      <td>1</td>\n",
       "      <td>1</td>\n",
       "      <td>1</td>\n",
       "      <td>1</td>\n",
       "      <td>1</td>\n",
       "      <td>1</td>\n",
       "      <td>1</td>\n",
       "      <td>1</td>\n",
       "    </tr>\n",
       "    <tr>\n",
       "      <th>Albania</th>\n",
       "      <td>1</td>\n",
       "      <td>1</td>\n",
       "      <td>1</td>\n",
       "      <td>1</td>\n",
       "      <td>1</td>\n",
       "      <td>1</td>\n",
       "      <td>1</td>\n",
       "      <td>1</td>\n",
       "    </tr>\n",
       "    <tr>\n",
       "      <th>Algeria</th>\n",
       "      <td>1</td>\n",
       "      <td>1</td>\n",
       "      <td>1</td>\n",
       "      <td>1</td>\n",
       "      <td>1</td>\n",
       "      <td>1</td>\n",
       "      <td>1</td>\n",
       "      <td>1</td>\n",
       "    </tr>\n",
       "    <tr>\n",
       "      <th>Angola</th>\n",
       "      <td>1</td>\n",
       "      <td>1</td>\n",
       "      <td>1</td>\n",
       "      <td>1</td>\n",
       "      <td>1</td>\n",
       "      <td>1</td>\n",
       "      <td>1</td>\n",
       "      <td>1</td>\n",
       "    </tr>\n",
       "    <tr>\n",
       "      <th>Argentina</th>\n",
       "      <td>1</td>\n",
       "      <td>1</td>\n",
       "      <td>1</td>\n",
       "      <td>1</td>\n",
       "      <td>1</td>\n",
       "      <td>1</td>\n",
       "      <td>1</td>\n",
       "      <td>1</td>\n",
       "    </tr>\n",
       "    <tr>\n",
       "      <th>...</th>\n",
       "      <td>...</td>\n",
       "      <td>...</td>\n",
       "      <td>...</td>\n",
       "      <td>...</td>\n",
       "      <td>...</td>\n",
       "      <td>...</td>\n",
       "      <td>...</td>\n",
       "      <td>...</td>\n",
       "    </tr>\n",
       "    <tr>\n",
       "      <th>Venezuela</th>\n",
       "      <td>1</td>\n",
       "      <td>1</td>\n",
       "      <td>1</td>\n",
       "      <td>1</td>\n",
       "      <td>1</td>\n",
       "      <td>1</td>\n",
       "      <td>1</td>\n",
       "      <td>1</td>\n",
       "    </tr>\n",
       "    <tr>\n",
       "      <th>Vietnam</th>\n",
       "      <td>1</td>\n",
       "      <td>1</td>\n",
       "      <td>1</td>\n",
       "      <td>1</td>\n",
       "      <td>1</td>\n",
       "      <td>1</td>\n",
       "      <td>1</td>\n",
       "      <td>1</td>\n",
       "    </tr>\n",
       "    <tr>\n",
       "      <th>Yemen</th>\n",
       "      <td>1</td>\n",
       "      <td>1</td>\n",
       "      <td>1</td>\n",
       "      <td>1</td>\n",
       "      <td>1</td>\n",
       "      <td>1</td>\n",
       "      <td>1</td>\n",
       "      <td>1</td>\n",
       "    </tr>\n",
       "    <tr>\n",
       "      <th>Zambia</th>\n",
       "      <td>1</td>\n",
       "      <td>1</td>\n",
       "      <td>1</td>\n",
       "      <td>1</td>\n",
       "      <td>1</td>\n",
       "      <td>1</td>\n",
       "      <td>1</td>\n",
       "      <td>1</td>\n",
       "    </tr>\n",
       "    <tr>\n",
       "      <th>Zimbabwe</th>\n",
       "      <td>1</td>\n",
       "      <td>1</td>\n",
       "      <td>1</td>\n",
       "      <td>1</td>\n",
       "      <td>1</td>\n",
       "      <td>1</td>\n",
       "      <td>1</td>\n",
       "      <td>1</td>\n",
       "    </tr>\n",
       "  </tbody>\n",
       "</table>\n",
       "<p>156 rows × 8 columns</p>\n",
       "</div>"
      ],
      "text/plain": [
       "             2018 Happiness Rank  2018 Happiness Score  \\\n",
       "Country                                                  \n",
       "Afghanistan                    1                     1   \n",
       "Albania                        1                     1   \n",
       "Algeria                        1                     1   \n",
       "Angola                         1                     1   \n",
       "Argentina                      1                     1   \n",
       "...                          ...                   ...   \n",
       "Venezuela                      1                     1   \n",
       "Vietnam                        1                     1   \n",
       "Yemen                          1                     1   \n",
       "Zambia                         1                     1   \n",
       "Zimbabwe                       1                     1   \n",
       "\n",
       "             2018 Economy (GDP per Capita)  2018 Family  \\\n",
       "Country                                                   \n",
       "Afghanistan                              1            1   \n",
       "Albania                                  1            1   \n",
       "Algeria                                  1            1   \n",
       "Angola                                   1            1   \n",
       "Argentina                                1            1   \n",
       "...                                    ...          ...   \n",
       "Venezuela                                1            1   \n",
       "Vietnam                                  1            1   \n",
       "Yemen                                    1            1   \n",
       "Zambia                                   1            1   \n",
       "Zimbabwe                                 1            1   \n",
       "\n",
       "             2018 Health (Life Expectancy)  2018 Freedom  \\\n",
       "Country                                                    \n",
       "Afghanistan                              1             1   \n",
       "Albania                                  1             1   \n",
       "Algeria                                  1             1   \n",
       "Angola                                   1             1   \n",
       "Argentina                                1             1   \n",
       "...                                    ...           ...   \n",
       "Venezuela                                1             1   \n",
       "Vietnam                                  1             1   \n",
       "Yemen                                    1             1   \n",
       "Zambia                                   1             1   \n",
       "Zimbabwe                                 1             1   \n",
       "\n",
       "             2018 Trust (Government Corruption)  2018 Generosity  \n",
       "Country                                                           \n",
       "Afghanistan                                   1                1  \n",
       "Albania                                       1                1  \n",
       "Algeria                                       1                1  \n",
       "Angola                                        1                1  \n",
       "Argentina                                     1                1  \n",
       "...                                         ...              ...  \n",
       "Venezuela                                     1                1  \n",
       "Vietnam                                       1                1  \n",
       "Yemen                                         1                1  \n",
       "Zambia                                        1                1  \n",
       "Zimbabwe                                      1                1  \n",
       "\n",
       "[156 rows x 8 columns]"
      ]
     },
     "execution_count": 22,
     "metadata": {},
     "output_type": "execute_result"
    }
   ],
   "source": [
    "data_2018.groupby(\"Country\").count()"
   ]
  },
  {
   "cell_type": "code",
   "execution_count": 23,
   "id": "58c7d156",
   "metadata": {},
   "outputs": [
    {
     "data": {
      "text/plain": [
       "['Overall rank',\n",
       " 'Country or region',\n",
       " 'Score',\n",
       " 'GDP per capita',\n",
       " 'Social support',\n",
       " 'Healthy life expectancy',\n",
       " 'Freedom to make life choices',\n",
       " 'Generosity',\n",
       " 'Perceptions of corruption']"
      ]
     },
     "execution_count": 23,
     "metadata": {},
     "output_type": "execute_result"
    }
   ],
   "source": [
    "data_2019.columns.tolist()"
   ]
  },
  {
   "cell_type": "code",
   "execution_count": 24,
   "id": "0633340e",
   "metadata": {},
   "outputs": [],
   "source": [
    "data_2019.rename(columns={'Overall rank':'2019 Happiness Rank',\n",
    "                         'Score':'2019 Happiness Score',\n",
    "                         'GDP per capita':'2019 Economy (GDP per Capita)',\n",
    "                         'Social support':'2019 Family',\n",
    "                         'Healthy life expectancy':'2019 Health (Life Expectancy)',\n",
    "                         'Freedom to make life choices':'2019 Freedom',\n",
    "                         'Perceptions of corruption':'2019 Trust (Government Corruption)',\n",
    "                         'Generosity':'2019 Generosity',\n",
    "                         'Country or region':'Country'}, inplace=True)\n",
    "\n",
    "data_2019 = data_2019[['Country','2019 Happiness Rank','2019 Happiness Score','2019 Economy (GDP per Capita)',\n",
    "                       '2019 Family','2019 Health (Life Expectancy)','2019 Freedom','2019 Trust (Government Corruption)',\n",
    "                       '2019 Generosity']]"
   ]
  },
  {
   "cell_type": "code",
   "execution_count": 25,
   "id": "ad66653f",
   "metadata": {},
   "outputs": [
    {
     "data": {
      "text/plain": [
       "['Country',\n",
       " '2019 Happiness Rank',\n",
       " '2019 Happiness Score',\n",
       " '2019 Economy (GDP per Capita)',\n",
       " '2019 Family',\n",
       " '2019 Health (Life Expectancy)',\n",
       " '2019 Freedom',\n",
       " '2019 Trust (Government Corruption)',\n",
       " '2019 Generosity']"
      ]
     },
     "execution_count": 25,
     "metadata": {},
     "output_type": "execute_result"
    }
   ],
   "source": [
    "data_2019.columns.tolist()"
   ]
  },
  {
   "cell_type": "code",
   "execution_count": 26,
   "id": "0b9adb85",
   "metadata": {},
   "outputs": [
    {
     "name": "stdout",
     "output_type": "stream",
     "text": [
      "Country                                object\n",
      "2019 Happiness Rank                     int64\n",
      "2019 Happiness Score                  float64\n",
      "2019 Economy (GDP per Capita)         float64\n",
      "2019 Family                           float64\n",
      "2019 Health (Life Expectancy)         float64\n",
      "2019 Freedom                          float64\n",
      "2019 Trust (Government Corruption)    float64\n",
      "2019 Generosity                       float64\n",
      "dtype: object\n"
     ]
    }
   ],
   "source": [
    "print(data_2019.dtypes)"
   ]
  },
  {
   "cell_type": "code",
   "execution_count": 27,
   "id": "7b4b1faa",
   "metadata": {},
   "outputs": [],
   "source": [
    "data_2015.to_csv('cleanCSVs/Happiness_Score_2015.csv',index=False)"
   ]
  },
  {
   "cell_type": "code",
   "execution_count": 28,
   "id": "4df3f065",
   "metadata": {},
   "outputs": [],
   "source": [
    "data_2016.to_csv('cleanCSVs/Happiness_Score_2016.csv',index=False)"
   ]
  },
  {
   "cell_type": "code",
   "execution_count": 29,
   "id": "3f85e744",
   "metadata": {},
   "outputs": [],
   "source": [
    "data_2017.to_csv('cleanCSVs/Happiness_Score_2017.csv',index=False)"
   ]
  },
  {
   "cell_type": "code",
   "execution_count": 30,
   "id": "f065f84e",
   "metadata": {},
   "outputs": [],
   "source": [
    "data_2018.to_csv('cleanCSVs/Happiness_Score_2018.csv',index=False)"
   ]
  },
  {
   "cell_type": "code",
   "execution_count": 31,
   "id": "2aca6f6f",
   "metadata": {},
   "outputs": [],
   "source": [
    "data_2019.to_csv('cleanCSVs/Happiness_Score_2019.csv',index=False)"
   ]
  }
 ],
 "metadata": {
  "kernelspec": {
   "display_name": "Python 3 (ipykernel)",
   "language": "python",
   "name": "python3"
  },
  "language_info": {
   "codemirror_mode": {
    "name": "ipython",
    "version": 3
   },
   "file_extension": ".py",
   "mimetype": "text/x-python",
   "name": "python",
   "nbconvert_exporter": "python",
   "pygments_lexer": "ipython3",
   "version": "3.10.10"
  }
 },
 "nbformat": 4,
 "nbformat_minor": 5
}
