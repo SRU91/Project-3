{
 "cells": [
  {
   "cell_type": "code",
   "execution_count": null,
   "id": "ae160a5c",
   "metadata": {},
   "outputs": [],
   "source": [
    "#Data Cleaning"
   ]
  },
  {
   "cell_type": "code",
   "execution_count": 1,
   "id": "687e71e0",
   "metadata": {},
   "outputs": [],
   "source": [
    "#Dependencies\n",
    "import pandas as pd\n",
    "import os"
   ]
  },
  {
   "cell_type": "code",
   "execution_count": null,
   "id": "7be7c0d3",
   "metadata": {},
   "outputs": [],
   "source": [
    "path = '../data/2015.csv'\n",
    "\n",
    "if os.path.exists(path):\n",
    "    print(f\"ex)\n",
    "\n",
    "\n",
    "\n",
    "\n",
    "#csv15 = pd.read_csv(\"/data/2015.csv\")\n",
    "\n",
    "#\"C:\\Users\\sust1\\OneDrive\\Documents\\GitHub\\Project-3\\Flask_api\\data\\2015.csv\"\n",
    "# csv16 = pd.read_csv(\"../data/2016.csv\")\n",
    "# csv17 = pd.read_csv(\"../data/2017.csv\")\n",
    "# csv18 = pd.read_csv(\"../data/2018.csv\")\n",
    "# csv19 = pd.read_csv(\"../data/2019.csv\")"
   ]
  },
  {
   "cell_type": "code",
   "execution_count": null,
   "id": "fb2fbfe6",
   "metadata": {},
   "outputs": [],
   "source": [
    "csv15"
   ]
  },
  {
   "cell_type": "code",
   "execution_count": null,
   "id": "f8383511",
   "metadata": {},
   "outputs": [],
   "source": [
    "csv16"
   ]
  },
  {
   "cell_type": "code",
   "execution_count": null,
   "id": "baa12857",
   "metadata": {},
   "outputs": [],
   "source": [
    "csv17"
   ]
  },
  {
   "cell_type": "code",
   "execution_count": null,
   "id": "00b9e459",
   "metadata": {},
   "outputs": [],
   "source": [
    "csv18"
   ]
  },
  {
   "cell_type": "code",
   "execution_count": null,
   "id": "960a6f3c",
   "metadata": {},
   "outputs": [],
   "source": [
    "csv19"
   ]
  },
  {
   "cell_type": "code",
   "execution_count": null,
   "id": "7f284ea9",
   "metadata": {},
   "outputs": [],
   "source": []
  },
  {
   "cell_type": "code",
   "execution_count": null,
   "id": "1ed0b880",
   "metadata": {},
   "outputs": [],
   "source": []
  },
  {
   "cell_type": "code",
   "execution_count": null,
   "id": "67556f0c",
   "metadata": {},
   "outputs": [],
   "source": []
  },
  {
   "cell_type": "code",
   "execution_count": null,
   "id": "afdcd9ce",
   "metadata": {},
   "outputs": [],
   "source": []
  },
  {
   "cell_type": "code",
   "execution_count": null,
   "id": "deeba6af",
   "metadata": {},
   "outputs": [],
   "source": []
  },
  {
   "cell_type": "code",
   "execution_count": null,
   "id": "0dd929b8",
   "metadata": {},
   "outputs": [],
   "source": [
    "from flask import Flask, jsonify\n",
    "import pandas as pd"
   ]
  },
  {
   "cell_type": "code",
   "execution_count": null,
   "id": "96ed4c70",
   "metadata": {},
   "outputs": [],
   "source": [
    "app = Flask(__name__)"
   ]
  },
  {
   "cell_type": "code",
   "execution_count": null,
   "id": "5e297d9f",
   "metadata": {},
   "outputs": [],
   "source": [
    "@app.route('/data/<filename>', methods=['GET'])\n",
    "def get_data(filename):\n",
    "    try:\n",
    "        data = pd.read_csv(f'data/{2015}.csv')\n",
    "        json_data = data.to_json(orient='records')\n",
    "        return jsonify(json_data)\n",
    "    except FileNotFoundError:\n",
    "        return jsonify({'error': 'File not found'})"
   ]
  },
  {
   "cell_type": "code",
   "execution_count": null,
   "id": "eb9dad5a",
   "metadata": {},
   "outputs": [],
   "source": [
    "if __name__ == '__main__':\n",
    "    app.run(debug=True)"
   ]
  },
  {
   "cell_type": "code",
   "execution_count": null,
   "id": "cacfaf40",
   "metadata": {},
   "outputs": [],
   "source": []
  },
  {
   "cell_type": "code",
   "execution_count": null,
   "id": "67b5ffb5",
   "metadata": {},
   "outputs": [],
   "source": []
  }
 ],
 "metadata": {
  "kernelspec": {
   "display_name": "Python 3 (ipykernel)",
   "language": "python",
   "name": "python3"
  },
  "language_info": {
   "codemirror_mode": {
    "name": "ipython",
    "version": 3
   },
   "file_extension": ".py",
   "mimetype": "text/x-python",
   "name": "python",
   "nbconvert_exporter": "python",
   "pygments_lexer": "ipython3",
   "version": "3.10.10"
  }
 },
 "nbformat": 4,
 "nbformat_minor": 5
}
