{
 "cells": [
  {
   "cell_type": "code",
   "execution_count": null,
   "id": "5d80eee2",
   "metadata": {},
   "outputs": [],
   "source": [
    "#Address Validation API Key\n",
    "av_key = SrcuCDCnfroSRIx2auNPScwmUWknVBBG\n",
    "\n",
    "#Provider Directory API Key\n",
    "pd_key = 8FIWr5BmN6UcMtG7LlqL4FSG7U74Od4j\n",
    "\n",
    "#VA Facilities API Key\n",
    "vaf_key = U5rPtJwgQBvm4Adi2i7NdqvpK03FLSIc\n",
    "\n",
    "#Benefits Claims API Key\n",
    "bc_key = 0oandmp8zbVTocfHZ2p7"
   ]
  }
 ],
 "metadata": {
  "kernelspec": {
   "display_name": "Python 3 (ipykernel)",
   "language": "python",
   "name": "python3"
  },
  "language_info": {
   "codemirror_mode": {
    "name": "ipython",
    "version": 3
   },
   "file_extension": ".py",
   "mimetype": "text/x-python",
   "name": "python",
   "nbconvert_exporter": "python",
   "pygments_lexer": "ipython3",
   "version": "3.10.10"
  }
 },
 "nbformat": 4,
 "nbformat_minor": 5
}
