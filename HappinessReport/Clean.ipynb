{
 "cells": [
  {
   "cell_type": "code",
   "execution_count": 1,
   "id": "7ccb57cb",
   "metadata": {},
   "outputs": [],
   "source": [
    "#dependencies\n",
    "import pandas as pd"
   ]
  },
  {
   "cell_type": "code",
   "execution_count": 2,
   "id": "50d29e5a",
   "metadata": {},
   "outputs": [],
   "source": [
    "#reading in csvs\n",
    "data_2015 = pd.read_csv('2015.csv')\n",
    "data_2016 = pd.read_csv('2016.csv')\n",
    "data_2017 = pd.read_csv('2017.csv')\n",
    "data_2018 = pd.read_csv('2018.csv')\n",
    "data_2019 = pd.read_csv('2019.csv')"
   ]
  },
  {
   "cell_type": "code",
   "execution_count": 3,
   "id": "32e44e37",
   "metadata": {},
   "outputs": [
    {
     "data": {
      "text/plain": [
       "['Country',\n",
       " 'Region',\n",
       " 'Happiness Rank',\n",
       " 'Happiness Score',\n",
       " 'Standard Error',\n",
       " 'Economy (GDP per Capita)',\n",
       " 'Family',\n",
       " 'Health (Life Expectancy)',\n",
       " 'Freedom',\n",
       " 'Trust (Government Corruption)',\n",
       " 'Generosity',\n",
       " 'Dystopia Residual']"
      ]
     },
     "execution_count": 3,
     "metadata": {},
     "output_type": "execute_result"
    }
   ],
   "source": [
    "data_2015.columns.tolist()"
   ]
  },
  {
   "cell_type": "code",
   "execution_count": 4,
   "id": "459bc9f3",
   "metadata": {},
   "outputs": [],
   "source": [
    "data_2015 = data_2015.drop(['Region','Standard Error','Dystopia Residual'], axis=1)"
   ]
  },
  {
   "cell_type": "code",
   "execution_count": 5,
   "id": "febe7b73",
   "metadata": {},
   "outputs": [],
   "source": [
    "data_2015.rename(columns={'Happiness Rank':'2015 Happiness Rank',\n",
    "                         'Happiness Score':'2015 Happiness Score',\n",
    "                         'Economy (GDP per Capita)':'2015 Economy (GDP per Capita)',\n",
    "                         'Family':'2015 Family',\n",
    "                         'Health (Life Expectancy)':'2015 Health (Life Expectancy)',\n",
    "                         'Freedom':'2015 Freedom',\n",
    "                         'Trust (Government Corruption)':'2015 Trust (Government Corruption)',\n",
    "                         'Generosity':'2015 Generosity',\n",
    "                         'Dystopia Residual':'2015 Dystopia Residual'}, inplace=True)"
   ]
  },
  {
   "cell_type": "code",
   "execution_count": 6,
   "id": "271df1e8",
   "metadata": {},
   "outputs": [
    {
     "data": {
      "text/plain": [
       "['Country',\n",
       " '2015 Happiness Rank',\n",
       " '2015 Happiness Score',\n",
       " '2015 Economy (GDP per Capita)',\n",
       " '2015 Family',\n",
       " '2015 Health (Life Expectancy)',\n",
       " '2015 Freedom',\n",
       " '2015 Trust (Government Corruption)',\n",
       " '2015 Generosity']"
      ]
     },
     "execution_count": 6,
     "metadata": {},
     "output_type": "execute_result"
    }
   ],
   "source": [
    "data_2015.columns.tolist()"
   ]
  },
  {
   "cell_type": "code",
   "execution_count": 7,
   "id": "492b3ff9",
   "metadata": {},
   "outputs": [
    {
     "name": "stdout",
     "output_type": "stream",
     "text": [
      "Country                                object\n",
      "2015 Happiness Rank                     int64\n",
      "2015 Happiness Score                  float64\n",
      "2015 Economy (GDP per Capita)         float64\n",
      "2015 Family                           float64\n",
      "2015 Health (Life Expectancy)         float64\n",
      "2015 Freedom                          float64\n",
      "2015 Trust (Government Corruption)    float64\n",
      "2015 Generosity                       float64\n",
      "dtype: object\n"
     ]
    }
   ],
   "source": [
    "print(data_2015.dtypes)"
   ]
  },
  {
   "cell_type": "code",
   "execution_count": 8,
   "id": "9c68e1b8",
   "metadata": {},
   "outputs": [
    {
     "data": {
      "text/plain": [
       "['Country',\n",
       " 'Region',\n",
       " 'Happiness Rank',\n",
       " 'Happiness Score',\n",
       " 'Lower Confidence Interval',\n",
       " 'Upper Confidence Interval',\n",
       " 'Economy (GDP per Capita)',\n",
       " 'Family',\n",
       " 'Health (Life Expectancy)',\n",
       " 'Freedom',\n",
       " 'Trust (Government Corruption)',\n",
       " 'Generosity',\n",
       " 'Dystopia Residual']"
      ]
     },
     "execution_count": 8,
     "metadata": {},
     "output_type": "execute_result"
    }
   ],
   "source": [
    "data_2016.columns.tolist()"
   ]
  },
  {
   "cell_type": "code",
   "execution_count": 9,
   "id": "60435e3d",
   "metadata": {},
   "outputs": [],
   "source": [
    "data_2016 = data_2016.drop(['Region','Lower Confidence Interval','Upper Confidence Interval','Dystopia Residual'], axis=1)"
   ]
  },
  {
   "cell_type": "code",
   "execution_count": 10,
   "id": "d50f28f7",
   "metadata": {},
   "outputs": [],
   "source": [
    "data_2016.rename(columns={'Happiness Rank':'2016 Happiness Rank',\n",
    "                         'Happiness Score':'2016 Happiness Score',\n",
    "                         'Economy (GDP per Capita)':'2016 Economy (GDP per Capita)',\n",
    "                         'Family':'2016 Family',\n",
    "                         'Health (Life Expectancy)':'2016 Health (Life Expectancy)',\n",
    "                         'Freedom':'2016 Freedom',\n",
    "                         'Trust (Government Corruption)':'2016 Trust (Government Corruption)',\n",
    "                         'Generosity':'2016 Generosity'}, inplace=True)"
   ]
  },
  {
   "cell_type": "code",
   "execution_count": 11,
   "id": "eef48bde",
   "metadata": {},
   "outputs": [
    {
     "data": {
      "text/plain": [
       "['Country',\n",
       " '2016 Happiness Rank',\n",
       " '2016 Happiness Score',\n",
       " '2016 Economy (GDP per Capita)',\n",
       " '2016 Family',\n",
       " '2016 Health (Life Expectancy)',\n",
       " '2016 Freedom',\n",
       " '2016 Trust (Government Corruption)',\n",
       " '2016 Generosity']"
      ]
     },
     "execution_count": 11,
     "metadata": {},
     "output_type": "execute_result"
    }
   ],
   "source": [
    "data_2016.columns.tolist()"
   ]
  },
  {
   "cell_type": "code",
   "execution_count": 12,
   "id": "7757667e",
   "metadata": {},
   "outputs": [
    {
     "name": "stdout",
     "output_type": "stream",
     "text": [
      "Country                                object\n",
      "2016 Happiness Rank                     int64\n",
      "2016 Happiness Score                  float64\n",
      "2016 Economy (GDP per Capita)         float64\n",
      "2016 Family                           float64\n",
      "2016 Health (Life Expectancy)         float64\n",
      "2016 Freedom                          float64\n",
      "2016 Trust (Government Corruption)    float64\n",
      "2016 Generosity                       float64\n",
      "dtype: object\n"
     ]
    }
   ],
   "source": [
    "print(data_2016.dtypes)"
   ]
  },
  {
   "cell_type": "code",
   "execution_count": 13,
   "id": "9c50ce45",
   "metadata": {},
   "outputs": [
    {
     "data": {
      "text/plain": [
       "['Country',\n",
       " 'Happiness.Rank',\n",
       " 'Happiness.Score',\n",
       " 'Whisker.high',\n",
       " 'Whisker.low',\n",
       " 'Economy..GDP.per.Capita.',\n",
       " 'Family',\n",
       " 'Health..Life.Expectancy.',\n",
       " 'Freedom',\n",
       " 'Generosity',\n",
       " 'Trust..Government.Corruption.',\n",
       " 'Dystopia.Residual']"
      ]
     },
     "execution_count": 13,
     "metadata": {},
     "output_type": "execute_result"
    }
   ],
   "source": [
    "data_2017.columns.tolist()"
   ]
  },
  {
   "cell_type": "code",
   "execution_count": 14,
   "id": "e5f06a87",
   "metadata": {},
   "outputs": [],
   "source": [
    "data_2017 = data_2017.drop(['Whisker.high','Whisker.low','Dystopia.Residual'], axis=1)"
   ]
  },
  {
   "cell_type": "code",
   "execution_count": 15,
   "id": "68be56cd",
   "metadata": {},
   "outputs": [],
   "source": [
    "data_2017.rename(columns={'Happiness.Rank':'2017 Happiness Rank',\n",
    "                         'Happiness.Score':'2017 Happiness Score',\n",
    "                         'Economy..GDP.per.Capita.':'2017 Economy (GDP per Capita)',\n",
    "                         'Family':'2017 Family',\n",
    "                         'Health..Life.Expectancy.':'2017 Health (Life Expectancy)',\n",
    "                         'Freedom':'2017 Freedom',\n",
    "                         'Trust..Government.Corruption.':'2017 Trust (Government Corruption)',\n",
    "                         'Generosity':'2017 Generosity',\n",
    "                         'Dystopia.Residual':'2017 Dystopia Residual'}, inplace=True)\n",
    "\n",
    "data_2017 = data_2017[['Country','2017 Happiness Rank','2017 Happiness Score','2017 Economy (GDP per Capita)',\n",
    "                       '2017 Family','2017 Health (Life Expectancy)','2017 Freedom','2017 Trust (Government Corruption)',\n",
    "                       '2017 Generosity']]"
   ]
  },
  {
   "cell_type": "code",
   "execution_count": 16,
   "id": "b3365af4",
   "metadata": {},
   "outputs": [
    {
     "data": {
      "text/plain": [
       "['Country',\n",
       " '2017 Happiness Rank',\n",
       " '2017 Happiness Score',\n",
       " '2017 Economy (GDP per Capita)',\n",
       " '2017 Family',\n",
       " '2017 Health (Life Expectancy)',\n",
       " '2017 Freedom',\n",
       " '2017 Trust (Government Corruption)',\n",
       " '2017 Generosity']"
      ]
     },
     "execution_count": 16,
     "metadata": {},
     "output_type": "execute_result"
    }
   ],
   "source": [
    "data_2017.columns.tolist()"
   ]
  },
  {
   "cell_type": "code",
   "execution_count": 17,
   "id": "36bce3e9",
   "metadata": {},
   "outputs": [
    {
     "name": "stdout",
     "output_type": "stream",
     "text": [
      "Country                                object\n",
      "2017 Happiness Rank                     int64\n",
      "2017 Happiness Score                  float64\n",
      "2017 Economy (GDP per Capita)         float64\n",
      "2017 Family                           float64\n",
      "2017 Health (Life Expectancy)         float64\n",
      "2017 Freedom                          float64\n",
      "2017 Trust (Government Corruption)    float64\n",
      "2017 Generosity                       float64\n",
      "dtype: object\n"
     ]
    }
   ],
   "source": [
    "print(data_2017.dtypes)"
   ]
  },
  {
   "cell_type": "code",
   "execution_count": 18,
   "id": "659f023d",
   "metadata": {},
   "outputs": [
    {
     "data": {
      "text/plain": [
       "['Overall rank',\n",
       " 'Country or region',\n",
       " 'Score',\n",
       " 'GDP per capita',\n",
       " 'Social support',\n",
       " 'Healthy life expectancy',\n",
       " 'Freedom to make life choices',\n",
       " 'Generosity',\n",
       " 'Perceptions of corruption']"
      ]
     },
     "execution_count": 18,
     "metadata": {},
     "output_type": "execute_result"
    }
   ],
   "source": [
    "data_2018.columns.tolist()"
   ]
  },
  {
   "cell_type": "code",
   "execution_count": 19,
   "id": "af976e57",
   "metadata": {},
   "outputs": [],
   "source": [
    "data_2018.rename(columns={'Overall rank':'2018 Happiness Rank',\n",
    "                         'Score':'2018 Happiness Score',\n",
    "                         'GDP per capita':'2018 Economy (GDP per Capita)',\n",
    "                         'Social support':'2018 Family',\n",
    "                         'Healthy life expectancy':'2018 Health (Life Expectancy)',\n",
    "                         'Freedom to make life choices':'2018 Freedom',\n",
    "                         'Perceptions of corruption':'2018 Trust (Government Corruption)',\n",
    "                         'Generosity':'2018 Generosity',\n",
    "                         'Country or region':'Country'\n",
    "                         }, inplace=True)\n",
    "\n",
    "data_2018 = data_2018[['Country','2018 Happiness Rank','2018 Happiness Score','2018 Economy (GDP per Capita)',\n",
    "                       '2018 Family','2018 Health (Life Expectancy)','2018 Freedom','2018 Trust (Government Corruption)',\n",
    "                       '2018 Generosity']]"
   ]
  },
  {
   "cell_type": "code",
   "execution_count": 20,
   "id": "cbeeda0d",
   "metadata": {},
   "outputs": [
    {
     "data": {
      "text/plain": [
       "['Country',\n",
       " '2018 Happiness Rank',\n",
       " '2018 Happiness Score',\n",
       " '2018 Economy (GDP per Capita)',\n",
       " '2018 Family',\n",
       " '2018 Health (Life Expectancy)',\n",
       " '2018 Freedom',\n",
       " '2018 Trust (Government Corruption)',\n",
       " '2018 Generosity']"
      ]
     },
     "execution_count": 20,
     "metadata": {},
     "output_type": "execute_result"
    }
   ],
   "source": [
    "data_2018.columns.tolist()"
   ]
  },
  {
   "cell_type": "code",
   "execution_count": 21,
   "id": "cd366048",
   "metadata": {},
   "outputs": [
    {
     "name": "stdout",
     "output_type": "stream",
     "text": [
      "Country                                object\n",
      "2018 Happiness Rank                     int64\n",
      "2018 Happiness Score                  float64\n",
      "2018 Economy (GDP per Capita)         float64\n",
      "2018 Family                           float64\n",
      "2018 Health (Life Expectancy)         float64\n",
      "2018 Freedom                          float64\n",
      "2018 Trust (Government Corruption)    float64\n",
      "2018 Generosity                       float64\n",
      "dtype: object\n"
     ]
    }
   ],
   "source": [
    "print(data_2018.dtypes)"
   ]
  },
  {
   "cell_type": "code",
   "execution_count": 22,
   "id": "4529866e",
   "metadata": {},
   "outputs": [
    {
     "data": {
      "text/html": [
       "<div>\n",
       "<style scoped>\n",
       "    .dataframe tbody tr th:only-of-type {\n",
       "        vertical-align: middle;\n",
       "    }\n",
       "\n",
       "    .dataframe tbody tr th {\n",
       "        vertical-align: top;\n",
       "    }\n",
       "\n",
       "    .dataframe thead th {\n",
       "        text-align: right;\n",
       "    }\n",
       "</style>\n",
       "<table border=\"1\" class=\"dataframe\">\n",
       "  <thead>\n",
       "    <tr style=\"text-align: right;\">\n",
       "      <th></th>\n",
       "      <th>2018 Happiness Rank</th>\n",
       "      <th>2018 Happiness Score</th>\n",
       "      <th>2018 Economy (GDP per Capita)</th>\n",
       "      <th>2018 Family</th>\n",
       "      <th>2018 Health (Life Expectancy)</th>\n",
       "      <th>2018 Freedom</th>\n",
       "      <th>2018 Trust (Government Corruption)</th>\n",
       "      <th>2018 Generosity</th>\n",
       "    </tr>\n",
       "    <tr>\n",
       "      <th>Country</th>\n",
       "      <th></th>\n",
       "      <th></th>\n",
       "      <th></th>\n",
       "      <th></th>\n",
       "      <th></th>\n",
       "      <th></th>\n",
       "      <th></th>\n",
       "      <th></th>\n",
       "    </tr>\n",
       "  </thead>\n",
       "  <tbody>\n",
       "    <tr>\n",
       "      <th>Afghanistan</th>\n",
       "      <td>1</td>\n",
       "      <td>1</td>\n",
       "      <td>1</td>\n",
       "      <td>1</td>\n",
       "      <td>1</td>\n",
       "      <td>1</td>\n",
       "      <td>1</td>\n",
       "      <td>1</td>\n",
       "    </tr>\n",
       "    <tr>\n",
       "      <th>Albania</th>\n",
       "      <td>1</td>\n",
       "      <td>1</td>\n",
       "      <td>1</td>\n",
       "      <td>1</td>\n",
       "      <td>1</td>\n",
       "      <td>1</td>\n",
       "      <td>1</td>\n",
       "      <td>1</td>\n",
       "    </tr>\n",
       "    <tr>\n",
       "      <th>Algeria</th>\n",
       "      <td>1</td>\n",
       "      <td>1</td>\n",
       "      <td>1</td>\n",
       "      <td>1</td>\n",
       "      <td>1</td>\n",
       "      <td>1</td>\n",
       "      <td>1</td>\n",
       "      <td>1</td>\n",
       "    </tr>\n",
       "    <tr>\n",
       "      <th>Angola</th>\n",
       "      <td>1</td>\n",
       "      <td>1</td>\n",
       "      <td>1</td>\n",
       "      <td>1</td>\n",
       "      <td>1</td>\n",
       "      <td>1</td>\n",
       "      <td>1</td>\n",
       "      <td>1</td>\n",
       "    </tr>\n",
       "    <tr>\n",
       "      <th>Argentina</th>\n",
       "      <td>1</td>\n",
       "      <td>1</td>\n",
       "      <td>1</td>\n",
       "      <td>1</td>\n",
       "      <td>1</td>\n",
       "      <td>1</td>\n",
       "      <td>1</td>\n",
       "      <td>1</td>\n",
       "    </tr>\n",
       "    <tr>\n",
       "      <th>...</th>\n",
       "      <td>...</td>\n",
       "      <td>...</td>\n",
       "      <td>...</td>\n",
       "      <td>...</td>\n",
       "      <td>...</td>\n",
       "      <td>...</td>\n",
       "      <td>...</td>\n",
       "      <td>...</td>\n",
       "    </tr>\n",
       "    <tr>\n",
       "      <th>Venezuela</th>\n",
       "      <td>1</td>\n",
       "      <td>1</td>\n",
       "      <td>1</td>\n",
       "      <td>1</td>\n",
       "      <td>1</td>\n",
       "      <td>1</td>\n",
       "      <td>1</td>\n",
       "      <td>1</td>\n",
       "    </tr>\n",
       "    <tr>\n",
       "      <th>Vietnam</th>\n",
       "      <td>1</td>\n",
       "      <td>1</td>\n",
       "      <td>1</td>\n",
       "      <td>1</td>\n",
       "      <td>1</td>\n",
       "      <td>1</td>\n",
       "      <td>1</td>\n",
       "      <td>1</td>\n",
       "    </tr>\n",
       "    <tr>\n",
       "      <th>Yemen</th>\n",
       "      <td>1</td>\n",
       "      <td>1</td>\n",
       "      <td>1</td>\n",
       "      <td>1</td>\n",
       "      <td>1</td>\n",
       "      <td>1</td>\n",
       "      <td>1</td>\n",
       "      <td>1</td>\n",
       "    </tr>\n",
       "    <tr>\n",
       "      <th>Zambia</th>\n",
       "      <td>1</td>\n",
       "      <td>1</td>\n",
       "      <td>1</td>\n",
       "      <td>1</td>\n",
       "      <td>1</td>\n",
       "      <td>1</td>\n",
       "      <td>1</td>\n",
       "      <td>1</td>\n",
       "    </tr>\n",
       "    <tr>\n",
       "      <th>Zimbabwe</th>\n",
       "      <td>1</td>\n",
       "      <td>1</td>\n",
       "      <td>1</td>\n",
       "      <td>1</td>\n",
       "      <td>1</td>\n",
       "      <td>1</td>\n",
       "      <td>1</td>\n",
       "      <td>1</td>\n",
       "    </tr>\n",
       "  </tbody>\n",
       "</table>\n",
       "<p>156 rows × 8 columns</p>\n",
       "</div>"
      ],
      "text/plain": [
       "             2018 Happiness Rank  2018 Happiness Score  \\\n",
       "Country                                                  \n",
       "Afghanistan                    1                     1   \n",
       "Albania                        1                     1   \n",
       "Algeria                        1                     1   \n",
       "Angola                         1                     1   \n",
       "Argentina                      1                     1   \n",
       "...                          ...                   ...   \n",
       "Venezuela                      1                     1   \n",
       "Vietnam                        1                     1   \n",
       "Yemen                          1                     1   \n",
       "Zambia                         1                     1   \n",
       "Zimbabwe                       1                     1   \n",
       "\n",
       "             2018 Economy (GDP per Capita)  2018 Family  \\\n",
       "Country                                                   \n",
       "Afghanistan                              1            1   \n",
       "Albania                                  1            1   \n",
       "Algeria                                  1            1   \n",
       "Angola                                   1            1   \n",
       "Argentina                                1            1   \n",
       "...                                    ...          ...   \n",
       "Venezuela                                1            1   \n",
       "Vietnam                                  1            1   \n",
       "Yemen                                    1            1   \n",
       "Zambia                                   1            1   \n",
       "Zimbabwe                                 1            1   \n",
       "\n",
       "             2018 Health (Life Expectancy)  2018 Freedom  \\\n",
       "Country                                                    \n",
       "Afghanistan                              1             1   \n",
       "Albania                                  1             1   \n",
       "Algeria                                  1             1   \n",
       "Angola                                   1             1   \n",
       "Argentina                                1             1   \n",
       "...                                    ...           ...   \n",
       "Venezuela                                1             1   \n",
       "Vietnam                                  1             1   \n",
       "Yemen                                    1             1   \n",
       "Zambia                                   1             1   \n",
       "Zimbabwe                                 1             1   \n",
       "\n",
       "             2018 Trust (Government Corruption)  2018 Generosity  \n",
       "Country                                                           \n",
       "Afghanistan                                   1                1  \n",
       "Albania                                       1                1  \n",
       "Algeria                                       1                1  \n",
       "Angola                                        1                1  \n",
       "Argentina                                     1                1  \n",
       "...                                         ...              ...  \n",
       "Venezuela                                     1                1  \n",
       "Vietnam                                       1                1  \n",
       "Yemen                                         1                1  \n",
       "Zambia                                        1                1  \n",
       "Zimbabwe                                      1                1  \n",
       "\n",
       "[156 rows x 8 columns]"
      ]
     },
     "execution_count": 22,
     "metadata": {},
     "output_type": "execute_result"
    }
   ],
   "source": [
    "data_2018.groupby(\"Country\").count()"
   ]
  },
  {
   "cell_type": "code",
   "execution_count": 23,
   "id": "58c7d156",
   "metadata": {},
   "outputs": [
    {
     "data": {
      "text/plain": [
       "['Overall rank',\n",
       " 'Country or region',\n",
       " 'Score',\n",
       " 'GDP per capita',\n",
       " 'Social support',\n",
       " 'Healthy life expectancy',\n",
       " 'Freedom to make life choices',\n",
       " 'Generosity',\n",
       " 'Perceptions of corruption']"
      ]
     },
     "execution_count": 23,
     "metadata": {},
     "output_type": "execute_result"
    }
   ],
   "source": [
    "data_2019.columns.tolist()"
   ]
  },
  {
   "cell_type": "code",
   "execution_count": 24,
   "id": "0633340e",
   "metadata": {},
   "outputs": [],
   "source": [
    "data_2019.rename(columns={'Overall rank':'2019 Happiness Rank',\n",
    "                         'Score':'2019 Happiness Score',\n",
    "                         'GDP per capita':'2019 Economy (GDP per Capita)',\n",
    "                         'Social support':'2019 Family',\n",
    "                         'Healthy life expectancy':'2019 Health (Life Expectancy)',\n",
    "                         'Freedom to make life choices':'2019 Freedom',\n",
    "                         'Perceptions of corruption':'2019 Trust (Government Corruption)',\n",
    "                         'Generosity':'2019 Generosity',\n",
    "                         'Country or region':'Country'}, inplace=True)\n",
    "\n",
    "data_2019 = data_2019[['Country','2019 Happiness Rank','2019 Happiness Score','2019 Economy (GDP per Capita)',\n",
    "                       '2019 Family','2019 Health (Life Expectancy)','2019 Freedom','2019 Trust (Government Corruption)',\n",
    "                       '2019 Generosity']]"
   ]
  },
  {
   "cell_type": "code",
   "execution_count": 25,
   "id": "ad66653f",
   "metadata": {},
   "outputs": [
    {
     "data": {
      "text/plain": [
       "['Country',\n",
       " '2019 Happiness Rank',\n",
       " '2019 Happiness Score',\n",
       " '2019 Economy (GDP per Capita)',\n",
       " '2019 Family',\n",
       " '2019 Health (Life Expectancy)',\n",
       " '2019 Freedom',\n",
       " '2019 Trust (Government Corruption)',\n",
       " '2019 Generosity']"
      ]
     },
     "execution_count": 25,
     "metadata": {},
     "output_type": "execute_result"
    }
   ],
   "source": [
    "data_2019.columns.tolist()"
   ]
  },
  {
   "cell_type": "code",
   "execution_count": 26,
   "id": "0b9adb85",
   "metadata": {},
   "outputs": [
    {
     "name": "stdout",
     "output_type": "stream",
     "text": [
      "Country                                object\n",
      "2019 Happiness Rank                     int64\n",
      "2019 Happiness Score                  float64\n",
      "2019 Economy (GDP per Capita)         float64\n",
      "2019 Family                           float64\n",
      "2019 Health (Life Expectancy)         float64\n",
      "2019 Freedom                          float64\n",
      "2019 Trust (Government Corruption)    float64\n",
      "2019 Generosity                       float64\n",
      "dtype: object\n"
     ]
    }
   ],
   "source": [
    "print(data_2019.dtypes)"
   ]
  },
  {
   "cell_type": "code",
   "execution_count": 27,
   "id": "7b4b1faa",
   "metadata": {},
   "outputs": [],
   "source": [
    "merge=pd.merge(data_2015,data_2016,on=\"Country\",how=\"outer\")"
   ]
  },
  {
   "cell_type": "code",
   "execution_count": 28,
   "id": "4df3f065",
   "metadata": {},
   "outputs": [],
   "source": [
    "merge=pd.merge(merge,data_2017,on=\"Country\",how=\"outer\")"
   ]
  },
  {
   "cell_type": "code",
   "execution_count": 29,
   "id": "3f85e744",
   "metadata": {},
   "outputs": [],
   "source": [
    "merge=pd.merge(merge,data_2018,on=\"Country\",how=\"outer\")"
   ]
  },
  {
   "cell_type": "code",
   "execution_count": 30,
   "id": "f065f84e",
   "metadata": {},
   "outputs": [],
   "source": [
    "merge=pd.merge(merge,data_2019,on=\"Country\",how=\"outer\")"
   ]
  },
  {
   "cell_type": "code",
   "execution_count": 31,
   "id": "2aca6f6f",
   "metadata": {},
   "outputs": [
    {
     "data": {
      "text/html": [
       "<div>\n",
       "<style scoped>\n",
       "    .dataframe tbody tr th:only-of-type {\n",
       "        vertical-align: middle;\n",
       "    }\n",
       "\n",
       "    .dataframe tbody tr th {\n",
       "        vertical-align: top;\n",
       "    }\n",
       "\n",
       "    .dataframe thead th {\n",
       "        text-align: right;\n",
       "    }\n",
       "</style>\n",
       "<table border=\"1\" class=\"dataframe\">\n",
       "  <thead>\n",
       "    <tr style=\"text-align: right;\">\n",
       "      <th></th>\n",
       "      <th>Country</th>\n",
       "      <th>2015 Happiness Rank</th>\n",
       "      <th>2015 Happiness Score</th>\n",
       "      <th>2015 Economy (GDP per Capita)</th>\n",
       "      <th>2015 Family</th>\n",
       "      <th>2015 Health (Life Expectancy)</th>\n",
       "      <th>2015 Freedom</th>\n",
       "      <th>2015 Trust (Government Corruption)</th>\n",
       "      <th>2015 Generosity</th>\n",
       "      <th>2016 Happiness Rank</th>\n",
       "      <th>...</th>\n",
       "      <th>2018 Trust (Government Corruption)</th>\n",
       "      <th>2018 Generosity</th>\n",
       "      <th>2019 Happiness Rank</th>\n",
       "      <th>2019 Happiness Score</th>\n",
       "      <th>2019 Economy (GDP per Capita)</th>\n",
       "      <th>2019 Family</th>\n",
       "      <th>2019 Health (Life Expectancy)</th>\n",
       "      <th>2019 Freedom</th>\n",
       "      <th>2019 Trust (Government Corruption)</th>\n",
       "      <th>2019 Generosity</th>\n",
       "    </tr>\n",
       "  </thead>\n",
       "  <tbody>\n",
       "    <tr>\n",
       "      <th>0</th>\n",
       "      <td>Switzerland</td>\n",
       "      <td>1.0</td>\n",
       "      <td>7.587</td>\n",
       "      <td>1.39651</td>\n",
       "      <td>1.34951</td>\n",
       "      <td>0.94143</td>\n",
       "      <td>0.66557</td>\n",
       "      <td>0.41978</td>\n",
       "      <td>0.29678</td>\n",
       "      <td>2.0</td>\n",
       "      <td>...</td>\n",
       "      <td>0.357</td>\n",
       "      <td>0.256</td>\n",
       "      <td>6.0</td>\n",
       "      <td>7.480</td>\n",
       "      <td>1.452</td>\n",
       "      <td>1.526</td>\n",
       "      <td>1.052</td>\n",
       "      <td>0.572</td>\n",
       "      <td>0.343</td>\n",
       "      <td>0.263</td>\n",
       "    </tr>\n",
       "    <tr>\n",
       "      <th>1</th>\n",
       "      <td>Iceland</td>\n",
       "      <td>2.0</td>\n",
       "      <td>7.561</td>\n",
       "      <td>1.30232</td>\n",
       "      <td>1.40223</td>\n",
       "      <td>0.94784</td>\n",
       "      <td>0.62877</td>\n",
       "      <td>0.14145</td>\n",
       "      <td>0.43630</td>\n",
       "      <td>3.0</td>\n",
       "      <td>...</td>\n",
       "      <td>0.138</td>\n",
       "      <td>0.353</td>\n",
       "      <td>4.0</td>\n",
       "      <td>7.494</td>\n",
       "      <td>1.380</td>\n",
       "      <td>1.624</td>\n",
       "      <td>1.026</td>\n",
       "      <td>0.591</td>\n",
       "      <td>0.118</td>\n",
       "      <td>0.354</td>\n",
       "    </tr>\n",
       "    <tr>\n",
       "      <th>2</th>\n",
       "      <td>Denmark</td>\n",
       "      <td>3.0</td>\n",
       "      <td>7.527</td>\n",
       "      <td>1.32548</td>\n",
       "      <td>1.36058</td>\n",
       "      <td>0.87464</td>\n",
       "      <td>0.64938</td>\n",
       "      <td>0.48357</td>\n",
       "      <td>0.34139</td>\n",
       "      <td>1.0</td>\n",
       "      <td>...</td>\n",
       "      <td>0.408</td>\n",
       "      <td>0.284</td>\n",
       "      <td>2.0</td>\n",
       "      <td>7.600</td>\n",
       "      <td>1.383</td>\n",
       "      <td>1.573</td>\n",
       "      <td>0.996</td>\n",
       "      <td>0.592</td>\n",
       "      <td>0.410</td>\n",
       "      <td>0.252</td>\n",
       "    </tr>\n",
       "    <tr>\n",
       "      <th>3</th>\n",
       "      <td>Norway</td>\n",
       "      <td>4.0</td>\n",
       "      <td>7.522</td>\n",
       "      <td>1.45900</td>\n",
       "      <td>1.33095</td>\n",
       "      <td>0.88521</td>\n",
       "      <td>0.66973</td>\n",
       "      <td>0.36503</td>\n",
       "      <td>0.34699</td>\n",
       "      <td>4.0</td>\n",
       "      <td>...</td>\n",
       "      <td>0.340</td>\n",
       "      <td>0.286</td>\n",
       "      <td>3.0</td>\n",
       "      <td>7.554</td>\n",
       "      <td>1.488</td>\n",
       "      <td>1.582</td>\n",
       "      <td>1.028</td>\n",
       "      <td>0.603</td>\n",
       "      <td>0.341</td>\n",
       "      <td>0.271</td>\n",
       "    </tr>\n",
       "    <tr>\n",
       "      <th>4</th>\n",
       "      <td>Canada</td>\n",
       "      <td>5.0</td>\n",
       "      <td>7.427</td>\n",
       "      <td>1.32629</td>\n",
       "      <td>1.32261</td>\n",
       "      <td>0.90563</td>\n",
       "      <td>0.63297</td>\n",
       "      <td>0.32957</td>\n",
       "      <td>0.45811</td>\n",
       "      <td>6.0</td>\n",
       "      <td>...</td>\n",
       "      <td>0.291</td>\n",
       "      <td>0.321</td>\n",
       "      <td>9.0</td>\n",
       "      <td>7.278</td>\n",
       "      <td>1.365</td>\n",
       "      <td>1.505</td>\n",
       "      <td>1.039</td>\n",
       "      <td>0.584</td>\n",
       "      <td>0.308</td>\n",
       "      <td>0.285</td>\n",
       "    </tr>\n",
       "    <tr>\n",
       "      <th>...</th>\n",
       "      <td>...</td>\n",
       "      <td>...</td>\n",
       "      <td>...</td>\n",
       "      <td>...</td>\n",
       "      <td>...</td>\n",
       "      <td>...</td>\n",
       "      <td>...</td>\n",
       "      <td>...</td>\n",
       "      <td>...</td>\n",
       "      <td>...</td>\n",
       "      <td>...</td>\n",
       "      <td>...</td>\n",
       "      <td>...</td>\n",
       "      <td>...</td>\n",
       "      <td>...</td>\n",
       "      <td>...</td>\n",
       "      <td>...</td>\n",
       "      <td>...</td>\n",
       "      <td>...</td>\n",
       "      <td>...</td>\n",
       "      <td>...</td>\n",
       "    </tr>\n",
       "    <tr>\n",
       "      <th>165</th>\n",
       "      <td>Hong Kong S.A.R., China</td>\n",
       "      <td>NaN</td>\n",
       "      <td>NaN</td>\n",
       "      <td>NaN</td>\n",
       "      <td>NaN</td>\n",
       "      <td>NaN</td>\n",
       "      <td>NaN</td>\n",
       "      <td>NaN</td>\n",
       "      <td>NaN</td>\n",
       "      <td>NaN</td>\n",
       "      <td>...</td>\n",
       "      <td>NaN</td>\n",
       "      <td>NaN</td>\n",
       "      <td>NaN</td>\n",
       "      <td>NaN</td>\n",
       "      <td>NaN</td>\n",
       "      <td>NaN</td>\n",
       "      <td>NaN</td>\n",
       "      <td>NaN</td>\n",
       "      <td>NaN</td>\n",
       "      <td>NaN</td>\n",
       "    </tr>\n",
       "    <tr>\n",
       "      <th>166</th>\n",
       "      <td>Trinidad &amp; Tobago</td>\n",
       "      <td>NaN</td>\n",
       "      <td>NaN</td>\n",
       "      <td>NaN</td>\n",
       "      <td>NaN</td>\n",
       "      <td>NaN</td>\n",
       "      <td>NaN</td>\n",
       "      <td>NaN</td>\n",
       "      <td>NaN</td>\n",
       "      <td>NaN</td>\n",
       "      <td>...</td>\n",
       "      <td>0.019</td>\n",
       "      <td>0.171</td>\n",
       "      <td>39.0</td>\n",
       "      <td>6.192</td>\n",
       "      <td>1.231</td>\n",
       "      <td>1.477</td>\n",
       "      <td>0.713</td>\n",
       "      <td>0.489</td>\n",
       "      <td>0.016</td>\n",
       "      <td>0.185</td>\n",
       "    </tr>\n",
       "    <tr>\n",
       "      <th>167</th>\n",
       "      <td>Northern Cyprus</td>\n",
       "      <td>NaN</td>\n",
       "      <td>NaN</td>\n",
       "      <td>NaN</td>\n",
       "      <td>NaN</td>\n",
       "      <td>NaN</td>\n",
       "      <td>NaN</td>\n",
       "      <td>NaN</td>\n",
       "      <td>NaN</td>\n",
       "      <td>NaN</td>\n",
       "      <td>...</td>\n",
       "      <td>0.154</td>\n",
       "      <td>0.179</td>\n",
       "      <td>64.0</td>\n",
       "      <td>5.718</td>\n",
       "      <td>1.263</td>\n",
       "      <td>1.252</td>\n",
       "      <td>1.042</td>\n",
       "      <td>0.417</td>\n",
       "      <td>0.162</td>\n",
       "      <td>0.191</td>\n",
       "    </tr>\n",
       "    <tr>\n",
       "      <th>168</th>\n",
       "      <td>North Macedonia</td>\n",
       "      <td>NaN</td>\n",
       "      <td>NaN</td>\n",
       "      <td>NaN</td>\n",
       "      <td>NaN</td>\n",
       "      <td>NaN</td>\n",
       "      <td>NaN</td>\n",
       "      <td>NaN</td>\n",
       "      <td>NaN</td>\n",
       "      <td>NaN</td>\n",
       "      <td>...</td>\n",
       "      <td>NaN</td>\n",
       "      <td>NaN</td>\n",
       "      <td>84.0</td>\n",
       "      <td>5.274</td>\n",
       "      <td>0.983</td>\n",
       "      <td>1.294</td>\n",
       "      <td>0.838</td>\n",
       "      <td>0.345</td>\n",
       "      <td>0.034</td>\n",
       "      <td>0.185</td>\n",
       "    </tr>\n",
       "    <tr>\n",
       "      <th>169</th>\n",
       "      <td>Gambia</td>\n",
       "      <td>NaN</td>\n",
       "      <td>NaN</td>\n",
       "      <td>NaN</td>\n",
       "      <td>NaN</td>\n",
       "      <td>NaN</td>\n",
       "      <td>NaN</td>\n",
       "      <td>NaN</td>\n",
       "      <td>NaN</td>\n",
       "      <td>NaN</td>\n",
       "      <td>...</td>\n",
       "      <td>NaN</td>\n",
       "      <td>NaN</td>\n",
       "      <td>120.0</td>\n",
       "      <td>4.516</td>\n",
       "      <td>0.308</td>\n",
       "      <td>0.939</td>\n",
       "      <td>0.428</td>\n",
       "      <td>0.382</td>\n",
       "      <td>0.167</td>\n",
       "      <td>0.269</td>\n",
       "    </tr>\n",
       "  </tbody>\n",
       "</table>\n",
       "<p>170 rows × 41 columns</p>\n",
       "</div>"
      ],
      "text/plain": [
       "                     Country  2015 Happiness Rank  2015 Happiness Score  \\\n",
       "0                Switzerland                  1.0                 7.587   \n",
       "1                    Iceland                  2.0                 7.561   \n",
       "2                    Denmark                  3.0                 7.527   \n",
       "3                     Norway                  4.0                 7.522   \n",
       "4                     Canada                  5.0                 7.427   \n",
       "..                       ...                  ...                   ...   \n",
       "165  Hong Kong S.A.R., China                  NaN                   NaN   \n",
       "166        Trinidad & Tobago                  NaN                   NaN   \n",
       "167          Northern Cyprus                  NaN                   NaN   \n",
       "168          North Macedonia                  NaN                   NaN   \n",
       "169                   Gambia                  NaN                   NaN   \n",
       "\n",
       "     2015 Economy (GDP per Capita)  2015 Family  \\\n",
       "0                          1.39651      1.34951   \n",
       "1                          1.30232      1.40223   \n",
       "2                          1.32548      1.36058   \n",
       "3                          1.45900      1.33095   \n",
       "4                          1.32629      1.32261   \n",
       "..                             ...          ...   \n",
       "165                            NaN          NaN   \n",
       "166                            NaN          NaN   \n",
       "167                            NaN          NaN   \n",
       "168                            NaN          NaN   \n",
       "169                            NaN          NaN   \n",
       "\n",
       "     2015 Health (Life Expectancy)  2015 Freedom  \\\n",
       "0                          0.94143       0.66557   \n",
       "1                          0.94784       0.62877   \n",
       "2                          0.87464       0.64938   \n",
       "3                          0.88521       0.66973   \n",
       "4                          0.90563       0.63297   \n",
       "..                             ...           ...   \n",
       "165                            NaN           NaN   \n",
       "166                            NaN           NaN   \n",
       "167                            NaN           NaN   \n",
       "168                            NaN           NaN   \n",
       "169                            NaN           NaN   \n",
       "\n",
       "     2015 Trust (Government Corruption)  2015 Generosity  2016 Happiness Rank  \\\n",
       "0                               0.41978          0.29678                  2.0   \n",
       "1                               0.14145          0.43630                  3.0   \n",
       "2                               0.48357          0.34139                  1.0   \n",
       "3                               0.36503          0.34699                  4.0   \n",
       "4                               0.32957          0.45811                  6.0   \n",
       "..                                  ...              ...                  ...   \n",
       "165                                 NaN              NaN                  NaN   \n",
       "166                                 NaN              NaN                  NaN   \n",
       "167                                 NaN              NaN                  NaN   \n",
       "168                                 NaN              NaN                  NaN   \n",
       "169                                 NaN              NaN                  NaN   \n",
       "\n",
       "     ...  2018 Trust (Government Corruption)  2018 Generosity  \\\n",
       "0    ...                               0.357            0.256   \n",
       "1    ...                               0.138            0.353   \n",
       "2    ...                               0.408            0.284   \n",
       "3    ...                               0.340            0.286   \n",
       "4    ...                               0.291            0.321   \n",
       "..   ...                                 ...              ...   \n",
       "165  ...                                 NaN              NaN   \n",
       "166  ...                               0.019            0.171   \n",
       "167  ...                               0.154            0.179   \n",
       "168  ...                                 NaN              NaN   \n",
       "169  ...                                 NaN              NaN   \n",
       "\n",
       "     2019 Happiness Rank  2019 Happiness Score  2019 Economy (GDP per Capita)  \\\n",
       "0                    6.0                 7.480                          1.452   \n",
       "1                    4.0                 7.494                          1.380   \n",
       "2                    2.0                 7.600                          1.383   \n",
       "3                    3.0                 7.554                          1.488   \n",
       "4                    9.0                 7.278                          1.365   \n",
       "..                   ...                   ...                            ...   \n",
       "165                  NaN                   NaN                            NaN   \n",
       "166                 39.0                 6.192                          1.231   \n",
       "167                 64.0                 5.718                          1.263   \n",
       "168                 84.0                 5.274                          0.983   \n",
       "169                120.0                 4.516                          0.308   \n",
       "\n",
       "     2019 Family  2019 Health (Life Expectancy)  2019 Freedom  \\\n",
       "0          1.526                          1.052         0.572   \n",
       "1          1.624                          1.026         0.591   \n",
       "2          1.573                          0.996         0.592   \n",
       "3          1.582                          1.028         0.603   \n",
       "4          1.505                          1.039         0.584   \n",
       "..           ...                            ...           ...   \n",
       "165          NaN                            NaN           NaN   \n",
       "166        1.477                          0.713         0.489   \n",
       "167        1.252                          1.042         0.417   \n",
       "168        1.294                          0.838         0.345   \n",
       "169        0.939                          0.428         0.382   \n",
       "\n",
       "     2019 Trust (Government Corruption)  2019 Generosity  \n",
       "0                                 0.343            0.263  \n",
       "1                                 0.118            0.354  \n",
       "2                                 0.410            0.252  \n",
       "3                                 0.341            0.271  \n",
       "4                                 0.308            0.285  \n",
       "..                                  ...              ...  \n",
       "165                                 NaN              NaN  \n",
       "166                               0.016            0.185  \n",
       "167                               0.162            0.191  \n",
       "168                               0.034            0.185  \n",
       "169                               0.167            0.269  \n",
       "\n",
       "[170 rows x 41 columns]"
      ]
     },
     "execution_count": 31,
     "metadata": {},
     "output_type": "execute_result"
    }
   ],
   "source": [
    "merge"
   ]
  },
  {
   "cell_type": "code",
   "execution_count": 32,
   "id": "ed1ffe6a",
   "metadata": {},
   "outputs": [],
   "source": [
    "merge.to_csv('2015-2019 Happiness Score.csv')"
   ]
  },
  {
   "cell_type": "code",
   "execution_count": null,
   "id": "0328bf4d",
   "metadata": {},
   "outputs": [],
   "source": []
  }
 ],
 "metadata": {
  "kernelspec": {
   "display_name": "Python 3 (ipykernel)",
   "language": "python",
   "name": "python3"
  },
  "language_info": {
   "codemirror_mode": {
    "name": "ipython",
    "version": 3
   },
   "file_extension": ".py",
   "mimetype": "text/x-python",
   "name": "python",
   "nbconvert_exporter": "python",
   "pygments_lexer": "ipython3",
   "version": "3.10.10"
  }
 },
 "nbformat": 4,
 "nbformat_minor": 5
}
