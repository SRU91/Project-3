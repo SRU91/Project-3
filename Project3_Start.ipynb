{
 "cells": [
  {
   "cell_type": "code",
   "execution_count": 3,
   "id": "ae160a5c",
   "metadata": {},
   "outputs": [],
   "source": [
    "from config import av_api_key, pd_api_key, vaf_api_key, bc_api_key\n",
    "import requests"
   ]
  },
  {
   "cell_type": "code",
   "execution_count": 4,
   "id": "96ed4c70",
   "metadata": {},
   "outputs": [],
   "source": [
    "av_key = av_api_key\n",
    "pd_key = pd_api_key\n",
    "vaf_key = vaf_api_key\n",
    "bc_key = bc_api_key"
   ]
  },
  {
   "cell_type": "code",
   "execution_count": 9,
   "id": "5e297d9f",
   "metadata": {},
   "outputs": [
    {
     "name": "stdout",
     "output_type": "stream",
     "text": [
      "av_key_key=  SrcuCDCnfroSRIx2auNPScwmUWknVBBG\n",
      "pd_key=  8FIWr5BmN6UcMtG7LlqL4FSG7U74Od4j\n",
      "vaf_key=  U5rPtJwgQBvm4Adi2i7NdqvpK03FLSIc\n",
      "bc_key=  0oandmp8zbVTocfHZ2p7\n"
     ]
    }
   ],
   "source": [
    "################################TEST#######################################\n",
    "print(\"av_key_key= \", av_key)\n",
    "print(\"pd_key= \", pd_key)\n",
    "print(\"vaf_key= \", vaf_key)\n",
    "print(\"bc_key= \", bc_key)"
   ]
  },
  {
   "cell_type": "code",
   "execution_count": null,
   "id": "eb9dad5a",
   "metadata": {},
   "outputs": [],
   "source": [
    "base_url = https://api.va.gov/internal/docs/provider-directory-r4/v0/openapi.json\n",
    "    "
   ]
  },
  {
   "cell_type": "code",
   "execution_count": null,
   "id": "cacfaf40",
   "metadata": {},
   "outputs": [],
   "source": []
  },
  {
   "cell_type": "code",
   "execution_count": null,
   "id": "67b5ffb5",
   "metadata": {},
   "outputs": [],
   "source": []
  }
 ],
 "metadata": {
  "kernelspec": {
   "display_name": "Python 3 (ipykernel)",
   "language": "python",
   "name": "python3"
  },
  "language_info": {
   "codemirror_mode": {
    "name": "ipython",
    "version": 3
   },
   "file_extension": ".py",
   "mimetype": "text/x-python",
   "name": "python",
   "nbconvert_exporter": "python",
   "pygments_lexer": "ipython3",
   "version": "3.10.10"
  }
 },
 "nbformat": 4,
 "nbformat_minor": 5
}
